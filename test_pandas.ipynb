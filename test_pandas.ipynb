{
 "cells": [
  {
   "cell_type": "code",
   "execution_count": 1,
   "metadata": {},
   "outputs": [
    {
     "name": "stdout",
     "output_type": "stream",
     "text": [
      "BlockManager\n",
      "Items: Index(['a', 'b'], dtype='object')\n",
      "Axis 1: RangeIndex(start=0, stop=5, step=1)\n",
      "NumpyBlock: slice(0, 1, 1), 1 x 5, dtype: object\n",
      "NumpyBlock: slice(1, 2, 1), 1 x 5, dtype: int64\n",
      "<class 'numpy.ndarray'>\n",
      "<memory at 0x000001DC19A3F440>\n",
      "40\n",
      "40\n",
      "10111000111110011110010000101101111110010111111100000000000000001101100011111001111001000010110111111001011111110000000000000000111110001111100111100100001011011111100101111111000000000000000001011000111010011110010100101101111110010111111100000000000000001011100011111010111001000010110111111001011111110000000000000000\n",
      "<U11\n",
      "int32\n"
     ]
    },
    {
     "name": "stderr",
     "output_type": "stream",
     "text": [
      "C:\\Users\\Administrator\\AppData\\Local\\Temp\\ipykernel_2828\\947813918.py:8: DeprecationWarning: DataFrame._data is deprecated and will be removed in a future version. Use public APIs instead.\n",
      "  p(df._data)\n",
      "C:\\Users\\Administrator\\AppData\\Local\\Temp\\ipykernel_2828\\947813918.py:9: DeprecationWarning: DataFrame._data is deprecated and will be removed in a future version. Use public APIs instead.\n",
      "  p(type(df._data.blocks[0].values))\n",
      "C:\\Users\\Administrator\\AppData\\Local\\Temp\\ipykernel_2828\\947813918.py:10: DeprecationWarning: DataFrame._data is deprecated and will be removed in a future version. Use public APIs instead.\n",
      "  p(df._data.blocks[0].values.data)\n",
      "C:\\Users\\Administrator\\AppData\\Local\\Temp\\ipykernel_2828\\947813918.py:11: DeprecationWarning: DataFrame._data is deprecated and will be removed in a future version. Use public APIs instead.\n",
      "  p(df._data.blocks[0].values.nbytes)\n",
      "C:\\Users\\Administrator\\AppData\\Local\\Temp\\ipykernel_2828\\947813918.py:12: DeprecationWarning: DataFrame._data is deprecated and will be removed in a future version. Use public APIs instead.\n",
      "  p(df._data.blocks[1].values.nbytes)\n",
      "C:\\Users\\Administrator\\AppData\\Local\\Temp\\ipykernel_2828\\947813918.py:13: DeprecationWarning: DataFrame._data is deprecated and will be removed in a future version. Use public APIs instead.\n",
      "  bytes_ = df._data.blocks[0].values.tobytes()\n"
     ]
    }
   ],
   "source": [
    "import pandas as pd\n",
    "import numpy as np\n",
    "p = lambda x: print(str(x))\n",
    "\n",
    "col_a = [1, 2, 3, \"8\", 9]\n",
    "col_b = [3, 4, 6, 0, 7]\n",
    "df = pd.DataFrame({\"a\": col_a, \"b\": col_b})\n"
   ]
  },
  {
   "cell_type": "code",
   "execution_count": 1,
   "metadata": {},
   "outputs": [
    {
     "ename": "NameError",
     "evalue": "name 'p' is not defined",
     "output_type": "error",
     "traceback": [
      "\u001b[1;31m---------------------------------------------------------------------------\u001b[0m",
      "\u001b[1;31mNameError\u001b[0m                                 Traceback (most recent call last)",
      "Cell \u001b[1;32mIn[1], line 1\u001b[0m\n\u001b[1;32m----> 1\u001b[0m \u001b[43mp\u001b[49m(df\u001b[38;5;241m.\u001b[39m_data)\n\u001b[0;32m      2\u001b[0m p(\u001b[38;5;28mtype\u001b[39m(df\u001b[38;5;241m.\u001b[39m_data\u001b[38;5;241m.\u001b[39mblocks[\u001b[38;5;241m0\u001b[39m]\u001b[38;5;241m.\u001b[39mvalues))\n\u001b[0;32m      3\u001b[0m p(df\u001b[38;5;241m.\u001b[39m_data\u001b[38;5;241m.\u001b[39mblocks[\u001b[38;5;241m0\u001b[39m]\u001b[38;5;241m.\u001b[39mvalues\u001b[38;5;241m.\u001b[39mdata)\n",
      "\u001b[1;31mNameError\u001b[0m: name 'p' is not defined"
     ]
    }
   ],
   "source": [
    "\n",
    "p(df._data)\n",
    "p(type(df._data.blocks[0].values))\n",
    "p(df._data.blocks[0].values.data)\n",
    "p(df._data.blocks[0].values.nbytes)\n",
    "p(df._data.blocks[1].values.nbytes)\n",
    "bytes_ = df._data.blocks[0].values.tobytes()\n",
    "# print(\"\".join(f\"{byte:08b}\" for byte in bytes_))\n",
    "print(\"\".join(\"{:08b}\".format(byte) for byte in bytes_))"
   ]
  },
  {
   "cell_type": "code",
   "execution_count": 2,
   "metadata": {},
   "outputs": [
    {
     "name": "stdout",
     "output_type": "stream",
     "text": [
      "<U11\n",
      "int32\n"
     ]
    }
   ],
   "source": [
    "n = np.array(col_a)\n",
    "p(n.dtype)\n",
    "n = np.array(col_b)\n",
    "p(n.dtype)\n",
    "s = pd.Series(col_a)\n",
    "s.dtype"
   ]
  },
  {
   "cell_type": "code",
   "execution_count": 4,
   "metadata": {},
   "outputs": [
    {
     "data": {
      "text/plain": [
       "array([(0, 0., b''), (0, 0., b'')],\n",
       "      dtype=[('A', '<i4'), ('B', '<f4'), ('C', 'S10')])"
      ]
     },
     "execution_count": 4,
     "metadata": {},
     "output_type": "execute_result"
    }
   ],
   "source": [
    "data = np.zeros((2,), dtype=[(\"A\", \"i4\"), (\"B\", \"f4\"), (\"C\", \"a10\")])\n",
    "data"
   ]
  },
  {
   "cell_type": "code",
   "execution_count": 16,
   "metadata": {},
   "outputs": [
    {
     "name": "stdout",
     "output_type": "stream",
     "text": [
      "nan\n"
     ]
    },
    {
     "data": {
      "text/plain": [
       "True"
      ]
     },
     "execution_count": 16,
     "metadata": {},
     "output_type": "execute_result"
    }
   ],
   "source": [
    "df = pd.DataFrame.from_dict(\n",
    "\n",
    "    dict([(\"A\", [1, 2, 3]), (\"B\", [4, 5, 6])]),\n",
    "\n",
    "    orient=\"index\",\n",
    "\n",
    "    columns=[\"one\", \"two\", \"three\"],\n",
    "\n",
    ")\n",
    "\n",
    "df[\"i\"] = df['one'][:1]\n",
    "x =df.loc['B'][\"i\"]\n",
    "type(x)\n",
    "print(x)\n",
    "np.isnan(x)"
   ]
  },
  {
   "cell_type": "code",
   "execution_count": 17,
   "metadata": {},
   "outputs": [
    {
     "data": {
      "text/plain": [
       "array([[1, 0, 1],\n",
       "       [1, 0, 1]])"
      ]
     },
     "execution_count": 17,
     "metadata": {},
     "output_type": "execute_result"
    }
   ],
   "source": [
    "a = np.array([[1,0,1],[0,1,0]])\n",
    "b = np.array([[0,0,0],[1,1,1]])\n",
    "a ^ b"
   ]
  },
  {
   "cell_type": "code",
   "execution_count": 18,
   "metadata": {},
   "outputs": [
    {
     "data": {
      "text/plain": [
       "array([[1, 0, 1],\n",
       "       [1, 1, 1]])"
      ]
     },
     "execution_count": 18,
     "metadata": {},
     "output_type": "execute_result"
    }
   ],
   "source": [
    "a | b"
   ]
  },
  {
   "cell_type": "code",
   "execution_count": 19,
   "metadata": {},
   "outputs": [
    {
     "data": {
      "text/plain": [
       "array([[1, 0, 0, 0, 0],\n",
       "       [0, 2, 0, 0, 0],\n",
       "       [0, 0, 3, 0, 0],\n",
       "       [0, 0, 0, 4, 0],\n",
       "       [0, 0, 0, 0, 5]])"
      ]
     },
     "execution_count": 19,
     "metadata": {},
     "output_type": "execute_result"
    }
   ],
   "source": [
    "a = np.diag([1,2,3,4,5])\n",
    "a.flat\n"
   ]
  },
  {
   "cell_type": "code",
   "execution_count": 21,
   "metadata": {},
   "outputs": [
    {
     "data": {
      "text/plain": [
       "('Fido', 3, 27.)"
      ]
     },
     "execution_count": 21,
     "metadata": {},
     "output_type": "execute_result"
    }
   ],
   "source": [
    "x = np.array([('Rex', 9, 81.0), ('Fido', 3, 27.0)],\n",
    "             dtype=[('name', 'U10'), ('age', 'i4'), ('weight', 'f4')])\n",
    "x[1]"
   ]
  },
  {
   "cell_type": "code",
   "execution_count": null,
   "metadata": {},
   "outputs": [],
   "source": []
  }
 ],
 "metadata": {
  "kernelspec": {
   "display_name": "Python 3",
   "language": "python",
   "name": "python3"
  },
  "language_info": {
   "codemirror_mode": {
    "name": "ipython",
    "version": 3
   },
   "file_extension": ".py",
   "mimetype": "text/x-python",
   "name": "python",
   "nbconvert_exporter": "python",
   "pygments_lexer": "ipython3",
   "version": "3.12.4"
  }
 },
 "nbformat": 4,
 "nbformat_minor": 2
}
