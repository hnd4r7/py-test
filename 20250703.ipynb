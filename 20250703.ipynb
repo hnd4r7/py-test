{
 "cells": [
  {
   "cell_type": "code",
   "execution_count": null,
   "id": "847f0a21",
   "metadata": {},
   "outputs": [
    {
     "ename": "ModuleNotFoundError",
     "evalue": "No module named 'formulas'",
     "output_type": "error",
     "traceback": [
      "\u001b[1;31m---------------------------------------------------------------------------\u001b[0m\n",
      "\u001b[1;31mModuleNotFoundError\u001b[0m                       Traceback (most recent call last)\n",
      "Cell \u001b[1;32mIn[5], line 1\u001b[0m\n",
      "\u001b[1;32m----> 1\u001b[0m \u001b[38;5;28;01mimport\u001b[39;00m\u001b[38;5;250m \u001b[39m\u001b[38;5;21;01mformulas\u001b[39;00m\n",
      "\u001b[0;32m      2\u001b[0m func \u001b[38;5;241m=\u001b[39m formulas\u001b[38;5;241m.\u001b[39mParser()\u001b[38;5;241m.\u001b[39mast(\u001b[38;5;124m'\u001b[39m\u001b[38;5;124m=(1 + 1) + B3 / A2\u001b[39m\u001b[38;5;124m'\u001b[39m)[\u001b[38;5;241m1\u001b[39m]\u001b[38;5;241m.\u001b[39mcompile()\n",
      "\n",
      "\u001b[1;31mModuleNotFoundError\u001b[0m: No module named 'formulas'"
     ]
    }
   ],
   "source": [
    "import formulas\n",
    "func = formulas.Parser().ast('=(1 + 1) + B3 / A2')[1].compile()"
   ]
  },
  {
   "cell_type": "code",
   "execution_count": null,
   "id": "dbba274d",
   "metadata": {},
   "outputs": [
    {
     "data": {
      "text/plain": [
       "18"
      ]
     },
     "metadata": {},
     "output_type": "display_data"
    }
   ],
   "source": [
    "y = lambda x=9, u=8: x+1+u\n",
    "y()"
   ]
  },
  {
   "cell_type": "code",
   "execution_count": null,
   "id": "5e7ee17c",
   "metadata": {},
   "outputs": [],
   "source": [
    "def partial(func, /, *args, **keywords):\n",
    "    def newfunc(*fargs, **fkeywords):\n",
    "        return func(*(*args, *fargs), **{**keywords, **fkeywords})\n",
    "    newfunc.func = func\n",
    "    newfunc.args = args\n",
    "    newfunc.keywords = keywords\n",
    "    return newfunc"
   ]
  },
  {
   "cell_type": "code",
   "execution_count": null,
   "id": "26bbf956",
   "metadata": {},
   "outputs": [
    {
     "data": {
      "text/plain": [
       "18"
      ]
     },
     "metadata": {},
     "output_type": "display_data"
    }
   ],
   "source": [
    "basetwo = partial(int, base=2)\n",
    "basetwo.__doc__ = 'Convert base 2 string to an int.'\n",
    "basetwo('10010')"
   ]
  },
  {
   "cell_type": "code",
   "execution_count": null,
   "id": "b6dcc3af",
   "metadata": {},
   "outputs": [
    {
     "name": "stdout",
     "output_type": "stream",
     "text": [
      "(1, 2, 2, 4)\n"
     ]
    },
    {
     "data": {
      "text/plain": [
       "[1, 2, 2, 4]"
      ]
     },
     "metadata": {},
     "output_type": "display_data"
    }
   ],
   "source": [
    "a= [1,2]\n",
    "b= [2,4]\n",
    "def x(*args):\n",
    "    print(args)\n",
    "x(*[*a, *b])\n",
    "[*a, *b]"
   ]
  },
  {
   "cell_type": "code",
   "execution_count": null,
   "id": "6f673dbb",
   "metadata": {},
   "outputs": [
    {
     "data": {
      "text/plain": [
       "{1: 3, 4: 2}"
      ]
     },
     "metadata": {},
     "output_type": "display_data"
    }
   ],
   "source": [
    "a = {1:2}\n",
    "b = {4:2, 1:3}\n",
    "[*b]\n",
    "c = {**a, **b}\n",
    "c"
   ]
  },
  {
   "cell_type": "code",
   "execution_count": null,
   "id": "4a853d03",
   "metadata": {},
   "outputs": [
    {
     "ename": "TypeError",
     "evalue": "x() got some positional-only arguments passed as keyword arguments: 'a'",
     "output_type": "error",
     "traceback": [
      "\u001b[1;31m---------------------------------------------------------------------------\u001b[0m\n",
      "\u001b[1;31mTypeError\u001b[0m                                 Traceback (most recent call last)\n",
      "Cell \u001b[1;32mIn[36], line 4\u001b[0m\n",
      "\u001b[0;32m      1\u001b[0m \u001b[38;5;28;01mdef\u001b[39;00m \u001b[38;5;21mx\u001b[39m(a, \u001b[38;5;241m/\u001b[39m):\n",
      "\u001b[0;32m      2\u001b[0m     \u001b[38;5;28mprint\u001b[39m(a)\n",
      "\u001b[1;32m----> 4\u001b[0m \u001b[43mx\u001b[49m\u001b[43m(\u001b[49m\u001b[43ma\u001b[49m\u001b[38;5;241;43m=\u001b[39;49m\u001b[38;5;241;43m2\u001b[39;49m\u001b[43m)\u001b[49m\n",
      "\n",
      "\u001b[1;31mTypeError\u001b[0m: x() got some positional-only arguments passed as keyword arguments: 'a'"
     ]
    }
   ],
   "source": [
    "def x(a, /):\n",
    "    print(a)\n",
    "\n",
    "x(a=2)"
   ]
  },
  {
   "cell_type": "code",
   "execution_count": null,
   "id": "17fa7fb2",
   "metadata": {},
   "outputs": [],
   "source": [
    "import pytest\n",
    "\n",
    "@pytest.fixture\n",
    "def a():\n",
    "    return 1"
   ]
  },
  {
   "cell_type": "code",
   "execution_count": null,
   "id": "86d06943",
   "metadata": {},
   "outputs": [],
   "source": [
    "\n",
    "def is_number(number, xl_return=True, bool_return=False):\n",
    "    if isinstance(number, (bool, np.bool_)):\n",
    "        return bool_return\n",
    "    elif isinstance(number, XlError):\n",
    "        return xl_return\n",
    "    elif number is sh.EMPTY:\n",
    "        return False\n",
    "    else:\n",
    "        try:\n",
    "            float(number)\n",
    "        except (ValueError, TypeError):\n",
    "            return False\n",
    "    return True\n",
    "\n",
    "def _text2num(value):\n",
    "    if isinstance(value, Array) and not value.shape:\n",
    "        value = value.tolist()\n",
    "    if not isinstance(value, Error) and isinstance(value, str):\n",
    "        try:\n",
    "            return float(value)\n",
    "        except (ValueError, TypeError):\n",
    "            from .date import xdate, _text2datetime\n",
    "            try:\n",
    "                return xdate(*_text2datetime(value)[:3])\n",
    "            except (FoundError, AssertionError):\n",
    "                pass\n",
    "    return value\n",
    "\n",
    "\n",
    "def _convert(v):\n",
    "    if isinstance(v, str):\n",
    "        return 0\n",
    "    if isinstance(v, bool):\n",
    "        return int(v)\n",
    "    return v\n",
    "\n",
    "def xfunc(*args, func=max, check=is_number, convert=None, default=0,\n",
    "          _raise=True):\n",
    "    _raise and raise_errors(args)\n",
    "    it = flatten(map(_convert_args, args), check=check)\n",
    "    default = [] if default is None else [default]\n",
    "    return func(list(map(convert, it) if convert else it) or default)"
   ]
  },
  {
   "cell_type": "code",
   "execution_count": null,
   "id": "87728e39",
   "metadata": {},
   "outputs": [
    {
     "ename": "TypeError",
     "evalue": "'<=' not supported between instances of 'int' and 'NoneType'",
     "output_type": "error",
     "traceback": [
      "\u001b[1;31m---------------------------------------------------------------------------\u001b[0m\n",
      "\u001b[1;31mTypeError\u001b[0m                                 Traceback (most recent call last)\n",
      "Cell \u001b[1;32mIn[5], line 3\u001b[0m\n",
      "\u001b[0;32m      1\u001b[0m \u001b[38;5;28;01mimport\u001b[39;00m \u001b[38;5;21;01mnumpy\u001b[39;00m \u001b[38;5;28;01mas\u001b[39;00m \u001b[38;5;21;01mnp\u001b[39;00m\n",
      "\u001b[0;32m      2\u001b[0m \u001b[38;5;66;03m# np.min([1,23,3,np.nan])\u001b[39;00m\n",
      "\u001b[1;32m----> 3\u001b[0m \u001b[43mnp\u001b[49m\u001b[38;5;241;43m.\u001b[39;49m\u001b[43mmin\u001b[49m\u001b[43m(\u001b[49m\u001b[43m[\u001b[49m\u001b[38;5;241;43m1\u001b[39;49m\u001b[43m,\u001b[49m\u001b[38;5;241;43m23\u001b[39;49m\u001b[43m,\u001b[49m\u001b[38;5;241;43m3\u001b[39;49m\u001b[43m,\u001b[49m\u001b[38;5;28;43;01mNone\u001b[39;49;00m\u001b[43m]\u001b[49m\u001b[43m)\u001b[49m\n",
      "\n",
      "File \u001b[1;32mc:\\Users\\hnd4r7\\AppData\\Local\\Programs\\Python\\Python312\\Lib\\site-packages\\numpy\\_core\\fromnumeric.py:3343\u001b[0m, in \u001b[0;36mmin\u001b[1;34m(a, axis, out, keepdims, initial, where)\u001b[0m\n",
      "\u001b[0;32m   3225\u001b[0m \u001b[38;5;129m@array_function_dispatch\u001b[39m(_min_dispatcher)\n",
      "\u001b[0;32m   3226\u001b[0m \u001b[38;5;28;01mdef\u001b[39;00m \u001b[38;5;21mmin\u001b[39m(a, axis\u001b[38;5;241m=\u001b[39m\u001b[38;5;28;01mNone\u001b[39;00m, out\u001b[38;5;241m=\u001b[39m\u001b[38;5;28;01mNone\u001b[39;00m, keepdims\u001b[38;5;241m=\u001b[39mnp\u001b[38;5;241m.\u001b[39m_NoValue, initial\u001b[38;5;241m=\u001b[39mnp\u001b[38;5;241m.\u001b[39m_NoValue,\n",
      "\u001b[0;32m   3227\u001b[0m         where\u001b[38;5;241m=\u001b[39mnp\u001b[38;5;241m.\u001b[39m_NoValue):\n",
      "\u001b[0;32m   3228\u001b[0m \u001b[38;5;250m    \u001b[39m\u001b[38;5;124;03m\"\"\"\u001b[39;00m\n",
      "\u001b[0;32m   3229\u001b[0m \u001b[38;5;124;03m    Return the minimum of an array or minimum along an axis.\u001b[39;00m\n",
      "\u001b[0;32m   3230\u001b[0m \n",
      "\u001b[1;32m   (...)\u001b[0m\n",
      "\u001b[0;32m   3341\u001b[0m \u001b[38;5;124;03m    6\u001b[39;00m\n",
      "\u001b[0;32m   3342\u001b[0m \u001b[38;5;124;03m    \"\"\"\u001b[39;00m\n",
      "\u001b[1;32m-> 3343\u001b[0m     \u001b[38;5;28;01mreturn\u001b[39;00m \u001b[43m_wrapreduction\u001b[49m\u001b[43m(\u001b[49m\u001b[43ma\u001b[49m\u001b[43m,\u001b[49m\u001b[43m \u001b[49m\u001b[43mnp\u001b[49m\u001b[38;5;241;43m.\u001b[39;49m\u001b[43mminimum\u001b[49m\u001b[43m,\u001b[49m\u001b[43m \u001b[49m\u001b[38;5;124;43m'\u001b[39;49m\u001b[38;5;124;43mmin\u001b[39;49m\u001b[38;5;124;43m'\u001b[39;49m\u001b[43m,\u001b[49m\u001b[43m \u001b[49m\u001b[43maxis\u001b[49m\u001b[43m,\u001b[49m\u001b[43m \u001b[49m\u001b[38;5;28;43;01mNone\u001b[39;49;00m\u001b[43m,\u001b[49m\u001b[43m \u001b[49m\u001b[43mout\u001b[49m\u001b[43m,\u001b[49m\n",
      "\u001b[0;32m   3344\u001b[0m \u001b[43m                          \u001b[49m\u001b[43mkeepdims\u001b[49m\u001b[38;5;241;43m=\u001b[39;49m\u001b[43mkeepdims\u001b[49m\u001b[43m,\u001b[49m\u001b[43m \u001b[49m\u001b[43minitial\u001b[49m\u001b[38;5;241;43m=\u001b[39;49m\u001b[43minitial\u001b[49m\u001b[43m,\u001b[49m\u001b[43m \u001b[49m\u001b[43mwhere\u001b[49m\u001b[38;5;241;43m=\u001b[39;49m\u001b[43mwhere\u001b[49m\u001b[43m)\u001b[49m\n",
      "\n",
      "File \u001b[1;32mc:\\Users\\hnd4r7\\AppData\\Local\\Programs\\Python\\Python312\\Lib\\site-packages\\numpy\\_core\\fromnumeric.py:86\u001b[0m, in \u001b[0;36m_wrapreduction\u001b[1;34m(obj, ufunc, method, axis, dtype, out, **kwargs)\u001b[0m\n",
      "\u001b[0;32m     83\u001b[0m         \u001b[38;5;28;01melse\u001b[39;00m:\n",
      "\u001b[0;32m     84\u001b[0m             \u001b[38;5;28;01mreturn\u001b[39;00m reduction(axis\u001b[38;5;241m=\u001b[39maxis, out\u001b[38;5;241m=\u001b[39mout, \u001b[38;5;241m*\u001b[39m\u001b[38;5;241m*\u001b[39mpasskwargs)\n",
      "\u001b[1;32m---> 86\u001b[0m \u001b[38;5;28;01mreturn\u001b[39;00m \u001b[43mufunc\u001b[49m\u001b[38;5;241;43m.\u001b[39;49m\u001b[43mreduce\u001b[49m\u001b[43m(\u001b[49m\u001b[43mobj\u001b[49m\u001b[43m,\u001b[49m\u001b[43m \u001b[49m\u001b[43maxis\u001b[49m\u001b[43m,\u001b[49m\u001b[43m \u001b[49m\u001b[43mdtype\u001b[49m\u001b[43m,\u001b[49m\u001b[43m \u001b[49m\u001b[43mout\u001b[49m\u001b[43m,\u001b[49m\u001b[43m \u001b[49m\u001b[38;5;241;43m*\u001b[39;49m\u001b[38;5;241;43m*\u001b[39;49m\u001b[43mpasskwargs\u001b[49m\u001b[43m)\u001b[49m\n",
      "\n",
      "\u001b[1;31mTypeError\u001b[0m: '<=' not supported between instances of 'int' and 'NoneType'"
     ]
    },
    {
     "ename": "",
     "evalue": "",
     "output_type": "error",
     "traceback": [
      "\u001b[1;31mThe Kernel crashed while executing code in the current cell or a previous cell. \n",
      "\n",
      "\u001b[1;31mPlease review the code in the cell(s) to identify a possible cause of the failure. \n",
      "\n",
      "\u001b[1;31mClick <a href='https://aka.ms/vscodeJupyterKernelCrash'>here</a> for more info. \n",
      "\n",
      "\u001b[1;31mView Jupyter <a href='command:jupyter.viewOutput'>log</a> for further details."
     ]
    }
   ],
   "source": [
    "import numpy as np\n",
    "# np.min([1,23,3,np.nan])\n",
    "np.min([1,23,3,None])"
   ]
  },
  {
   "cell_type": "code",
   "execution_count": null,
   "id": "c4e2d342",
   "metadata": {},
   "outputs": [
    {
     "data": {
      "text/plain": [
       "float"
      ]
     },
     "metadata": {},
     "output_type": "display_data"
    }
   ],
   "source": [
    "a = 0.\n",
    "type(a)"
   ]
  },
  {
   "cell_type": "code",
   "execution_count": null,
   "id": "b9272f01",
   "metadata": {},
   "outputs": [
    {
     "data": {
      "image/png": "[encoded data removed]",
      "text/plain": [
       "<Figure size 800x500 with 1 Axes>"
      ]
     },
     "metadata": {},
     "output_type": "display_data"
    }
   ],
   "source": [
    "import numpy as np\n",
    "import matplotlib.pyplot as plt\n",
    "\n",
    "# Create an array of x values from 0.1 to 10 (avoiding 0 to prevent log2(0))\n",
    "x = np.linspace(0.1, 10, 400)\n",
    "\n",
    "# Calculate the log base 2 of x\n",
    "y = np.log2(x)\n",
    "\n",
    "# Create the plot\n",
    "plt.figure(figsize=(8, 5))\n",
    "plt.plot(x, y, label='y = log2(x)', color='blue')\n",
    "\n",
    "# Add labels and title\n",
    "plt.title('Plot of the log2 function')\n",
    "plt.xlabel('x')\n",
    "plt.ylabel('log2(x)')\n",
    "plt.axhline(0, color='black',linewidth=0.5, ls='--')\n",
    "plt.axvline(0, color='black',linewidth=0.5, ls='--')\n",
    "plt.grid(color = 'gray', linestyle = '--', linewidth = 0.5)\n",
    "plt.legend()\n",
    "plt.xlim(0, 10)\n",
    "plt.ylim(-5, 5)\n",
    "\n",
    "# Show the plot\n",
    "plt.show()\n"
   ]
  },
  {
   "cell_type": "code",
   "execution_count": null,
   "id": "66d86be6",
   "metadata": {},
   "outputs": [
    {
     "data": {
      "text/plain": [
       "np.float64(-3.0)"
      ]
     },
     "metadata": {},
     "output_type": "display_data"
    }
   ],
   "source": [
    "import pandas as pd\n",
    "import numpy as np\n",
    "np.log(2)\n",
    "np.log2(1/8)"
   ]
  },
  {
   "cell_type": "code",
   "execution_count": null,
   "id": "2403339d",
   "metadata": {},
   "outputs": [
    {
     "name": "stderr",
     "output_type": "stream",
     "text": [
      "C:\\Users\\hnd4r7\\AppData\\Local\\Temp\\ipykernel_20664\\2251961259.py:1: RuntimeWarning: divide by zero encountered in log2\n",
      "  np.log2(0)\n"
     ]
    },
    {
     "data": {
      "text/plain": [
       "np.float64(-inf)"
      ]
     },
     "metadata": {},
     "output_type": "display_data"
    }
   ],
   "source": [
    "np.log2(0)"
   ]
  },
  {
   "cell_type": "code",
   "execution_count": null,
   "id": "3c63d8be",
   "metadata": {},
   "outputs": [
    {
     "name": "stderr",
     "output_type": "stream",
     "text": [
      "C:\\Users\\hnd4r7\\AppData\\Local\\Temp\\ipykernel_20664\\3483041682.py:2: RuntimeWarning: divide by zero encountered in log2\n",
      "  -p1*np.log2(p1) - (1-p1)*np.log2(1-p1)\n",
      "C:\\Users\\hnd4r7\\AppData\\Local\\Temp\\ipykernel_20664\\3483041682.py:2: RuntimeWarning: invalid value encountered in scalar multiply\n",
      "  -p1*np.log2(p1) - (1-p1)*np.log2(1-p1)\n"
     ]
    },
    {
     "data": {
      "text/plain": [
       "np.float64(nan)"
      ]
     },
     "metadata": {},
     "output_type": "display_data"
    }
   ],
   "source": [
    "p1 = 1\n",
    "-p1*np.log2(p1) - (1-p1)*np.log2(1-p1)"
   ]
  },
  {
   "cell_type": "code",
   "execution_count": null,
   "id": "4479d965",
   "metadata": {},
   "outputs": [
    {
     "data": {
      "text/plain": [
       "array([0, 0, 0, 0, 0, 0, 1, 1, 1, 1])"
      ]
     },
     "metadata": {},
     "output_type": "display_data"
    }
   ],
   "source": [
    "a = np.arange(10)\n",
    "import pandas as pd\n",
    "import numpy as np\n",
    "import tensorflow as tf\n",
    "np.where(a, a>5, a*10)\n"
   ]
  },
  {
   "cell_type": "code",
   "execution_count": null,
   "id": "4d35997b",
   "metadata": {},
   "outputs": [
    {
     "data": {
      "text/plain": [
       "np.int64(10)"
      ]
     },
     "metadata": {},
     "output_type": "display_data"
    }
   ],
   "source": [
    "# x = np.array([[1,2],[3,4]])\n",
    "x = [[1,2],[3,4]]\n",
    "np.sum(x)"
   ]
  },
  {
   "cell_type": "code",
   "execution_count": null,
   "id": "8f91f38b",
   "metadata": {},
   "outputs": [
    {
     "data": {
      "text/plain": [
       "np.float64(6.708203932499369)"
      ]
     },
     "metadata": {},
     "output_type": "display_data"
    }
   ],
   "source": [
    "a = np.array([[1,2],[3,4]])\n",
    "b = np.array([[0,1],[1,1]])\n",
    "# sum(a**2)\n",
    "c = a-b\n",
    "c**2\n",
    "c**2, sum(sum(c**2))\n",
    "\n",
    "a = np.array([[[1,1],[3,2]],[[3,1],[4,2]]])\n",
    "sum(a)\n",
    "a\n",
    "\n",
    "import pandas as pd\n",
    "import numpy as np\n",
    "\n",
    "\n",
    "np.linalg.norm(a)"
   ]
  },
  {
   "cell_type": "code",
   "execution_count": null,
   "id": "b658f5a6",
   "metadata": {},
   "outputs": [
    {
     "name": "stdout",
     "output_type": "stream",
     "text": [
      "First three elements in idx are: [0 1 2]\n"
     ]
    }
   ],
   "source": [
    "from math import inf\n",
    "\n",
    "def find_closest_centroids(X, centroids):\n",
    "    \"\"\"\n",
    "    Computes the centroid memberships for every example\n",
    "    \n",
    "    Args:\n",
    "        X (ndarray): (m, n) Input values      \n",
    "        centroids (ndarray): (K, n) centroids\n",
    "    \n",
    "    Returns:\n",
    "        idx (array_like): (m,) closest centroids\n",
    "    \n",
    "    \"\"\"\n",
    "\n",
    "    # Set K\n",
    "    K = centroids.shape[0]\n",
    "\n",
    "    # You need to return the following variables correctly\n",
    "    idx = np.zeros(X.shape[0], dtype=int)\n",
    "\n",
    "    ### START CODE HERE ###\n",
    "    for i in range(X.shape[0]):\n",
    "        min_dis = inf\n",
    "        for c in range(centroids.shape[0]):\n",
    "            ndis = np.sum((X[i] - centroids[c]) ** 2)\n",
    "            dis = min(min_dis, ndis)\n",
    "            if dis < min_dis:\n",
    "                idx[i] = i\n",
    "                min_dis = dis\n",
    "     ### END CODE HERE ###\n",
    "    \n",
    "    return idx\n",
    "\n",
    "X = np.array([[1.84207953, 4.6075716 ],\n",
    " [5.65858312, 4.79996405],\n",
    " [6.35257892, 3.2908545 ],\n",
    " [2.90401653, 4.61220411],\n",
    " [3.23197916, 4.93989405]])\n",
    "\n",
    "# Select an initial set of centroids (3 Centroids)\n",
    "initial_centroids = np.array([[3,3], [6,2], [8,5]])\n",
    "\n",
    "# Find closest centroids using initial_centroids\n",
    "idx = find_closest_centroids(X, initial_centroids)\n",
    "\n",
    "# Print closest centroids for the first three elements\n",
    "print(\"First three elements in idx are:\", idx[:3])"
   ]
  },
  {
   "cell_type": "code",
   "execution_count": null,
   "id": "2cb6a64b",
   "metadata": {},
   "outputs": [
    {
     "data": {
      "text/plain": [
       "array([1, 0])"
      ]
     },
     "metadata": {},
     "output_type": "display_data"
    }
   ],
   "source": [
    "import pandas as pd\n",
    "import numpy as np\n",
    "np.argmin([[7,2],[3,4]], axis = 0)"
   ]
  },
  {
   "cell_type": "code",
   "execution_count": null,
   "id": "829b4139",
   "metadata": {},
   "outputs": [
    {
     "ename": "TypeError",
     "evalue": "'list' object cannot be interpreted as an integer",
     "output_type": "error",
     "traceback": [
      "\u001b[1;31m---------------------------------------------------------------------------\u001b[0m\n",
      "\u001b[1;31mTypeError\u001b[0m                                 Traceback (most recent call last)\n",
      "Cell \u001b[1;32mIn[19], line 9\u001b[0m\n",
      "\u001b[0;32m      4\u001b[0m a \u001b[38;5;241m=\u001b[39m np\u001b[38;5;241m.\u001b[39marray([])\n",
      "\u001b[0;32m      6\u001b[0m \u001b[38;5;66;03m# a = np.append(a, [[1,2]], axis=0)\u001b[39;00m\n",
      "\u001b[0;32m      7\u001b[0m \u001b[38;5;66;03m# a = np.append(a, [1,2,23], axis=0)\u001b[39;00m\n",
      "\u001b[0;32m      8\u001b[0m \u001b[38;5;66;03m# a\u001b[39;00m\n",
      "\u001b[1;32m----> 9\u001b[0m \u001b[43mnp\u001b[49m\u001b[38;5;241;43m.\u001b[39;49m\u001b[43mconcat\u001b[49m\u001b[43m(\u001b[49m\u001b[43m[\u001b[49m\u001b[38;5;241;43m1\u001b[39;49m\u001b[43m,\u001b[49m\u001b[38;5;241;43m2\u001b[39;49m\u001b[43m]\u001b[49m\u001b[43m,\u001b[49m\u001b[43m \u001b[49m\u001b[43m[\u001b[49m\u001b[38;5;241;43m3\u001b[39;49m\u001b[43m,\u001b[49m\u001b[38;5;241;43m4\u001b[39;49m\u001b[43m]\u001b[49m\u001b[43m)\u001b[49m\n",
      "\n",
      "\u001b[1;31mTypeError\u001b[0m: 'list' object cannot be interpreted as an integer"
     ]
    }
   ],
   "source": [
    "import pandas as pd\n",
    "import numpy as np\n",
    "\n",
    "a = np.array([])\n",
    "\n",
    "# a = np.append(a, [[1,2]], axis=0)\n",
    "# a = np.append(a, [1,2,23], axis=0)\n",
    "# a\n",
    "np.concat([1,2], [3,4])\n"
   ]
  },
  {
   "cell_type": "code",
   "execution_count": null,
   "id": "0ea52dc7",
   "metadata": {},
   "outputs": [
    {
     "data": {
      "text/plain": [
       "array([[1., 2.],\n",
       "       [0., 0.]])"
      ]
     },
     "metadata": {},
     "output_type": "display_data"
    }
   ],
   "source": [
    "x= np.zeros((2,2))\n",
    "x[0] = [1,2]\n"
   ]
  },
  {
   "cell_type": "code",
   "execution_count": null,
   "id": "1cec1488",
   "metadata": {},
   "outputs": [
    {
     "data": {
      "text/plain": [
       "array([1.5, 4.5])"
      ]
     },
     "metadata": {},
     "output_type": "display_data"
    }
   ],
   "source": [
    "np.mean([[1,2], [2,7]], axis=0)"
   ]
  },
  {
   "cell_type": "code",
   "execution_count": null,
   "id": "f4f32775",
   "metadata": {},
   "outputs": [
    {
     "data": {
      "image/png": "[encoded data removed]",
      "text/plain": [
       "<Figure size 640x480 with 1 Axes>"
      ]
     },
     "metadata": {},
     "output_type": "display_data"
    }
   ],
   "source": [
    "import collections\n",
    "import matplotlib.pyplot as plt\n",
    "\n",
    "\n",
    "def generate_cdf(arr):\n",
    "    counter = collections.Counter(arr)\n",
    "    sorted_items = sorted(counter.items())\n",
    "\n",
    "    total = sum(counter.values())\n",
    "    cdf = []\n",
    "    cumulative = 0\n",
    "\n",
    "    for num, freq in sorted_items:\n",
    "        cumulative += freq\n",
    "        cdf.append((num, cumulative / total))\n",
    "\n",
    "    return cdf\n",
    "\n",
    "\n",
    "# Example usage\n",
    "arr = [1, 2, 2, 3, 3, 3, 4, 4, 4, 4]\n",
    "cdf_result = generate_cdf(arr)\n",
    "\n",
    "x_values = [num for num, _ in cdf_result]\n",
    "y_values = [cdf_value for _, cdf_value in cdf_result]\n",
    "\n",
    "plt.plot(x_values, y_values, marker='o')\n",
    "# plt.xlabel('Value')\n",
    "# plt.ylabel('Cumulative Distribution Function')\n",
    "# plt.title('Cumulative Distribution Function Plot')\n",
    "# plt.ylim(0, 1)  # Set the y-axis limits from 0 to 1 for the CDF\n",
    "# plt.grid(True)\n",
    "plt.show()"
   ]
  },
  {
   "cell_type": "code",
   "execution_count": null,
   "id": "bae13144",
   "metadata": {},
   "outputs": [
    {
     "data": {
      "image/png": "[encoded data removed]",
      "text/plain": [
       "<Figure size 640x480 with 1 Axes>"
      ]
     },
     "metadata": {},
     "output_type": "display_data"
    }
   ],
   "source": [
    "j"
   ]
  },
  {
   "cell_type": "code",
   "execution_count": null,
   "id": "90915e74",
   "metadata": {},
   "outputs": [
    {
     "name": "stdout",
     "output_type": "stream",
     "text": [
      "The highest sum with cumulative probability <= 0.5 is 6\n"
     ]
    }
   ],
   "source": [
    "import numpy as np\n",
    "\n",
    "# Number of simulations\n",
    "num_simulations = 100000\n",
    "# Number of sides of the dice\n",
    "n = 6\n",
    "\n",
    "# Simulate two dice rolls\n",
    "first_rolls = np.random.randint(1, n + 1, num_simulations)\n",
    "second_rolls = np.random.randint(1, n + 1, num_simulations)\n",
    "sums = first_rolls + second_rolls\n",
    "\n",
    "# Calculate the frequency of each sum\n",
    "unique_sums, counts = np.unique(sums, return_counts=True)\n",
    "probabilities = counts / num_simulations\n",
    "\n",
    "# Calculate the cumulative probability\n",
    "cumulative_probabilities = np.cumsum(probabilities)\n",
    "\n",
    "# Find the highest sum with cumulative probability <= 0.5\n",
    "valid_indices = np.where(cumulative_probabilities <= 0.5)[0]\n",
    "if len(valid_indices) > 0:\n",
    "    highest_sum = unique_sums[valid_indices[-1]]\n",
    "    print(f\"The highest sum with cumulative probability <= 0.5 is {highest_sum}\")\n",
    "else:\n",
    "    print(\"No sum has a cumulative probability <= 0.5\")"
   ]
  },
  {
   "cell_type": "code",
   "execution_count": null,
   "id": "099d7ce9",
   "metadata": {},
   "outputs": [],
   "source": [
    "a = 1.96 * 25 / 3 "
   ]
  },
  {
   "cell_type": "code",
   "execution_count": null,
   "id": "7e31c90d",
   "metadata": {},
   "outputs": [
    {
     "data": {
      "text/plain": [
       "266.7777777777777"
      ]
     },
     "metadata": {},
     "output_type": "display_data"
    }
   ],
   "source": [
    "a**2"
   ]
  },
  {
   "cell_type": "code",
   "execution_count": null,
   "id": "2ea173ec",
   "metadata": {},
   "outputs": [
    {
     "name": "stdout",
     "output_type": "stream",
     "text": [
      "Expression(\n",
      "    body=Dict(\n",
      "        keys=[\n",
      "            Constant(value='a'),\n",
      "            None],\n",
      "        values=[\n",
      "            Constant(value=1),\n",
      "            Name(id='d', ctx=Load())]))\n"
     ]
    }
   ],
   "source": [
    "import ast\n",
    "print(ast.dump(ast.parse('{\"a\":1, **d}', mode='eval'), indent=4))"
   ]
  },
  {
   "cell_type": "code",
   "execution_count": null,
   "id": "dfc3166f",
   "metadata": {},
   "outputs": [
    {
     "data": {
      "text/plain": [
       "[<ast.For at 0x271c2f25850>, <ast.Expr at 0x271c2f27b90>]"
      ]
     },
     "metadata": {},
     "output_type": "display_data"
    }
   ],
   "source": [
    "tree = ast.parse(\"\"\"\n",
    "for x in y:\n",
    "    ...\n",
    "else:\n",
    "    ...\n",
    "print(123)\n",
    "\"\"\")\n",
    "# print(ast.dump(tree, indent=4))\n",
    "# [node  for node in tree.body]\n",
    "tree.body"
   ]
  },
  {
   "cell_type": "code",
   "execution_count": null,
   "id": "3549f34b",
   "metadata": {},
   "outputs": [],
   "source": [
    "[1,2]"
   ]
  },
  {
   "cell_type": "code",
   "execution_count": null,
   "id": "d28393f4",
   "metadata": {},
   "outputs": [
    {
     "name": "stdout",
     "output_type": "stream",
     "text": [
      "888\n",
      "888\n"
     ]
    }
   ],
   "source": [
    "class X:\n",
    "    def xx(self):\n",
    "        print(123)\n",
    "\n",
    "def y(self):\n",
    "    print(888)\n",
    "\n",
    "x = X()\n",
    "\n",
    "X.xx = y\n",
    "\n",
    "x.xx()\n",
    "\n",
    "u = X()\n",
    "u.xx()"
   ]
  },
  {
   "cell_type": "code",
   "execution_count": null,
   "id": "9029f200",
   "metadata": {},
   "outputs": [
    {
     "name": "stdout",
     "output_type": "stream",
     "text": [
      "84\n"
     ]
    }
   ],
   "source": [
    "class MyClass:\n",
    "    def __init__(self):\n",
    "        self._value = 42\n",
    "\n",
    "    @property\n",
    "    def value(self):\n",
    "        return self._value\n",
    "\n",
    "# Replace the property with a new one\n",
    "MyClass.value = property(lambda self: self._value * 2)\n",
    "\n",
    "# Test it\n",
    "obj = MyClass()\n",
    "print(obj.value)  # Outputs: 84 (42 * 2)"
   ]
  },
  {
   "cell_type": "code",
   "execution_count": null,
   "id": "03a7ac91",
   "metadata": {},
   "outputs": [
    {
     "data": {
      "text/plain": [
       "'{\"1\": \"2\"}'"
      ]
     },
     "metadata": {},
     "output_type": "display_data"
    }
   ],
   "source": [
    "import json\n",
    "a = json.loads('{\"1\":\"2\"}')\n",
    "json.dumps(a)"
   ]
  },
  {
   "cell_type": "code",
   "execution_count": null,
   "id": "3588b763",
   "metadata": {},
   "outputs": [
    {
     "data": {
      "text/plain": [
       "'sdkfjdslf'"
      ]
     },
     "metadata": {},
     "output_type": "display_data"
    }
   ],
   "source": [
    "s = \"fff/dd\"\n",
    "s = 'sdkfjdslf'\n",
    "s[s.index('/')+1:] if '/' in s else s"
   ]
  },
  {
   "cell_type": "code",
   "execution_count": null,
   "id": "55c38eb9",
   "metadata": {},
   "outputs": [
    {
     "data": {
      "text/plain": [
       "False"
      ]
     },
     "metadata": {},
     "output_type": "display_data"
    }
   ],
   "source": [
    "m = {\"id\":2}\n",
    "hasattr(m, \"id\")"
   ]
  },
  {
   "cell_type": "code",
   "execution_count": null,
   "id": "419d77c8",
   "metadata": {},
   "outputs": [
    {
     "data": {
      "text/plain": [
       "'dd'"
      ]
     },
     "metadata": {},
     "output_type": "display_data"
    }
   ],
   "source": [
    "module_name = \"dd\"\n",
    "package_name, _, _ = module_name.rpartition(\".\")\n",
    "package_name = \".\".join(module_name.split(\".\")[:-1]) if \".\" in module_name else module_name\n",
    "package_name"
   ]
  },
  {
   "cell_type": "code",
   "execution_count": null,
   "id": "bb550ac7",
   "metadata": {},
   "outputs": [
    {
     "data": {
      "text/plain": [
       "'fkds'"
      ]
     },
     "metadata": {},
     "output_type": "display_data"
    }
   ],
   "source": [
    "\".\".join([\"fkds\"])"
   ]
  },
  {
   "cell_type": "code",
   "execution_count": null,
   "id": "c1297da2",
   "metadata": {},
   "outputs": [
    {
     "data": {
      "text/plain": [
       "{'sys': <module 'sys' (built-in)>,\n",
       " 'builtins': <module 'builtins' (built-in)>,\n",
       " '_frozen_importlib': <module '_frozen_importlib' (frozen)>,\n",
       " '_imp': <module '_imp' (built-in)>,\n",
       " '_thread': <module '_thread' (built-in)>,\n",
       " '_warnings': <module '_warnings' (built-in)>,\n",
       " '_weakref': <module '_weakref' (built-in)>,\n",
       " 'winreg': <module 'winreg' (built-in)>,\n",
       " '_io': <module '_io' (built-in)>,\n",
       " 'marshal': <module 'marshal' (built-in)>,\n",
       " 'nt': <module 'nt' (built-in)>,\n",
       " '_frozen_importlib_external': <module '_frozen_importlib_external' (frozen)>,\n",
       " 'time': <module 'time' (built-in)>,\n",
       " 'zipimport': <module 'zipimport' (frozen)>,\n",
       " '_codecs': <module '_codecs' (built-in)>,\n",
       " 'codecs': <module 'codecs' (frozen)>,\n",
       " 'encodings.aliases': <module 'encodings.aliases' from 'c:\\\\Users\\\\hnd4r7\\\\AppData\\\\Local\\\\Programs\\\\Python\\\\Python312\\\\Lib\\\\encodings\\\\aliases.py'>,\n",
       " 'encodings': <module 'encodings' from 'c:\\\\Users\\\\hnd4r7\\\\AppData\\\\Local\\\\Programs\\\\Python\\\\Python312\\\\Lib\\\\encodings\\\\__init__.py'>,\n",
       " 'encodings.utf_8': <module 'encodings.utf_8' from 'c:\\\\Users\\\\hnd4r7\\\\AppData\\\\Local\\\\Programs\\\\Python\\\\Python312\\\\Lib\\\\encodings\\\\utf_8.py'>,\n",
       " '_signal': <module '_signal' (built-in)>,\n",
       " '_abc': <module '_abc' (built-in)>,\n",
       " 'abc': <module 'abc' (frozen)>,\n",
       " 'io': <module 'io' (frozen)>,\n",
       " '__main__': <module '__main__'>,\n",
       " '_stat': <module '_stat' (built-in)>,\n",
       " 'stat': <module 'stat' (frozen)>,\n",
       " '_collections_abc': <module '_collections_abc' (frozen)>,\n",
       " 'genericpath': <module 'genericpath' (frozen)>,\n",
       " '_winapi': <module '_winapi' (built-in)>,\n",
       " 'ntpath': <module 'ntpath' (frozen)>,\n",
       " 'os.path': <module 'ntpath' (frozen)>,\n",
       " 'os': <module 'os' (frozen)>,\n",
       " '_sitebuiltins': <module '_sitebuiltins' (frozen)>,\n",
       " 'encodings.utf_8_sig': <module 'encodings.utf_8_sig' from 'c:\\\\Users\\\\hnd4r7\\\\AppData\\\\Local\\\\Programs\\\\Python\\\\Python312\\\\Lib\\\\encodings\\\\utf_8_sig.py'>,\n",
       " '_distutils_hack': <module '_distutils_hack' from 'c:\\\\Users\\\\hnd4r7\\\\AppData\\\\Local\\\\Programs\\\\Python\\\\Python312\\\\Lib\\\\site-packages\\\\_distutils_hack\\\\__init__.py'>,\n",
       " 'pywin32_system32': <module 'pywin32_system32' (namespace) from ['c:\\\\Users\\\\hnd4r7\\\\AppData\\\\Local\\\\Programs\\\\Python\\\\Python312\\\\Lib\\\\site-packages\\\\pywin32_system32']>,\n",
       " 'pywin32_bootstrap': <module 'pywin32_bootstrap' from 'c:\\\\Users\\\\hnd4r7\\\\AppData\\\\Local\\\\Programs\\\\Python\\\\Python312\\\\Lib\\\\site-packages\\\\win32\\\\lib\\\\pywin32_bootstrap.py'>,\n",
       " 'site': <module 'site' (frozen)>,\n",
       " 'importlib._bootstrap': <module '_frozen_importlib' (frozen)>,\n",
       " 'importlib._bootstrap_external': <module '_frozen_importlib_external' (frozen)>,\n",
       " 'warnings': <module 'warnings' from 'c:\\\\Users\\\\hnd4r7\\\\AppData\\\\Local\\\\Programs\\\\Python\\\\Python312\\\\Lib\\\\warnings.py'>,\n",
       " 'importlib': <module 'importlib' from 'c:\\\\Users\\\\hnd4r7\\\\AppData\\\\Local\\\\Programs\\\\Python\\\\Python312\\\\Lib\\\\importlib\\\\__init__.py'>,\n",
       " 'importlib.machinery': <module 'importlib.machinery' (frozen)>,\n",
       " 'importlib._abc': <module 'importlib._abc' from 'c:\\\\Users\\\\hnd4r7\\\\AppData\\\\Local\\\\Programs\\\\Python\\\\Python312\\\\Lib\\\\importlib\\\\_abc.py'>,\n",
       " 'types': <module 'types' from 'c:\\\\Users\\\\hnd4r7\\\\AppData\\\\Local\\\\Programs\\\\Python\\\\Python312\\\\Lib\\\\types.py'>,\n",
       " 'importlib.util': <module 'importlib.util' (frozen)>,\n",
       " 'runpy': <module 'runpy' (frozen)>,\n",
       " 'posixpath': <module 'posixpath' (frozen)>,\n",
       " '_operator': <module '_operator' (built-in)>,\n",
       " 'operator': <module 'operator' from 'c:\\\\Users\\\\hnd4r7\\\\AppData\\\\Local\\\\Programs\\\\Python\\\\Python312\\\\Lib\\\\operator.py'>,\n",
       " 'itertools': <module 'itertools' (built-in)>,\n",
       " 'keyword': <module 'keyword' from 'c:\\\\Users\\\\hnd4r7\\\\AppData\\\\Local\\\\Programs\\\\Python\\\\Python312\\\\Lib\\\\keyword.py'>,\n",
       " 'reprlib': <module 'reprlib' from 'c:\\\\Users\\\\hnd4r7\\\\AppData\\\\Local\\\\Programs\\\\Python\\\\Python312\\\\Lib\\\\reprlib.py'>,\n",
       " '_collections': <module '_collections' (built-in)>,\n",
       " 'collections': <module 'collections' from 'c:\\\\Users\\\\hnd4r7\\\\AppData\\\\Local\\\\Programs\\\\Python\\\\Python312\\\\Lib\\\\collections\\\\__init__.py'>,\n",
       " '_functools': <module '_functools' (built-in)>,\n",
       " 'functools': <module 'functools' from 'c:\\\\Users\\\\hnd4r7\\\\AppData\\\\Local\\\\Programs\\\\Python\\\\Python312\\\\Lib\\\\functools.py'>,\n",
       " 'enum': <module 'enum' from 'c:\\\\Users\\\\hnd4r7\\\\AppData\\\\Local\\\\Programs\\\\Python\\\\Python312\\\\Lib\\\\enum.py'>,\n",
       " '_sre': <module '_sre' (built-in)>,\n",
       " 're._constants': <module 're._constants' from 'c:\\\\Users\\\\hnd4r7\\\\AppData\\\\Local\\\\Programs\\\\Python\\\\Python312\\\\Lib\\\\re\\\\_constants.py'>,\n",
       " 're._parser': <module 're._parser' from 'c:\\\\Users\\\\hnd4r7\\\\AppData\\\\Local\\\\Programs\\\\Python\\\\Python312\\\\Lib\\\\re\\\\_parser.py'>,\n",
       " 're._casefix': <module 're._casefix' from 'c:\\\\Users\\\\hnd4r7\\\\AppData\\\\Local\\\\Programs\\\\Python\\\\Python312\\\\Lib\\\\re\\\\_casefix.py'>,\n",
       " 're._compiler': <module 're._compiler' from 'c:\\\\Users\\\\hnd4r7\\\\AppData\\\\Local\\\\Programs\\\\Python\\\\Python312\\\\Lib\\\\re\\\\_compiler.py'>,\n",
       " 'copyreg': <module 'copyreg' from 'c:\\\\Users\\\\hnd4r7\\\\AppData\\\\Local\\\\Programs\\\\Python\\\\Python312\\\\Lib\\\\copyreg.py'>,\n",
       " 're': <module 're' from 'c:\\\\Users\\\\hnd4r7\\\\AppData\\\\Local\\\\Programs\\\\Python\\\\Python312\\\\Lib\\\\re\\\\__init__.py'>,\n",
       " 'fnmatch': <module 'fnmatch' from 'c:\\\\Users\\\\hnd4r7\\\\AppData\\\\Local\\\\Programs\\\\Python\\\\Python312\\\\Lib\\\\fnmatch.py'>,\n",
       " 'errno': <module 'errno' (built-in)>,\n",
       " 'urllib': <module 'urllib' from 'c:\\\\Users\\\\hnd4r7\\\\AppData\\\\Local\\\\Programs\\\\Python\\\\Python312\\\\Lib\\\\urllib\\\\__init__.py'>,\n",
       " 'math': <module 'math' (built-in)>,\n",
       " 'ipaddress': <module 'ipaddress' from 'c:\\\\Users\\\\hnd4r7\\\\AppData\\\\Local\\\\Programs\\\\Python\\\\Python312\\\\Lib\\\\ipaddress.py'>,\n",
       " 'urllib.parse': <module 'urllib.parse' from 'c:\\\\Users\\\\hnd4r7\\\\AppData\\\\Local\\\\Programs\\\\Python\\\\Python312\\\\Lib\\\\urllib\\\\parse.py'>,\n",
       " 'pathlib': <module 'pathlib' from 'c:\\\\Users\\\\hnd4r7\\\\AppData\\\\Local\\\\Programs\\\\Python\\\\Python312\\\\Lib\\\\pathlib.py'>,\n",
       " 'collections.abc': <module 'collections.abc' from 'c:\\\\Users\\\\hnd4r7\\\\AppData\\\\Local\\\\Programs\\\\Python\\\\Python312\\\\Lib\\\\collections\\\\abc.py'>,\n",
       " 'contextlib': <module 'contextlib' from 'c:\\\\Users\\\\hnd4r7\\\\AppData\\\\Local\\\\Programs\\\\Python\\\\Python312\\\\Lib\\\\contextlib.py'>,\n",
       " '_typing': <module '_typing' (built-in)>,\n",
       " 'typing.io': typing.io,\n",
       " 'typing.re': typing.re,\n",
       " 'typing': <module 'typing' from 'c:\\\\Users\\\\hnd4r7\\\\AppData\\\\Local\\\\Programs\\\\Python\\\\Python312\\\\Lib\\\\typing.py'>,\n",
       " 'ipykernel._version': <module 'ipykernel._version' from 'c:\\\\Users\\\\hnd4r7\\\\AppData\\\\Local\\\\Programs\\\\Python\\\\Python312\\\\Lib\\\\site-packages\\\\ipykernel\\\\_version.py'>,\n",
       " '__future__': <module '__future__' from 'c:\\\\Users\\\\hnd4r7\\\\AppData\\\\Local\\\\Programs\\\\Python\\\\Python312\\\\Lib\\\\__future__.py'>,\n",
       " '_json': <module '_json' (built-in)>,\n",
       " 'json.scanner': <module 'json.scanner' from 'c:\\\\Users\\\\hnd4r7\\\\AppData\\\\Local\\\\Programs\\\\Python\\\\Python312\\\\Lib\\\\json\\\\scanner.py'>,\n",
       " 'json.decoder': <module 'json.decoder' from 'c:\\\\Users\\\\hnd4r7\\\\AppData\\\\Local\\\\Programs\\\\Python\\\\Python312\\\\Lib\\\\json\\\\decoder.py'>,\n",
       " 'json.encoder': <module 'json.encoder' from 'c:\\\\Users\\\\hnd4r7\\\\AppData\\\\Local\\\\Programs\\\\Python\\\\Python312\\\\Lib\\\\json\\\\encoder.py'>,\n",
       " 'json': <module 'json' from 'c:\\\\Users\\\\hnd4r7\\\\AppData\\\\Local\\\\Programs\\\\Python\\\\Python312\\\\Lib\\\\json\\\\__init__.py'>,\n",
       " '_locale': <module '_locale' (built-in)>,\n",
       " 'locale': <module 'locale' from 'c:\\\\Users\\\\hnd4r7\\\\AppData\\\\Local\\\\Programs\\\\Python\\\\Python312\\\\Lib\\\\locale.py'>,\n",
       " 'signal': <module 'signal' from 'c:\\\\Users\\\\hnd4r7\\\\AppData\\\\Local\\\\Programs\\\\Python\\\\Python312\\\\Lib\\\\signal.py'>,\n",
       " '_weakrefset': <module '_weakrefset' from 'c:\\\\Users\\\\hnd4r7\\\\AppData\\\\Local\\\\Programs\\\\Python\\\\Python312\\\\Lib\\\\_weakrefset.py'>,\n",
       " 'threading': <module 'threading' from 'c:\\\\Users\\\\hnd4r7\\\\AppData\\\\Local\\\\Programs\\\\Python\\\\Python312\\\\Lib\\\\threading.py'>,\n",
       " 'msvcrt': <module 'msvcrt' (built-in)>,\n",
       " 'subprocess': <module 'subprocess' from 'c:\\\\Users\\\\hnd4r7\\\\AppData\\\\Local\\\\Programs\\\\Python\\\\Python312\\\\Lib\\\\subprocess.py'>,\n",
       " 'jupyter_client._version': <module 'jupyter_client._version' from 'c:\\\\Users\\\\hnd4r7\\\\AppData\\\\Local\\\\Programs\\\\Python\\\\Python312\\\\Lib\\\\site-packages\\\\jupyter_client\\\\_version.py'>,\n",
       " '_wmi': <module '_wmi' from 'c:\\\\Users\\\\hnd4r7\\\\AppData\\\\Local\\\\Programs\\\\Python\\\\Python312\\\\DLLs\\\\_wmi.pyd'>,\n",
       " 'platform': <module 'platform' from 'c:\\\\Users\\\\hnd4r7\\\\AppData\\\\Local\\\\Programs\\\\Python\\\\Python312\\\\Lib\\\\platform.py'>,\n",
       " 'zmq.backend.select': <module 'zmq.backend.select' from 'c:\\\\Users\\\\hnd4r7\\\\AppData\\\\Local\\\\Programs\\\\Python\\\\Python312\\\\Lib\\\\site-packages\\\\zmq\\\\backend\\\\select.py'>,\n",
       " 'cython_runtime': <module 'cython_runtime'>,\n",
       " '_cython_3_0_11': <module '_cython_3_0_11'>,\n",
       " 'weakref': <module 'weakref' from 'c:\\\\Users\\\\hnd4r7\\\\AppData\\\\Local\\\\Programs\\\\Python\\\\Python312\\\\Lib\\\\weakref.py'>,\n",
       " 'zmq.constants': <module 'zmq.constants' from 'c:\\\\Users\\\\hnd4r7\\\\AppData\\\\Local\\\\Programs\\\\Python\\\\Python312\\\\Lib\\\\site-packages\\\\zmq\\\\constants.py'>,\n",
       " 'zmq.error': <module 'zmq.error' from 'c:\\\\Users\\\\hnd4r7\\\\AppData\\\\Local\\\\Programs\\\\Python\\\\Python312\\\\Lib\\\\site-packages\\\\zmq\\\\error.py'>,\n",
       " 'zmq.backend.cython._zmq': <module 'zmq.backend.cython._zmq' from 'c:\\\\Users\\\\hnd4r7\\\\AppData\\\\Local\\\\Programs\\\\Python\\\\Python312\\\\Lib\\\\site-packages\\\\zmq\\\\backend\\\\cython\\\\_zmq.cp312-win_amd64.pyd'>,\n",
       " 'zmq.backend.cython': <module 'zmq.backend.cython' from 'c:\\\\Users\\\\hnd4r7\\\\AppData\\\\Local\\\\Programs\\\\Python\\\\Python312\\\\Lib\\\\site-packages\\\\zmq\\\\backend\\\\cython\\\\__init__.py'>,\n",
       " 'zmq.backend': <module 'zmq.backend' from 'c:\\\\Users\\\\hnd4r7\\\\AppData\\\\Local\\\\Programs\\\\Python\\\\Python312\\\\Lib\\\\site-packages\\\\zmq\\\\backend\\\\__init__.py'>,\n",
       " 'atexit': <module 'atexit' (built-in)>,\n",
       " 'zmq._typing': <module 'zmq._typing' from 'c:\\\\Users\\\\hnd4r7\\\\AppData\\\\Local\\\\Programs\\\\Python\\\\Python312\\\\Lib\\\\site-packages\\\\zmq\\\\_typing.py'>,\n",
       " 'zmq.utils': <module 'zmq.utils' from 'c:\\\\Users\\\\hnd4r7\\\\AppData\\\\Local\\\\Programs\\\\Python\\\\Python312\\\\Lib\\\\site-packages\\\\zmq\\\\utils\\\\__init__.py'>,\n",
       " 'zmq.utils.interop': <module 'zmq.utils.interop' from 'c:\\\\Users\\\\hnd4r7\\\\AppData\\\\Local\\\\Programs\\\\Python\\\\Python312\\\\Lib\\\\site-packages\\\\zmq\\\\utils\\\\interop.py'>,\n",
       " 'zmq.sugar.attrsettr': <module 'zmq.sugar.attrsettr' from 'c:\\\\Users\\\\hnd4r7\\\\AppData\\\\Local\\\\Programs\\\\Python\\\\Python312\\\\Lib\\\\site-packages\\\\zmq\\\\sugar\\\\attrsettr.py'>,\n",
       " '_struct': <module '_struct' (built-in)>,\n",
       " 'struct': <module 'struct' from 'c:\\\\Users\\\\hnd4r7\\\\AppData\\\\Local\\\\Programs\\\\Python\\\\Python312\\\\Lib\\\\struct.py'>,\n",
       " '_compat_pickle': <module '_compat_pickle' from 'c:\\\\Users\\\\hnd4r7\\\\AppData\\\\Local\\\\Programs\\\\Python\\\\Python312\\\\Lib\\\\_compat_pickle.py'>,\n",
       " '_pickle': <module '_pickle' (built-in)>,\n",
       " 'pickle': <module 'pickle' from 'c:\\\\Users\\\\hnd4r7\\\\AppData\\\\Local\\\\Programs\\\\Python\\\\Python312\\\\Lib\\\\pickle.py'>,\n",
       " '_bisect': <module '_bisect' (built-in)>,\n",
       " 'bisect': <module 'bisect' from 'c:\\\\Users\\\\hnd4r7\\\\AppData\\\\Local\\\\Programs\\\\Python\\\\Python312\\\\Lib\\\\bisect.py'>,\n",
       " '_random': <module '_random' (built-in)>,\n",
       " '_sha2': <module '_sha2' (built-in)>,\n",
       " 'random': <module 'random' from 'c:\\\\Users\\\\hnd4r7\\\\AppData\\\\Local\\\\Programs\\\\Python\\\\Python312\\\\Lib\\\\random.py'>,\n",
       " 'zmq.utils.jsonapi': <module 'zmq.utils.jsonapi' from 'c:\\\\Users\\\\hnd4r7\\\\AppData\\\\Local\\\\Programs\\\\Python\\\\Python312\\\\Lib\\\\site-packages\\\\zmq\\\\utils\\\\jsonapi.py'>,\n",
       " 'zmq.sugar.poll': <module 'zmq.sugar.poll' from 'c:\\\\Users\\\\hnd4r7\\\\AppData\\\\Local\\\\Programs\\\\Python\\\\Python312\\\\Lib\\\\site-packages\\\\zmq\\\\sugar\\\\poll.py'>,\n",
       " 'zmq.sugar.socket': <module 'zmq.sugar.socket' from 'c:\\\\Users\\\\hnd4r7\\\\AppData\\\\Local\\\\Programs\\\\Python\\\\Python312\\\\Lib\\\\site-packages\\\\zmq\\\\sugar\\\\socket.py'>,\n",
       " 'zmq.sugar.context': <module 'zmq.sugar.context' from 'c:\\\\Users\\\\hnd4r7\\\\AppData\\\\Local\\\\Programs\\\\Python\\\\Python312\\\\Lib\\\\site-packages\\\\zmq\\\\sugar\\\\context.py'>,\n",
       " 'zmq.sugar.frame': <module 'zmq.sugar.frame' from 'c:\\\\Users\\\\hnd4r7\\\\AppData\\\\Local\\\\Programs\\\\Python\\\\Python312\\\\Lib\\\\site-packages\\\\zmq\\\\sugar\\\\frame.py'>,\n",
       " 'zmq.sugar.tracker': <module 'zmq.sugar.tracker' from 'c:\\\\Users\\\\hnd4r7\\\\AppData\\\\Local\\\\Programs\\\\Python\\\\Python312\\\\Lib\\\\site-packages\\\\zmq\\\\sugar\\\\tracker.py'>,\n",
       " 'zmq.sugar.version': <module 'zmq.sugar.version' from 'c:\\\\Users\\\\hnd4r7\\\\AppData\\\\Local\\\\Programs\\\\Python\\\\Python312\\\\Lib\\\\site-packages\\\\zmq\\\\sugar\\\\version.py'>,\n",
       " 'zmq.sugar.stopwatch': <module 'zmq.sugar.stopwatch' from 'c:\\\\Users\\\\hnd4r7\\\\AppData\\\\Local\\\\Programs\\\\Python\\\\Python312\\\\Lib\\\\site-packages\\\\zmq\\\\sugar\\\\stopwatch.py'>,\n",
       " 'zmq.sugar': <module 'zmq.sugar' from 'c:\\\\Users\\\\hnd4r7\\\\AppData\\\\Local\\\\Programs\\\\Python\\\\Python312\\\\Lib\\\\site-packages\\\\zmq\\\\sugar\\\\__init__.py'>,\n",
       " 'zmq': <module 'zmq' from 'c:\\\\Users\\\\hnd4r7\\\\AppData\\\\Local\\\\Programs\\\\Python\\\\Python312\\\\Lib\\\\site-packages\\\\zmq\\\\__init__.py'>,\n",
       " 'concurrent': <module 'concurrent' from 'c:\\\\Users\\\\hnd4r7\\\\AppData\\\\Local\\\\Programs\\\\Python\\\\Python312\\\\Lib\\\\concurrent\\\\__init__.py'>,\n",
       " 'token': <module 'token' from 'c:\\\\Users\\\\hnd4r7\\\\AppData\\\\Local\\\\Programs\\\\Python\\\\Python312\\\\Lib\\\\token.py'>,\n",
       " '_tokenize': <module '_tokenize' (built-in)>,\n",
       " 'tokenize': <module 'tokenize' from 'c:\\\\Users\\\\hnd4r7\\\\AppData\\\\Local\\\\Programs\\\\Python\\\\Python312\\\\Lib\\\\tokenize.py'>,\n",
       " 'linecache': <module 'linecache' from 'c:\\\\Users\\\\hnd4r7\\\\AppData\\\\Local\\\\Programs\\\\Python\\\\Python312\\\\Lib\\\\linecache.py'>,\n",
       " 'textwrap': <module 'textwrap' from 'c:\\\\Users\\\\hnd4r7\\\\AppData\\\\Local\\\\Programs\\\\Python\\\\Python312\\\\Lib\\\\textwrap.py'>,\n",
       " 'traceback': <module 'traceback' from 'c:\\\\Users\\\\hnd4r7\\\\AppData\\\\Local\\\\Programs\\\\Python\\\\Python312\\\\Lib\\\\traceback.py'>,\n",
       " '_string': <module '_string' (built-in)>,\n",
       " 'string': <module 'string' from 'c:\\\\Users\\\\hnd4r7\\\\AppData\\\\Local\\\\Programs\\\\Python\\\\Python312\\\\Lib\\\\string.py'>,\n",
       " 'logging': <module 'logging' from 'c:\\\\Users\\\\hnd4r7\\\\AppData\\\\Local\\\\Programs\\\\Python\\\\Python312\\\\Lib\\\\logging\\\\__init__.py'>,\n",
       " 'concurrent.futures._base': <module 'concurrent.futures._base' from 'c:\\\\Users\\\\hnd4r7\\\\AppData\\\\Local\\\\Programs\\\\Python\\\\Python312\\\\Lib\\\\concurrent\\\\futures\\\\_base.py'>,\n",
       " 'concurrent.futures': <module 'concurrent.futures' from 'c:\\\\Users\\\\hnd4r7\\\\AppData\\\\Local\\\\Programs\\\\Python\\\\Python312\\\\Lib\\\\concurrent\\\\futures\\\\__init__.py'>,\n",
       " '_heapq': <module '_heapq' (built-in)>,\n",
       " 'heapq': <module 'heapq' from 'c:\\\\Users\\\\hnd4r7\\\\AppData\\\\Local\\\\Programs\\\\Python\\\\Python312\\\\Lib\\\\heapq.py'>,\n",
       " '_socket': <module '_socket' from 'c:\\\\Users\\\\hnd4r7\\\\AppData\\\\Local\\\\Programs\\\\Python\\\\Python312\\\\DLLs\\\\_socket.pyd'>,\n",
       " 'select': <module 'select' from 'c:\\\\Users\\\\hnd4r7\\\\AppData\\\\Local\\\\Programs\\\\Python\\\\Python312\\\\DLLs\\\\select.pyd'>,\n",
       " 'selectors': <module 'selectors' from 'c:\\\\Users\\\\hnd4r7\\\\AppData\\\\Local\\\\Programs\\\\Python\\\\Python312\\\\Lib\\\\selectors.py'>,\n",
       " 'socket': <module 'socket' from 'c:\\\\Users\\\\hnd4r7\\\\AppData\\\\Local\\\\Programs\\\\Python\\\\Python312\\\\Lib\\\\socket.py'>,\n",
       " '_ssl': <module '_ssl' from 'c:\\\\Users\\\\hnd4r7\\\\AppData\\\\Local\\\\Programs\\\\Python\\\\Python312\\\\DLLs\\\\_ssl.pyd'>,\n",
       " 'binascii': <module 'binascii' (built-in)>,\n",
       " 'base64': <module 'base64' from 'c:\\\\Users\\\\hnd4r7\\\\AppData\\\\Local\\\\Programs\\\\Python\\\\Python312\\\\Lib\\\\base64.py'>,\n",
       " 'ssl': <module 'ssl' from 'c:\\\\Users\\\\hnd4r7\\\\AppData\\\\Local\\\\Programs\\\\Python\\\\Python312\\\\Lib\\\\ssl.py'>,\n",
       " 'asyncio.constants': <module 'asyncio.constants' from 'c:\\\\Users\\\\hnd4r7\\\\AppData\\\\Local\\\\Programs\\\\Python\\\\Python312\\\\Lib\\\\asyncio\\\\constants.py'>,\n",
       " '_ast': <module '_ast' (built-in)>,\n",
       " 'ast': <module 'ast' from 'c:\\\\Users\\\\hnd4r7\\\\AppData\\\\Local\\\\Programs\\\\Python\\\\Python312\\\\Lib\\\\ast.py'>,\n",
       " '_opcode': <module '_opcode' (built-in)>,\n",
       " 'opcode': <module 'opcode' from 'c:\\\\Users\\\\hnd4r7\\\\AppData\\\\Local\\\\Programs\\\\Python\\\\Python312\\\\Lib\\\\opcode.py'>,\n",
       " 'dis': <module 'dis' from 'c:\\\\Users\\\\hnd4r7\\\\AppData\\\\Local\\\\Programs\\\\Python\\\\Python312\\\\Lib\\\\dis.py'>,\n",
       " 'inspect': <module 'inspect' from 'c:\\\\Users\\\\hnd4r7\\\\AppData\\\\Local\\\\Programs\\\\Python\\\\Python312\\\\Lib\\\\inspect.py'>,\n",
       " 'asyncio.coroutines': <module 'asyncio.coroutines' from 'c:\\\\Users\\\\hnd4r7\\\\AppData\\\\Local\\\\Programs\\\\Python\\\\Python312\\\\Lib\\\\asyncio\\\\coroutines.py'>,\n",
       " '_contextvars': <module '_contextvars' (built-in)>,\n",
       " 'contextvars': <module 'contextvars' from 'c:\\\\Users\\\\hnd4r7\\\\AppData\\\\Local\\\\Programs\\\\Python\\\\Python312\\\\Lib\\\\contextvars.py'>,\n",
       " 'asyncio.format_helpers': <module 'asyncio.format_helpers' from 'c:\\\\Users\\\\hnd4r7\\\\AppData\\\\Local\\\\Programs\\\\Python\\\\Python312\\\\Lib\\\\asyncio\\\\format_helpers.py'>,\n",
       " 'asyncio.base_futures': <module 'asyncio.base_futures' from 'c:\\\\Users\\\\hnd4r7\\\\AppData\\\\Local\\\\Programs\\\\Python\\\\Python312\\\\Lib\\\\asyncio\\\\base_futures.py'>,\n",
       " 'asyncio.exceptions': <module 'asyncio.exceptions' from 'c:\\\\Users\\\\hnd4r7\\\\AppData\\\\Local\\\\Programs\\\\Python\\\\Python312\\\\Lib\\\\asyncio\\\\exceptions.py'>,\n",
       " 'asyncio.base_tasks': <module 'asyncio.base_tasks' from 'c:\\\\Users\\\\hnd4r7\\\\AppData\\\\Local\\\\Programs\\\\Python\\\\Python312\\\\Lib\\\\asyncio\\\\base_tasks.py'>,\n",
       " '_asyncio': <module '_asyncio' from 'c:\\\\Users\\\\hnd4r7\\\\AppData\\\\Local\\\\Programs\\\\Python\\\\Python312\\\\DLLs\\\\_asyncio.pyd'>,\n",
       " 'asyncio.events': <module 'asyncio.events' from 'c:\\\\Users\\\\hnd4r7\\\\AppData\\\\Local\\\\Programs\\\\Python\\\\Python312\\\\Lib\\\\asyncio\\\\events.py'>,\n",
       " 'asyncio.futures': <module 'asyncio.futures' from 'c:\\\\Users\\\\hnd4r7\\\\AppData\\\\Local\\\\Programs\\\\Python\\\\Python312\\\\Lib\\\\asyncio\\\\futures.py'>,\n",
       " 'asyncio.protocols': <module 'asyncio.protocols' from 'c:\\\\Users\\\\hnd4r7\\\\AppData\\\\Local\\\\Programs\\\\Python\\\\Python312\\\\Lib\\\\asyncio\\\\protocols.py'>,\n",
       " 'asyncio.transports': <module 'asyncio.transports' from 'c:\\\\Users\\\\hnd4r7\\\\AppData\\\\Local\\\\Programs\\\\Python\\\\Python312\\\\Lib\\\\asyncio\\\\transports.py'>,\n",
       " 'asyncio.log': <module 'asyncio.log' from 'c:\\\\Users\\\\hnd4r7\\\\AppData\\\\Local\\\\Programs\\\\Python\\\\Python312\\\\Lib\\\\asyncio\\\\log.py'>,\n",
       " 'asyncio.sslproto': <module 'asyncio.sslproto' from 'c:\\\\Users\\\\hnd4r7\\\\AppData\\\\Local\\\\Programs\\\\Python\\\\Python312\\\\Lib\\\\asyncio\\\\sslproto.py'>,\n",
       " 'asyncio.mixins': <module 'asyncio.mixins' from 'c:\\\\Users\\\\hnd4r7\\\\AppData\\\\Local\\\\Programs\\\\Python\\\\Python312\\\\Lib\\\\asyncio\\\\mixins.py'>,\n",
       " 'asyncio.locks': <module 'asyncio.locks' from 'c:\\\\Users\\\\hnd4r7\\\\AppData\\\\Local\\\\Programs\\\\Python\\\\Python312\\\\Lib\\\\asyncio\\\\locks.py'>,\n",
       " 'asyncio.timeouts': <module 'asyncio.timeouts' from 'c:\\\\Users\\\\hnd4r7\\\\AppData\\\\Local\\\\Programs\\\\Python\\\\Python312\\\\Lib\\\\asyncio\\\\timeouts.py'>,\n",
       " 'asyncio.tasks': <module 'asyncio.tasks' from 'c:\\\\Users\\\\hnd4r7\\\\AppData\\\\Local\\\\Programs\\\\Python\\\\Python312\\\\Lib\\\\asyncio\\\\tasks.py'>,\n",
       " 'asyncio.staggered': <module 'asyncio.staggered' from 'c:\\\\Users\\\\hnd4r7\\\\AppData\\\\Local\\\\Programs\\\\Python\\\\Python312\\\\Lib\\\\asyncio\\\\staggered.py'>,\n",
       " 'asyncio.trsock': <module 'asyncio.trsock' from 'c:\\\\Users\\\\hnd4r7\\\\AppData\\\\Local\\\\Programs\\\\Python\\\\Python312\\\\Lib\\\\asyncio\\\\trsock.py'>,\n",
       " 'asyncio.base_events': <module 'asyncio.base_events' from 'c:\\\\Users\\\\hnd4r7\\\\AppData\\\\Local\\\\Programs\\\\Python\\\\Python312\\\\Lib\\\\asyncio\\\\base_events.py'>,\n",
       " 'asyncio.runners': <module 'asyncio.runners' from 'c:\\\\Users\\\\hnd4r7\\\\AppData\\\\Local\\\\Programs\\\\Python\\\\Python312\\\\Lib\\\\asyncio\\\\runners.py'>,\n",
       " 'asyncio.queues': <module 'asyncio.queues' from 'c:\\\\Users\\\\hnd4r7\\\\AppData\\\\Local\\\\Programs\\\\Python\\\\Python312\\\\Lib\\\\asyncio\\\\queues.py'>,\n",
       " 'asyncio.streams': <module 'asyncio.streams' from 'c:\\\\Users\\\\hnd4r7\\\\AppData\\\\Local\\\\Programs\\\\Python\\\\Python312\\\\Lib\\\\asyncio\\\\streams.py'>,\n",
       " 'asyncio.subprocess': <module 'asyncio.subprocess' from 'c:\\\\Users\\\\hnd4r7\\\\AppData\\\\Local\\\\Programs\\\\Python\\\\Python312\\\\Lib\\\\asyncio\\\\subprocess.py'>,\n",
       " 'asyncio.taskgroups': <module 'asyncio.taskgroups' from 'c:\\\\Users\\\\hnd4r7\\\\AppData\\\\Local\\\\Programs\\\\Python\\\\Python312\\\\Lib\\\\asyncio\\\\taskgroups.py'>,\n",
       " 'asyncio.threads': <module 'asyncio.threads' from 'c:\\\\Users\\\\hnd4r7\\\\AppData\\\\Local\\\\Programs\\\\Python\\\\Python312\\\\Lib\\\\asyncio\\\\threads.py'>,\n",
       " '_overlapped': <module '_overlapped' from 'c:\\\\Users\\\\hnd4r7\\\\AppData\\\\Local\\\\Programs\\\\Python\\\\Python312\\\\DLLs\\\\_overlapped.pyd'>,\n",
       " 'asyncio.base_subprocess': <module 'asyncio.base_subprocess' from 'c:\\\\Users\\\\hnd4r7\\\\AppData\\\\Local\\\\Programs\\\\Python\\\\Python312\\\\Lib\\\\asyncio\\\\base_subprocess.py'>,\n",
       " 'asyncio.proactor_events': <module 'asyncio.proactor_events' from 'c:\\\\Users\\\\hnd4r7\\\\AppData\\\\Local\\\\Programs\\\\Python\\\\Python312\\\\Lib\\\\asyncio\\\\proactor_events.py'>,\n",
       " 'asyncio.selector_events': <module 'asyncio.selector_events' from 'c:\\\\Users\\\\hnd4r7\\\\AppData\\\\Local\\\\Programs\\\\Python\\\\Python312\\\\Lib\\\\asyncio\\\\selector_events.py'>,\n",
       " 'zlib': <module 'zlib' (built-in)>,\n",
       " '_compression': <module '_compression' from 'c:\\\\Users\\\\hnd4r7\\\\AppData\\\\Local\\\\Programs\\\\Python\\\\Python312\\\\Lib\\\\_compression.py'>,\n",
       " '_bz2': <module '_bz2' from 'c:\\\\Users\\\\hnd4r7\\\\AppData\\\\Local\\\\Programs\\\\Python\\\\Python312\\\\DLLs\\\\_bz2.pyd'>,\n",
       " 'bz2': <module 'bz2' from 'c:\\\\Users\\\\hnd4r7\\\\AppData\\\\Local\\\\Programs\\\\Python\\\\Python312\\\\Lib\\\\bz2.py'>,\n",
       " '_lzma': <module '_lzma' from 'c:\\\\Users\\\\hnd4r7\\\\AppData\\\\Local\\\\Programs\\\\Python\\\\Python312\\\\DLLs\\\\_lzma.pyd'>,\n",
       " 'lzma': <module 'lzma' from 'c:\\\\Users\\\\hnd4r7\\\\AppData\\\\Local\\\\Programs\\\\Python\\\\Python312\\\\Lib\\\\lzma.py'>,\n",
       " 'shutil': <module 'shutil' from 'c:\\\\Users\\\\hnd4r7\\\\AppData\\\\Local\\\\Programs\\\\Python\\\\Python312\\\\Lib\\\\shutil.py'>,\n",
       " 'tempfile': <module 'tempfile' from 'c:\\\\Users\\\\hnd4r7\\\\AppData\\\\Local\\\\Programs\\\\Python\\\\Python312\\\\Lib\\\\tempfile.py'>,\n",
       " 'asyncio.windows_utils': <module 'asyncio.windows_utils' from 'c:\\\\Users\\\\hnd4r7\\\\AppData\\\\Local\\\\Programs\\\\Python\\\\Python312\\\\Lib\\\\asyncio\\\\windows_utils.py'>,\n",
       " 'asyncio.windows_events': <module 'asyncio.windows_events' from 'c:\\\\Users\\\\hnd4r7\\\\AppData\\\\Local\\\\Programs\\\\Python\\\\Python312\\\\Lib\\\\asyncio\\\\windows_events.py'>,\n",
       " 'asyncio': <module 'asyncio' from 'c:\\\\Users\\\\hnd4r7\\\\AppData\\\\Local\\\\Programs\\\\Python\\\\Python312\\\\Lib\\\\asyncio\\\\__init__.py'>,\n",
       " 'zmq._future': <module 'zmq._future' from 'c:\\\\Users\\\\hnd4r7\\\\AppData\\\\Local\\\\Programs\\\\Python\\\\Python312\\\\Lib\\\\site-packages\\\\zmq\\\\_future.py'>,\n",
       " 'zmq.asyncio': <module 'zmq.asyncio' from 'c:\\\\Users\\\\hnd4r7\\\\AppData\\\\Local\\\\Programs\\\\Python\\\\Python312\\\\Lib\\\\site-packages\\\\zmq\\\\asyncio.py'>,\n",
       " 'traitlets.utils': <module 'traitlets.utils' from 'c:\\\\Users\\\\hnd4r7\\\\AppData\\\\Local\\\\Programs\\\\Python\\\\Python312\\\\Lib\\\\site-packages\\\\traitlets\\\\utils\\\\__init__.py'>,\n",
       " 'traitlets.utils.bunch': <module 'traitlets.utils.bunch' from 'c:\\\\Users\\\\hnd4r7\\\\AppData\\\\Local\\\\Programs\\\\Python\\\\Python312\\\\Lib\\\\site-packages\\\\traitlets\\\\utils\\\\bunch.py'>,\n",
       " 'traitlets.utils.descriptions': <module 'traitlets.utils.descriptions' from 'c:\\\\Users\\\\hnd4r7\\\\AppData\\\\Local\\\\Programs\\\\Python\\\\Python312\\\\Lib\\\\site-packages\\\\traitlets\\\\utils\\\\descriptions.py'>,\n",
       " 'traitlets.utils.getargspec': <module 'traitlets.utils.getargspec' from 'c:\\\\Users\\\\hnd4r7\\\\AppData\\\\Local\\\\Programs\\\\Python\\\\Python312\\\\Lib\\\\site-packages\\\\traitlets\\\\utils\\\\getargspec.py'>,\n",
       " 'traitlets.utils.importstring': <module 'traitlets.utils.importstring' from 'c:\\\\Users\\\\hnd4r7\\\\AppData\\\\Local\\\\Programs\\\\Python\\\\Python312\\\\Lib\\\\site-packages\\\\traitlets\\\\utils\\\\importstring.py'>,\n",
       " 'traitlets.utils.sentinel': <module 'traitlets.utils.sentinel' from 'c:\\\\Users\\\\hnd4r7\\\\AppData\\\\Local\\\\Programs\\\\Python\\\\Python312\\\\Lib\\\\site-packages\\\\traitlets\\\\utils\\\\sentinel.py'>,\n",
       " 'traitlets.utils.warnings': <module 'traitlets.utils.warnings' from 'c:\\\\Users\\\\hnd4r7\\\\AppData\\\\Local\\\\Programs\\\\Python\\\\Python312\\\\Lib\\\\site-packages\\\\traitlets\\\\utils\\\\warnings.py'>,\n",
       " 'traitlets.traitlets': <module 'traitlets.traitlets' from 'c:\\\\Users\\\\hnd4r7\\\\AppData\\\\Local\\\\Programs\\\\Python\\\\Python312\\\\Lib\\\\site-packages\\\\traitlets\\\\traitlets.py'>,\n",
       " 'traitlets._version': <module 'traitlets._version' from 'c:\\\\Users\\\\hnd4r7\\\\AppData\\\\Local\\\\Programs\\\\Python\\\\Python312\\\\Lib\\\\site-packages\\\\traitlets\\\\_version.py'>,\n",
       " 'copy': <module 'copy' from 'c:\\\\Users\\\\hnd4r7\\\\AppData\\\\Local\\\\Programs\\\\Python\\\\Python312\\\\Lib\\\\copy.py'>,\n",
       " 'traitlets.utils.decorators': <module 'traitlets.utils.decorators' from 'c:\\\\Users\\\\hnd4r7\\\\AppData\\\\Local\\\\Programs\\\\Python\\\\Python312\\\\Lib\\\\site-packages\\\\traitlets\\\\utils\\\\decorators.py'>,\n",
       " 'traitlets': <module 'traitlets' from 'c:\\\\Users\\\\hnd4r7\\\\AppData\\\\Local\\\\Programs\\\\Python\\\\Python312\\\\Lib\\\\site-packages\\\\traitlets\\\\__init__.py'>,\n",
       " '_queue': <module '_queue' from 'c:\\\\Users\\\\hnd4r7\\\\AppData\\\\Local\\\\Programs\\\\Python\\\\Python312\\\\DLLs\\\\_queue.pyd'>,\n",
       " 'queue': <module 'queue' from 'c:\\\\Users\\\\hnd4r7\\\\AppData\\\\Local\\\\Programs\\\\Python\\\\Python312\\\\Lib\\\\queue.py'>,\n",
       " 'jupyter_core.version': <module 'jupyter_core.version' from 'C:\\\\Users\\\\hnd4r7\\\\AppData\\\\Roaming\\\\Python\\\\Python312\\\\site-packages\\\\jupyter_core\\\\version.py'>,\n",
       " 'jupyter_core': <module 'jupyter_core' from 'C:\\\\Users\\\\hnd4r7\\\\AppData\\\\Roaming\\\\Python\\\\Python312\\\\site-packages\\\\jupyter_core\\\\__init__.py'>,\n",
       " 'jupyter_core.utils': <module 'jupyter_core.utils' from 'C:\\\\Users\\\\hnd4r7\\\\AppData\\\\Roaming\\\\Python\\\\Python312\\\\site-packages\\\\jupyter_core\\\\utils\\\\__init__.py'>,\n",
       " 'jupyter_client.channelsabc': <module 'jupyter_client.channelsabc' from 'c:\\\\Users\\\\hnd4r7\\\\AppData\\\\Local\\\\Programs\\\\Python\\\\Python312\\\\Lib\\\\site-packages\\\\jupyter_client\\\\channelsabc.py'>,\n",
       " '_hashlib': <module '_hashlib' from 'c:\\\\Users\\\\hnd4r7\\\\AppData\\\\Local\\\\Programs\\\\Python\\\\Python312\\\\DLLs\\\\_hashlib.pyd'>,\n",
       " '_blake2': <module '_blake2' (built-in)>,\n",
       " 'hashlib': <module 'hashlib' from 'c:\\\\Users\\\\hnd4r7\\\\AppData\\\\Local\\\\Programs\\\\Python\\\\Python312\\\\Lib\\\\hashlib.py'>,\n",
       " 'hmac': <module 'hmac' from 'c:\\\\Users\\\\hnd4r7\\\\AppData\\\\Local\\\\Programs\\\\Python\\\\Python312\\\\Lib\\\\hmac.py'>,\n",
       " 'dataclasses': <module 'dataclasses' from 'c:\\\\Users\\\\hnd4r7\\\\AppData\\\\Local\\\\Programs\\\\Python\\\\Python312\\\\Lib\\\\dataclasses.py'>,\n",
       " 'pprint': <module 'pprint' from 'c:\\\\Users\\\\hnd4r7\\\\AppData\\\\Local\\\\Programs\\\\Python\\\\Python312\\\\Lib\\\\pprint.py'>,\n",
       " '_datetime': <module '_datetime' (built-in)>,\n",
       " 'datetime': <module 'datetime' from 'c:\\\\Users\\\\hnd4r7\\\\AppData\\\\Local\\\\Programs\\\\Python\\\\Python312\\\\Lib\\\\datetime.py'>,\n",
       " 'tornado': <module 'tornado' from 'c:\\\\Users\\\\hnd4r7\\\\AppData\\\\Local\\\\Programs\\\\Python\\\\Python312\\\\Lib\\\\site-packages\\\\tornado\\\\__init__.py'>,\n",
       " 'numbers': <module 'numbers' from 'c:\\\\Users\\\\hnd4r7\\\\AppData\\\\Local\\\\Programs\\\\Python\\\\Python312\\\\Lib\\\\numbers.py'>,\n",
       " 'logging.handlers': <module 'logging.handlers' from 'c:\\\\Users\\\\hnd4r7\\\\AppData\\\\Local\\\\Programs\\\\Python\\\\Python312\\\\Lib\\\\logging\\\\handlers.py'>,\n",
       " 'html.entities': <module 'html.entities' from 'c:\\\\Users\\\\hnd4r7\\\\AppData\\\\Local\\\\Programs\\\\Python\\\\Python312\\\\Lib\\\\html\\\\entities.py'>,\n",
       " 'html': <module 'html' from 'c:\\\\Users\\\\hnd4r7\\\\AppData\\\\Local\\\\Programs\\\\Python\\\\Python312\\\\Lib\\\\html\\\\__init__.py'>,\n",
       " 'array': <module 'array' (built-in)>,\n",
       " 'tornado.speedups': <module 'tornado.speedups' from 'c:\\\\Users\\\\hnd4r7\\\\AppData\\\\Local\\\\Programs\\\\Python\\\\Python312\\\\Lib\\\\site-packages\\\\tornado\\\\speedups.pyd'>,\n",
       " 'tornado.util': <module 'tornado.util' from 'c:\\\\Users\\\\hnd4r7\\\\AppData\\\\Local\\\\Programs\\\\Python\\\\Python312\\\\Lib\\\\site-packages\\\\tornado\\\\util.py'>,\n",
       " 'tornado.escape': <module 'tornado.escape' from 'c:\\\\Users\\\\hnd4r7\\\\AppData\\\\Local\\\\Programs\\\\Python\\\\Python312\\\\Lib\\\\site-packages\\\\tornado\\\\escape.py'>,\n",
       " 'colorama.ansi': <module 'colorama.ansi' from 'c:\\\\Users\\\\hnd4r7\\\\AppData\\\\Local\\\\Programs\\\\Python\\\\Python312\\\\Lib\\\\site-packages\\\\colorama\\\\ansi.py'>,\n",
       " '_ctypes': <module '_ctypes' from 'c:\\\\Users\\\\hnd4r7\\\\AppData\\\\Local\\\\Programs\\\\Python\\\\Python312\\\\DLLs\\\\_ctypes.pyd'>,\n",
       " 'ctypes._endian': <module 'ctypes._endian' from 'c:\\\\Users\\\\hnd4r7\\\\AppData\\\\Local\\\\Programs\\\\Python\\\\Python312\\\\Lib\\\\ctypes\\\\_endian.py'>,\n",
       " 'ctypes': <module 'ctypes' from 'c:\\\\Users\\\\hnd4r7\\\\AppData\\\\Local\\\\Programs\\\\Python\\\\Python312\\\\Lib\\\\ctypes\\\\__init__.py'>,\n",
       " 'ctypes.wintypes': <module 'ctypes.wintypes' from 'c:\\\\Users\\\\hnd4r7\\\\AppData\\\\Local\\\\Programs\\\\Python\\\\Python312\\\\Lib\\\\ctypes\\\\wintypes.py'>,\n",
       " 'colorama.win32': <module 'colorama.win32' from 'c:\\\\Users\\\\hnd4r7\\\\AppData\\\\Local\\\\Programs\\\\Python\\\\Python312\\\\Lib\\\\site-packages\\\\colorama\\\\win32.py'>,\n",
       " 'colorama.winterm': <module 'colorama.winterm' from 'c:\\\\Users\\\\hnd4r7\\\\AppData\\\\Local\\\\Programs\\\\Python\\\\Python312\\\\Lib\\\\site-packages\\\\colorama\\\\winterm.py'>,\n",
       " 'colorama.ansitowin32': <module 'colorama.ansitowin32' from 'c:\\\\Users\\\\hnd4r7\\\\AppData\\\\Local\\\\Programs\\\\Python\\\\Python312\\\\Lib\\\\site-packages\\\\colorama\\\\ansitowin32.py'>,\n",
       " 'colorama.initialise': <module 'colorama.initialise' from 'c:\\\\Users\\\\hnd4r7\\\\AppData\\\\Local\\\\Programs\\\\Python\\\\Python312\\\\Lib\\\\site-packages\\\\colorama\\\\initialise.py'>,\n",
       " 'colorama': <module 'colorama' from 'c:\\\\Users\\\\hnd4r7\\\\AppData\\\\Local\\\\Programs\\\\Python\\\\Python312\\\\Lib\\\\site-packages\\\\colorama\\\\__init__.py'>,\n",
       " 'tornado.log': <module 'tornado.log' from 'c:\\\\Users\\\\hnd4r7\\\\AppData\\\\Local\\\\Programs\\\\Python\\\\Python312\\\\Lib\\\\site-packages\\\\tornado\\\\log.py'>,\n",
       " 'tornado.concurrent': <module 'tornado.concurrent' from 'c:\\\\Users\\\\hnd4r7\\\\AppData\\\\Local\\\\Programs\\\\Python\\\\Python312\\\\Lib\\\\site-packages\\\\tornado\\\\concurrent.py'>,\n",
       " 'tornado.ioloop': <module 'tornado.ioloop' from 'c:\\\\Users\\\\hnd4r7\\\\AppData\\\\Local\\\\Programs\\\\Python\\\\Python312\\\\Lib\\\\site-packages\\\\tornado\\\\ioloop.py'>,\n",
       " 'socketserver': <module 'socketserver' from 'c:\\\\Users\\\\hnd4r7\\\\AppData\\\\Local\\\\Programs\\\\Python\\\\Python312\\\\Lib\\\\socketserver.py'>,\n",
       " 'logging.config': <module 'logging.config' from 'c:\\\\Users\\\\hnd4r7\\\\AppData\\\\Local\\\\Programs\\\\Python\\\\Python312\\\\Lib\\\\logging\\\\config.py'>,\n",
       " 'traitlets.utils.text': <module 'traitlets.utils.text' from 'c:\\\\Users\\\\hnd4r7\\\\AppData\\\\Local\\\\Programs\\\\Python\\\\Python312\\\\Lib\\\\site-packages\\\\traitlets\\\\utils\\\\text.py'>,\n",
       " 'gettext': <module 'gettext' from 'c:\\\\Users\\\\hnd4r7\\\\AppData\\\\Local\\\\Programs\\\\Python\\\\Python312\\\\Lib\\\\gettext.py'>,\n",
       " 'argparse': <module 'argparse' from 'c:\\\\Users\\\\hnd4r7\\\\AppData\\\\Local\\\\Programs\\\\Python\\\\Python312\\\\Lib\\\\argparse.py'>,\n",
       " 'traitlets.config.loader': <module 'traitlets.config.loader' from 'c:\\\\Users\\\\hnd4r7\\\\AppData\\\\Local\\\\Programs\\\\Python\\\\Python312\\\\Lib\\\\site-packages\\\\traitlets\\\\config\\\\loader.py'>,\n",
       " 'traitlets.config.configurable': <module 'traitlets.config.configurable' from 'c:\\\\Users\\\\hnd4r7\\\\AppData\\\\Local\\\\Programs\\\\Python\\\\Python312\\\\Lib\\\\site-packages\\\\traitlets\\\\config\\\\configurable.py'>,\n",
       " 'traitlets.utils.nested_update': <module 'traitlets.utils.nested_update' from 'c:\\\\Users\\\\hnd4r7\\\\AppData\\\\Local\\\\Programs\\\\Python\\\\Python312\\\\Lib\\\\site-packages\\\\traitlets\\\\utils\\\\nested_update.py'>,\n",
       " 'traitlets.config.application': <module 'traitlets.config.application' from 'c:\\\\Users\\\\hnd4r7\\\\AppData\\\\Local\\\\Programs\\\\Python\\\\Python312\\\\Lib\\\\site-packages\\\\traitlets\\\\config\\\\application.py'>,\n",
       " 'traitlets.config': <module 'traitlets.config' from 'c:\\\\Users\\\\hnd4r7\\\\AppData\\\\Local\\\\Programs\\\\Python\\\\Python312\\\\Lib\\\\site-packages\\\\traitlets\\\\config\\\\__init__.py'>,\n",
       " 'traitlets.log': <module 'traitlets.log' from 'c:\\\\Users\\\\hnd4r7\\\\AppData\\\\Local\\\\Programs\\\\Python\\\\Python312\\\\Lib\\\\site-packages\\\\traitlets\\\\log.py'>,\n",
       " 'zmq.eventloop': <module 'zmq.eventloop' from 'c:\\\\Users\\\\hnd4r7\\\\AppData\\\\Local\\\\Programs\\\\Python\\\\Python312\\\\Lib\\\\site-packages\\\\zmq\\\\eventloop\\\\__init__.py'>,\n",
       " 'zmq.eventloop.zmqstream': <module 'zmq.eventloop.zmqstream' from 'c:\\\\Users\\\\hnd4r7\\\\AppData\\\\Local\\\\Programs\\\\Python\\\\Python312\\\\Lib\\\\site-packages\\\\zmq\\\\eventloop\\\\zmqstream.py'>,\n",
       " 'jupyter_client.adapter': <module 'jupyter_client.adapter' from 'c:\\\\Users\\\\hnd4r7\\\\AppData\\\\Local\\\\Programs\\\\Python\\\\Python312\\\\Lib\\\\site-packages\\\\jupyter_client\\\\adapter.py'>,\n",
       " 'dateutil._version': <module 'dateutil._version' from 'c:\\\\Users\\\\hnd4r7\\\\AppData\\\\Local\\\\Programs\\\\Python\\\\Python312\\\\Lib\\\\site-packages\\\\dateutil\\\\_version.py'>,\n",
       " 'dateutil': <module 'dateutil' from 'c:\\\\Users\\\\hnd4r7\\\\AppData\\\\Local\\\\Programs\\\\Python\\\\Python312\\\\Lib\\\\site-packages\\\\dateutil\\\\__init__.py'>,\n",
       " 'calendar': <module 'calendar' from 'c:\\\\Users\\\\hnd4r7\\\\AppData\\\\Local\\\\Programs\\\\Python\\\\Python312\\\\Lib\\\\calendar.py'>,\n",
       " 'six': <module 'six' from 'c:\\\\Users\\\\hnd4r7\\\\AppData\\\\Local\\\\Programs\\\\Python\\\\Python312\\\\Lib\\\\site-packages\\\\six.py'>,\n",
       " '_decimal': <module '_decimal' from 'c:\\\\Users\\\\hnd4r7\\\\AppData\\\\Local\\\\Programs\\\\Python\\\\Python312\\\\DLLs\\\\_decimal.pyd'>,\n",
       " 'decimal': <module 'decimal' from 'c:\\\\Users\\\\hnd4r7\\\\AppData\\\\Local\\\\Programs\\\\Python\\\\Python312\\\\Lib\\\\decimal.py'>,\n",
       " 'dateutil._common': <module 'dateutil._common' from 'c:\\\\Users\\\\hnd4r7\\\\AppData\\\\Local\\\\Programs\\\\Python\\\\Python312\\\\Lib\\\\site-packages\\\\dateutil\\\\_common.py'>,\n",
       " 'dateutil.relativedelta': <module 'dateutil.relativedelta' from 'c:\\\\Users\\\\hnd4r7\\\\AppData\\\\Local\\\\Programs\\\\Python\\\\Python312\\\\Lib\\\\site-packages\\\\dateutil\\\\relativedelta.py'>,\n",
       " 'six.moves': <module 'six.moves' (<six._SixMetaPathImporter object at 0x000001A67F058A40>)>,\n",
       " 'dateutil.tz._common': <module 'dateutil.tz._common' from 'c:\\\\Users\\\\hnd4r7\\\\AppData\\\\Local\\\\Programs\\\\Python\\\\Python312\\\\Lib\\\\site-packages\\\\dateutil\\\\tz\\\\_common.py'>,\n",
       " 'dateutil.tz._factories': <module 'dateutil.tz._factories' from 'c:\\\\Users\\\\hnd4r7\\\\AppData\\\\Local\\\\Programs\\\\Python\\\\Python312\\\\Lib\\\\site-packages\\\\dateutil\\\\tz\\\\_factories.py'>,\n",
       " 'dateutil.tz.win': <module 'dateutil.tz.win' from 'c:\\\\Users\\\\hnd4r7\\\\AppData\\\\Local\\\\Programs\\\\Python\\\\Python312\\\\Lib\\\\site-packages\\\\dateutil\\\\tz\\\\win.py'>,\n",
       " 'dateutil.tz.tz': <module 'dateutil.tz.tz' from 'c:\\\\Users\\\\hnd4r7\\\\AppData\\\\Local\\\\Programs\\\\Python\\\\Python312\\\\Lib\\\\site-packages\\\\dateutil\\\\tz\\\\tz.py'>,\n",
       " 'dateutil.tz': <module 'dateutil.tz' from 'c:\\\\Users\\\\hnd4r7\\\\AppData\\\\Local\\\\Programs\\\\Python\\\\Python312\\\\Lib\\\\site-packages\\\\dateutil\\\\tz\\\\__init__.py'>,\n",
       " 'dateutil.parser._parser': <module 'dateutil.parser._parser' from 'c:\\\\Users\\\\hnd4r7\\\\AppData\\\\Local\\\\Programs\\\\Python\\\\Python312\\\\Lib\\\\site-packages\\\\dateutil\\\\parser\\\\_parser.py'>,\n",
       " 'dateutil.parser.isoparser': <module 'dateutil.parser.isoparser' from 'c:\\\\Users\\\\hnd4r7\\\\AppData\\\\Local\\\\Programs\\\\Python\\\\Python312\\\\Lib\\\\site-packages\\\\dateutil\\\\parser\\\\isoparser.py'>,\n",
       " 'dateutil.parser': <module 'dateutil.parser' from 'c:\\\\Users\\\\hnd4r7\\\\AppData\\\\Local\\\\Programs\\\\Python\\\\Python312\\\\Lib\\\\site-packages\\\\dateutil\\\\parser\\\\__init__.py'>,\n",
       " '_strptime': <module '_strptime' from 'c:\\\\Users\\\\hnd4r7\\\\AppData\\\\Local\\\\Programs\\\\Python\\\\Python312\\\\Lib\\\\_strptime.py'>,\n",
       " 'jupyter_client.jsonutil': <module 'jupyter_client.jsonutil' from 'c:\\\\Users\\\\hnd4r7\\\\AppData\\\\Local\\\\Programs\\\\Python\\\\Python312\\\\Lib\\\\site-packages\\\\jupyter_client\\\\jsonutil.py'>,\n",
       " 'jupyter_client.session': <module 'jupyter_client.session' from 'c:\\\\Users\\\\hnd4r7\\\\AppData\\\\Local\\\\Programs\\\\Python\\\\Python312\\\\Lib\\\\site-packages\\\\jupyter_client\\\\session.py'>,\n",
       " 'jupyter_client.channels': <module 'jupyter_client.channels' from 'c:\\\\Users\\\\hnd4r7\\\\AppData\\\\Local\\\\Programs\\\\Python\\\\Python312\\\\Lib\\\\site-packages\\\\jupyter_client\\\\channels.py'>,\n",
       " 'getpass': <module 'getpass' from 'c:\\\\Users\\\\hnd4r7\\\\AppData\\\\Local\\\\Programs\\\\Python\\\\Python312\\\\Lib\\\\getpass.py'>,\n",
       " 'jupyter_client.clientabc': <module 'jupyter_client.clientabc' from 'c:\\\\Users\\\\hnd4r7\\\\AppData\\\\Local\\\\Programs\\\\Python\\\\Python312\\\\Lib\\\\site-packages\\\\jupyter_client\\\\clientabc.py'>,\n",
       " 'glob': <module 'glob' from 'c:\\\\Users\\\\hnd4r7\\\\AppData\\\\Local\\\\Programs\\\\Python\\\\Python312\\\\Lib\\\\glob.py'>,\n",
       " 'platformdirs.api': <module 'platformdirs.api' from 'c:\\\\Users\\\\hnd4r7\\\\AppData\\\\Local\\\\Programs\\\\Python\\\\Python312\\\\Lib\\\\site-packages\\\\platformdirs\\\\api.py'>,\n",
       " 'platformdirs.version': <module 'platformdirs.version' from 'c:\\\\Users\\\\hnd4r7\\\\AppData\\\\Local\\\\Programs\\\\Python\\\\Python312\\\\Lib\\\\site-packages\\\\platformdirs\\\\version.py'>,\n",
       " 'platformdirs.windows': <module 'platformdirs.windows' from 'c:\\\\Users\\\\hnd4r7\\\\AppData\\\\Local\\\\Programs\\\\Python\\\\Python312\\\\Lib\\\\site-packages\\\\platformdirs\\\\windows.py'>,\n",
       " 'platformdirs': <module 'platformdirs' from 'c:\\\\Users\\\\hnd4r7\\\\AppData\\\\Local\\\\Programs\\\\Python\\\\Python312\\\\Lib\\\\site-packages\\\\platformdirs\\\\__init__.py'>,\n",
       " 'jupyter_core.paths': <module 'jupyter_core.paths' from 'C:\\\\Users\\\\hnd4r7\\\\AppData\\\\Roaming\\\\Python\\\\Python312\\\\site-packages\\\\jupyter_core\\\\paths.py'>,\n",
       " 'jupyter_client.localinterfaces': <module 'jupyter_client.localinterfaces' from 'c:\\\\Users\\\\hnd4r7\\\\AppData\\\\Local\\\\Programs\\\\Python\\\\Python312\\\\Lib\\\\site-packages\\\\jupyter_client\\\\localinterfaces.py'>,\n",
       " 'jupyter_client.utils': <module 'jupyter_client.utils' from 'c:\\\\Users\\\\hnd4r7\\\\AppData\\\\Local\\\\Programs\\\\Python\\\\Python312\\\\Lib\\\\site-packages\\\\jupyter_client\\\\utils.py'>,\n",
       " 'jupyter_client.connect': <module 'jupyter_client.connect' from 'c:\\\\Users\\\\hnd4r7\\\\AppData\\\\Local\\\\Programs\\\\Python\\\\Python312\\\\Lib\\\\site-packages\\\\jupyter_client\\\\connect.py'>,\n",
       " 'jupyter_client.client': <module 'jupyter_client.client' from 'c:\\\\Users\\\\hnd4r7\\\\AppData\\\\Local\\\\Programs\\\\Python\\\\Python312\\\\Lib\\\\site-packages\\\\jupyter_client\\\\client.py'>,\n",
       " 'jupyter_client.asynchronous.client': <module 'jupyter_client.asynchronous.client' from 'c:\\\\Users\\\\hnd4r7\\\\AppData\\\\Local\\\\Programs\\\\Python\\\\Python312\\\\Lib\\\\site-packages\\\\jupyter_client\\\\asynchronous\\\\client.py'>,\n",
       " 'jupyter_client.asynchronous': <module 'jupyter_client.asynchronous' from 'c:\\\\Users\\\\hnd4r7\\\\AppData\\\\Local\\\\Programs\\\\Python\\\\Python312\\\\Lib\\\\site-packages\\\\jupyter_client\\\\asynchronous\\\\__init__.py'>,\n",
       " 'jupyter_client.blocking.client': <module 'jupyter_client.blocking.client' from 'c:\\\\Users\\\\hnd4r7\\\\AppData\\\\Local\\\\Programs\\\\Python\\\\Python312\\\\Lib\\\\site-packages\\\\jupyter_client\\\\blocking\\\\client.py'>,\n",
       " 'jupyter_client.blocking': <module 'jupyter_client.blocking' from 'c:\\\\Users\\\\hnd4r7\\\\AppData\\\\Local\\\\Programs\\\\Python\\\\Python312\\\\Lib\\\\site-packages\\\\jupyter_client\\\\blocking\\\\__init__.py'>,\n",
       " 'jupyter_client.launcher': <module 'jupyter_client.launcher' from 'c:\\\\Users\\\\hnd4r7\\\\AppData\\\\Local\\\\Programs\\\\Python\\\\Python312\\\\Lib\\\\site-packages\\\\jupyter_client\\\\launcher.py'>,\n",
       " '_uuid': <module '_uuid' from 'c:\\\\Users\\\\hnd4r7\\\\AppData\\\\Local\\\\Programs\\\\Python\\\\Python312\\\\DLLs\\\\_uuid.pyd'>,\n",
       " 'uuid': <module 'uuid' from 'c:\\\\Users\\\\hnd4r7\\\\AppData\\\\Local\\\\Programs\\\\Python\\\\Python312\\\\Lib\\\\uuid.py'>,\n",
       " '_csv': <module '_csv' (built-in)>,\n",
       " 'csv': <module 'csv' from 'c:\\\\Users\\\\hnd4r7\\\\AppData\\\\Local\\\\Programs\\\\Python\\\\Python312\\\\Lib\\\\csv.py'>,\n",
       " 'email': <module 'email' from 'c:\\\\Users\\\\hnd4r7\\\\AppData\\\\Local\\\\Programs\\\\Python\\\\Python312\\\\Lib\\\\email\\\\__init__.py'>,\n",
       " 'zipfile._path.glob': <module 'zipfile._path.glob' from 'c:\\\\Users\\\\hnd4r7\\\\AppData\\\\Local\\\\Programs\\\\Python\\\\Python312\\\\Lib\\\\zipfile\\\\_path\\\\glob.py'>,\n",
       " 'zipfile._path': <module 'zipfile._path' from 'c:\\\\Users\\\\hnd4r7\\\\AppData\\\\Local\\\\Programs\\\\Python\\\\Python312\\\\Lib\\\\zipfile\\\\_path\\\\__init__.py'>,\n",
       " 'zipfile': <module 'zipfile' from 'c:\\\\Users\\\\hnd4r7\\\\AppData\\\\Local\\\\Programs\\\\Python\\\\Python312\\\\Lib\\\\zipfile\\\\__init__.py'>,\n",
       " 'quopri': <module 'quopri' from 'c:\\\\Users\\\\hnd4r7\\\\AppData\\\\Local\\\\Programs\\\\Python\\\\Python312\\\\Lib\\\\quopri.py'>,\n",
       " 'email._parseaddr': <module 'email._parseaddr' from 'c:\\\\Users\\\\hnd4r7\\\\AppData\\\\Local\\\\Programs\\\\Python\\\\Python312\\\\Lib\\\\email\\\\_parseaddr.py'>,\n",
       " 'email.base64mime': <module 'email.base64mime' from 'c:\\\\Users\\\\hnd4r7\\\\AppData\\\\Local\\\\Programs\\\\Python\\\\Python312\\\\Lib\\\\email\\\\base64mime.py'>,\n",
       " 'email.quoprimime': <module 'email.quoprimime' from 'c:\\\\Users\\\\hnd4r7\\\\AppData\\\\Local\\\\Programs\\\\Python\\\\Python312\\\\Lib\\\\email\\\\quoprimime.py'>,\n",
       " 'email.errors': <module 'email.errors' from 'c:\\\\Users\\\\hnd4r7\\\\AppData\\\\Local\\\\Programs\\\\Python\\\\Python312\\\\Lib\\\\email\\\\errors.py'>,\n",
       " 'email.encoders': <module 'email.encoders' from 'c:\\\\Users\\\\hnd4r7\\\\AppData\\\\Local\\\\Programs\\\\Python\\\\Python312\\\\Lib\\\\email\\\\encoders.py'>,\n",
       " 'email.charset': <module 'email.charset' from 'c:\\\\Users\\\\hnd4r7\\\\AppData\\\\Local\\\\Programs\\\\Python\\\\Python312\\\\Lib\\\\email\\\\charset.py'>,\n",
       " 'email.utils': <module 'email.utils' from 'c:\\\\Users\\\\hnd4r7\\\\AppData\\\\Local\\\\Programs\\\\Python\\\\Python312\\\\Lib\\\\email\\\\utils.py'>,\n",
       " 'email.header': <module 'email.header' from 'c:\\\\Users\\\\hnd4r7\\\\AppData\\\\Local\\\\Programs\\\\Python\\\\Python312\\\\Lib\\\\email\\\\header.py'>,\n",
       " 'email._policybase': <module 'email._policybase' from 'c:\\\\Users\\\\hnd4r7\\\\AppData\\\\Local\\\\Programs\\\\Python\\\\Python312\\\\Lib\\\\email\\\\_policybase.py'>,\n",
       " 'email._encoded_words': <module 'email._encoded_words' from 'c:\\\\Users\\\\hnd4r7\\\\AppData\\\\Local\\\\Programs\\\\Python\\\\Python312\\\\Lib\\\\email\\\\_encoded_words.py'>,\n",
       " 'email.iterators': <module 'email.iterators' from 'c:\\\\Users\\\\hnd4r7\\\\AppData\\\\Local\\\\Programs\\\\Python\\\\Python312\\\\Lib\\\\email\\\\iterators.py'>,\n",
       " 'email.message': <module 'email.message' from 'c:\\\\Users\\\\hnd4r7\\\\AppData\\\\Local\\\\Programs\\\\Python\\\\Python312\\\\Lib\\\\email\\\\message.py'>,\n",
       " 'importlib.metadata._functools': <module 'importlib.metadata._functools' from 'c:\\\\Users\\\\hnd4r7\\\\AppData\\\\Local\\\\Programs\\\\Python\\\\Python312\\\\Lib\\\\importlib\\\\metadata\\\\_functools.py'>,\n",
       " 'importlib.metadata._text': <module 'importlib.metadata._text' from 'c:\\\\Users\\\\hnd4r7\\\\AppData\\\\Local\\\\Programs\\\\Python\\\\Python312\\\\Lib\\\\importlib\\\\metadata\\\\_text.py'>,\n",
       " 'importlib.metadata._adapters': <module 'importlib.metadata._adapters' from 'c:\\\\Users\\\\hnd4r7\\\\AppData\\\\Local\\\\Programs\\\\Python\\\\Python312\\\\Lib\\\\importlib\\\\metadata\\\\_adapters.py'>,\n",
       " 'importlib.metadata._meta': <module 'importlib.metadata._meta' from 'c:\\\\Users\\\\hnd4r7\\\\AppData\\\\Local\\\\Programs\\\\Python\\\\Python312\\\\Lib\\\\importlib\\\\metadata\\\\_meta.py'>,\n",
       " 'importlib.metadata._collections': <module 'importlib.metadata._collections' from 'c:\\\\Users\\\\hnd4r7\\\\AppData\\\\Local\\\\Programs\\\\Python\\\\Python312\\\\Lib\\\\importlib\\\\metadata\\\\_collections.py'>,\n",
       " 'importlib.metadata._itertools': <module 'importlib.metadata._itertools' from 'c:\\\\Users\\\\hnd4r7\\\\AppData\\\\Local\\\\Programs\\\\Python\\\\Python312\\\\Lib\\\\importlib\\\\metadata\\\\_itertools.py'>,\n",
       " 'importlib.resources.abc': <module 'importlib.resources.abc' from 'c:\\\\Users\\\\hnd4r7\\\\AppData\\\\Local\\\\Programs\\\\Python\\\\Python312\\\\Lib\\\\importlib\\\\resources\\\\abc.py'>,\n",
       " 'importlib.resources._adapters': <module 'importlib.resources._adapters' from 'c:\\\\Users\\\\hnd4r7\\\\AppData\\\\Local\\\\Programs\\\\Python\\\\Python312\\\\Lib\\\\importlib\\\\resources\\\\_adapters.py'>,\n",
       " 'importlib.resources._common': <module 'importlib.resources._common' from 'c:\\\\Users\\\\hnd4r7\\\\AppData\\\\Local\\\\Programs\\\\Python\\\\Python312\\\\Lib\\\\importlib\\\\resources\\\\_common.py'>,\n",
       " 'importlib.resources._legacy': <module 'importlib.resources._legacy' from 'c:\\\\Users\\\\hnd4r7\\\\AppData\\\\Local\\\\Programs\\\\Python\\\\Python312\\\\Lib\\\\importlib\\\\resources\\\\_legacy.py'>,\n",
       " 'importlib.resources': <module 'importlib.resources' from 'c:\\\\Users\\\\hnd4r7\\\\AppData\\\\Local\\\\Programs\\\\Python\\\\Python312\\\\Lib\\\\importlib\\\\resources\\\\__init__.py'>,\n",
       " 'importlib.abc': <module 'importlib.abc' from 'c:\\\\Users\\\\hnd4r7\\\\AppData\\\\Local\\\\Programs\\\\Python\\\\Python312\\\\Lib\\\\importlib\\\\abc.py'>,\n",
       " 'importlib.metadata': <module 'importlib.metadata' from 'c:\\\\Users\\\\hnd4r7\\\\AppData\\\\Local\\\\Programs\\\\Python\\\\Python312\\\\Lib\\\\importlib\\\\metadata\\\\__init__.py'>,\n",
       " 'jupyter_client.provisioning.provisioner_base': <module 'jupyter_client.provisioning.provisioner_base' from 'c:\\\\Users\\\\hnd4r7\\\\AppData\\\\Local\\\\Programs\\\\Python\\\\Python312\\\\Lib\\\\site-packages\\\\jupyter_client\\\\provisioning\\\\provisioner_base.py'>,\n",
       " 'jupyter_client.provisioning.factory': <module 'jupyter_client.provisioning.factory' from 'c:\\\\Users\\\\hnd4r7\\\\AppData\\\\Local\\\\Programs\\\\Python\\\\Python312\\\\Lib\\\\site-packages\\\\jupyter_client\\\\provisioning\\\\factory.py'>,\n",
       " 'jupyter_client.provisioning.local_provisioner': <module 'jupyter_client.provisioning.local_provisioner' from 'c:\\\\Users\\\\hnd4r7\\\\AppData\\\\Local\\\\Programs\\\\Python\\\\Python312\\\\Lib\\\\site-packages\\\\jupyter_client\\\\provisioning\\\\local_provisioner.py'>,\n",
       " 'jupyter_client.provisioning': <module 'jupyter_client.provisioning' from 'c:\\\\Users\\\\hnd4r7\\\\AppData\\\\Local\\\\Programs\\\\Python\\\\Python312\\\\Lib\\\\site-packages\\\\jupyter_client\\\\provisioning\\\\__init__.py'>,\n",
       " 'jupyter_client.kernelspec': <module 'jupyter_client.kernelspec' from 'c:\\\\Users\\\\hnd4r7\\\\AppData\\\\Local\\\\Programs\\\\Python\\\\Python312\\\\Lib\\\\site-packages\\\\jupyter_client\\\\kernelspec.py'>,\n",
       " 'jupyter_client.managerabc': <module 'jupyter_client.managerabc' from 'c:\\\\Users\\\\hnd4r7\\\\AppData\\\\Local\\\\Programs\\\\Python\\\\Python312\\\\Lib\\\\site-packages\\\\jupyter_client\\\\managerabc.py'>,\n",
       " 'jupyter_client.manager': <module 'jupyter_client.manager' from 'c:\\\\Users\\\\hnd4r7\\\\AppData\\\\Local\\\\Programs\\\\Python\\\\Python312\\\\Lib\\\\site-packages\\\\jupyter_client\\\\manager.py'>,\n",
       " 'jupyter_client.multikernelmanager': <module 'jupyter_client.multikernelmanager' from 'c:\\\\Users\\\\hnd4r7\\\\AppData\\\\Local\\\\Programs\\\\Python\\\\Python312\\\\Lib\\\\site-packages\\\\jupyter_client\\\\multikernelmanager.py'>,\n",
       " 'jupyter_client': <module 'jupyter_client' from 'c:\\\\Users\\\\hnd4r7\\\\AppData\\\\Local\\\\Programs\\\\Python\\\\Python312\\\\Lib\\\\site-packages\\\\jupyter_client\\\\__init__.py'>,\n",
       " 'ipykernel.connect': <module 'ipykernel.connect' from 'c:\\\\Users\\\\hnd4r7\\\\AppData\\\\Local\\\\Programs\\\\Python\\\\Python312\\\\Lib\\\\site-packages\\\\ipykernel\\\\connect.py'>,\n",
       " 'ipykernel': <module 'ipykernel' from 'c:\\\\Users\\\\hnd4r7\\\\AppData\\\\Local\\\\Programs\\\\Python\\\\Python312\\\\Lib\\\\site-packages\\\\ipykernel\\\\__init__.py'>,\n",
       " 'IPython.core': <module 'IPython.core' from 'c:\\\\Users\\\\hnd4r7\\\\AppData\\\\Local\\\\Programs\\\\Python\\\\Python312\\\\Lib\\\\site-packages\\\\IPython\\\\core\\\\__init__.py'>,\n",
       " 'IPython.core.getipython': <module 'IPython.core.getipython' from 'c:\\\\Users\\\\hnd4r7\\\\AppData\\\\Local\\\\Programs\\\\Python\\\\Python312\\\\Lib\\\\site-packages\\\\IPython\\\\core\\\\getipython.py'>,\n",
       " 'IPython.core.release': <module 'IPython.core.release' from 'c:\\\\Users\\\\hnd4r7\\\\AppData\\\\Local\\\\Programs\\\\Python\\\\Python312\\\\Lib\\\\site-packages\\\\IPython\\\\core\\\\release.py'>,\n",
       " 'pkgutil': <module 'pkgutil' from 'c:\\\\Users\\\\hnd4r7\\\\AppData\\\\Local\\\\Programs\\\\Python\\\\Python312\\\\Lib\\\\pkgutil.py'>,\n",
       " 'sysconfig': <module 'sysconfig' from 'c:\\\\Users\\\\hnd4r7\\\\AppData\\\\Local\\\\Programs\\\\Python\\\\Python312\\\\Lib\\\\sysconfig.py'>,\n",
       " 'pydoc': <module 'pydoc' from 'c:\\\\Users\\\\hnd4r7\\\\AppData\\\\Local\\\\Programs\\\\Python\\\\Python312\\\\Lib\\\\pydoc.py'>,\n",
       " 'executing._exceptions': <module 'executing._exceptions' from 'C:\\\\Users\\\\hnd4r7\\\\AppData\\\\Roaming\\\\Python\\\\Python312\\\\site-packages\\\\executing\\\\_exceptions.py'>,\n",
       " 'executing._position_node_finder': <module 'executing._position_node_finder' from 'C:\\\\Users\\\\hnd4r7\\\\AppData\\\\Roaming\\\\Python\\\\Python312\\\\site-packages\\\\executing\\\\_position_node_finder.py'>,\n",
       " 'executing.executing': <module 'executing.executing' from 'C:\\\\Users\\\\hnd4r7\\\\AppData\\\\Roaming\\\\Python\\\\Python312\\\\site-packages\\\\executing\\\\executing.py'>,\n",
       " 'executing._pytest_utils': <module 'executing._pytest_utils' from 'C:\\\\Users\\\\hnd4r7\\\\AppData\\\\Roaming\\\\Python\\\\Python312\\\\site-packages\\\\executing\\\\_pytest_utils.py'>,\n",
       " 'executing.version': <module 'executing.version' from 'C:\\\\Users\\\\hnd4r7\\\\AppData\\\\Roaming\\\\Python\\\\Python312\\\\site-packages\\\\executing\\\\version.py'>,\n",
       " 'executing': <module 'executing' from 'C:\\\\Users\\\\hnd4r7\\\\AppData\\\\Roaming\\\\Python\\\\Python312\\\\site-packages\\\\executing\\\\__init__.py'>,\n",
       " 'asttokens.line_numbers': <module 'asttokens.line_numbers' from 'c:\\\\Users\\\\hnd4r7\\\\AppData\\\\Local\\\\Programs\\\\Python\\\\Python312\\\\Lib\\\\site-packages\\\\asttokens\\\\line_numbers.py'>,\n",
       " 'asttokens.util': <module 'asttokens.util' from 'c:\\\\Users\\\\hnd4r7\\\\AppData\\\\Local\\\\Programs\\\\Python\\\\Python312\\\\Lib\\\\site-packages\\\\asttokens\\\\util.py'>,\n",
       " 'asttokens.asttokens': <module 'asttokens.asttokens' from 'c:\\\\Users\\\\hnd4r7\\\\AppData\\\\Local\\\\Programs\\\\Python\\\\Python312\\\\Lib\\\\site-packages\\\\asttokens\\\\asttokens.py'>,\n",
       " 'asttokens': <module 'asttokens' from 'c:\\\\Users\\\\hnd4r7\\\\AppData\\\\Local\\\\Programs\\\\Python\\\\Python312\\\\Lib\\\\site-packages\\\\asttokens\\\\__init__.py'>,\n",
       " 'fractions': <module 'fractions' from 'c:\\\\Users\\\\hnd4r7\\\\AppData\\\\Local\\\\Programs\\\\Python\\\\Python312\\\\Lib\\\\fractions.py'>,\n",
       " 'pure_eval.utils': <module 'pure_eval.utils' from 'c:\\\\Users\\\\hnd4r7\\\\AppData\\\\Local\\\\Programs\\\\Python\\\\Python312\\\\Lib\\\\site-packages\\\\pure_eval\\\\utils.py'>,\n",
       " 'pure_eval.my_getattr_static': <module 'pure_eval.my_getattr_static' from 'c:\\\\Users\\\\hnd4r7\\\\AppData\\\\Local\\\\Programs\\\\Python\\\\Python312\\\\Lib\\\\site-packages\\\\pure_eval\\\\my_getattr_static.py'>,\n",
       " 'pure_eval.core': <module 'pure_eval.core' from 'c:\\\\Users\\\\hnd4r7\\\\AppData\\\\Local\\\\Programs\\\\Python\\\\Python312\\\\Lib\\\\site-packages\\\\pure_eval\\\\core.py'>,\n",
       " 'pure_eval.version': <module 'pure_eval.version' from 'c:\\\\Users\\\\hnd4r7\\\\AppData\\\\Local\\\\Programs\\\\Python\\\\Python312\\\\Lib\\\\site-packages\\\\pure_eval\\\\version.py'>,\n",
       " 'pure_eval': <module 'pure_eval' from 'c:\\\\Users\\\\hnd4r7\\\\AppData\\\\Local\\\\Programs\\\\Python\\\\Python312\\\\Lib\\\\site-packages\\\\pure_eval\\\\__init__.py'>,\n",
       " 'stack_data.utils': <module 'stack_data.utils' from 'c:\\\\Users\\\\hnd4r7\\\\AppData\\\\Local\\\\Programs\\\\Python\\\\Python312\\\\Lib\\\\site-packages\\\\stack_data\\\\utils.py'>,\n",
       " 'stack_data.core': <module 'stack_data.core' from 'c:\\\\Users\\\\hnd4r7\\\\AppData\\\\Local\\\\Programs\\\\Python\\\\Python312\\\\Lib\\\\site-packages\\\\stack_data\\\\core.py'>,\n",
       " 'stack_data.formatting': <module 'stack_data.formatting' from 'c:\\\\Users\\\\hnd4r7\\\\AppData\\\\Local\\\\Programs\\\\Python\\\\Python312\\\\Lib\\\\site-packages\\\\stack_data\\\\formatting.py'>,\n",
       " 'stack_data.serializing': <module 'stack_data.serializing' from 'c:\\\\Users\\\\hnd4r7\\\\AppData\\\\Local\\\\Programs\\\\Python\\\\Python312\\\\Lib\\\\site-packages\\\\stack_data\\\\serializing.py'>,\n",
       " 'stack_data.version': <module 'stack_data.version' from 'c:\\\\Users\\\\hnd4r7\\\\AppData\\\\Local\\\\Programs\\\\Python\\\\Python312\\\\Lib\\\\site-packages\\\\stack_data\\\\version.py'>,\n",
       " 'stack_data': <module 'stack_data' from 'c:\\\\Users\\\\hnd4r7\\\\AppData\\\\Local\\\\Programs\\\\Python\\\\Python312\\\\Lib\\\\site-packages\\\\stack_data\\\\__init__.py'>,\n",
       " 'pygments': <module 'pygments' from 'c:\\\\Users\\\\hnd4r7\\\\AppData\\\\Local\\\\Programs\\\\Python\\\\Python312\\\\Lib\\\\site-packages\\\\pygments\\\\__init__.py'>,\n",
       " 'pygments.formatters._mapping': <module 'pygments.formatters._mapping' from 'c:\\\\Users\\\\hnd4r7\\\\AppData\\\\Local\\\\Programs\\\\Python\\\\Python312\\\\Lib\\\\site-packages\\\\pygments\\\\formatters\\\\_mapping.py'>,\n",
       " 'pygments.plugin': <module 'pygments.plugin' from 'c:\\\\Users\\\\hnd4r7\\\\AppData\\\\Local\\\\Programs\\\\Python\\\\Python312\\\\Lib\\\\site-packages\\\\pygments\\\\plugin.py'>,\n",
       " 'pygments.util': <module 'pygments.util' from 'c:\\\\Users\\\\hnd4r7\\\\AppData\\\\Local\\\\Programs\\\\Python\\\\Python312\\\\Lib\\\\site-packages\\\\pygments\\\\util.py'>,\n",
       " 'pygments.formatters': <module 'pygments.formatters' from 'c:\\\\Users\\\\hnd4r7\\\\AppData\\\\Local\\\\Programs\\\\Python\\\\Python312\\\\Lib\\\\site-packages\\\\pygments\\\\formatters\\\\__init__.py'>,\n",
       " 'pygments.styles._mapping': <module 'pygments.styles._mapping' from 'c:\\\\Users\\\\hnd4r7\\\\AppData\\\\Local\\\\Programs\\\\Python\\\\Python312\\\\Lib\\\\site-packages\\\\pygments\\\\styles\\\\_mapping.py'>,\n",
       " 'pygments.styles': <module 'pygments.styles' from 'c:\\\\Users\\\\hnd4r7\\\\AppData\\\\Local\\\\Programs\\\\Python\\\\Python312\\\\Lib\\\\site-packages\\\\pygments\\\\styles\\\\__init__.py'>,\n",
       " 'pygments.formatter': <module 'pygments.formatter' from 'c:\\\\Users\\\\hnd4r7\\\\AppData\\\\Local\\\\Programs\\\\Python\\\\Python312\\\\Lib\\\\site-packages\\\\pygments\\\\formatter.py'>,\n",
       " 'pygments.console': <module 'pygments.console' from 'c:\\\\Users\\\\hnd4r7\\\\AppData\\\\Local\\\\Programs\\\\Python\\\\Python312\\\\Lib\\\\site-packages\\\\pygments\\\\console.py'>,\n",
       " 'pygments.token': <module 'pygments.token' from 'c:\\\\Users\\\\hnd4r7\\\\AppData\\\\Local\\\\Programs\\\\Python\\\\Python312\\\\Lib\\\\site-packages\\\\pygments\\\\token.py'>,\n",
       " 'pygments.style': <module 'pygments.style' from 'c:\\\\Users\\\\hnd4r7\\\\AppData\\\\Local\\\\Programs\\\\Python\\\\Python312\\\\Lib\\\\site-packages\\\\pygments\\\\style.py'>,\n",
       " 'pygments.formatters.terminal256': <module 'pygments.formatters.terminal256' from 'c:\\\\Users\\\\hnd4r7\\\\AppData\\\\Local\\\\Programs\\\\Python\\\\Python312\\\\Lib\\\\site-packages\\\\pygments\\\\formatters\\\\terminal256.py'>,\n",
       " 'IPython.utils': <module 'IPython.utils' from 'c:\\\\Users\\\\hnd4r7\\\\AppData\\\\Local\\\\Programs\\\\Python\\\\Python312\\\\Lib\\\\site-packages\\\\IPython\\\\utils\\\\__init__.py'>,\n",
       " 'IPython.utils.colorable': <module 'IPython.utils.colorable' from 'c:\\\\Users\\\\hnd4r7\\\\AppData\\\\Local\\\\Programs\\\\Python\\\\Python312\\\\Lib\\\\site-packages\\\\IPython\\\\utils\\\\colorable.py'>,\n",
       " 'IPython.utils.ipstruct': <module 'IPython.utils.ipstruct' from 'c:\\\\Users\\\\hnd4r7\\\\AppData\\\\Local\\\\Programs\\\\Python\\\\Python312\\\\Lib\\\\site-packages\\\\IPython\\\\utils\\\\ipstruct.py'>,\n",
       " 'IPython.utils.coloransi': <module 'IPython.utils.coloransi' from 'c:\\\\Users\\\\hnd4r7\\\\AppData\\\\Local\\\\Programs\\\\Python\\\\Python312\\\\Lib\\\\site-packages\\\\IPython\\\\utils\\\\coloransi.py'>,\n",
       " 'IPython.core.excolors': <module 'IPython.core.excolors' from 'c:\\\\Users\\\\hnd4r7\\\\AppData\\\\Local\\\\Programs\\\\Python\\\\Python312\\\\Lib\\\\site-packages\\\\IPython\\\\core\\\\excolors.py'>,\n",
       " 'IPython.utils.PyColorize': <module 'IPython.utils.PyColorize' from 'c:\\\\Users\\\\hnd4r7\\\\AppData\\\\Local\\\\Programs\\\\Python\\\\Python312\\\\Lib\\\\site-packages\\\\IPython\\\\utils\\\\PyColorize.py'>,\n",
       " 'IPython.utils.encoding': <module 'IPython.utils.encoding' from 'c:\\\\Users\\\\hnd4r7\\\\AppData\\\\Local\\\\Programs\\\\Python\\\\Python312\\\\Lib\\\\site-packages\\\\IPython\\\\utils\\\\encoding.py'>,\n",
       " 'IPython.utils.py3compat': <module 'IPython.utils.py3compat' from 'c:\\\\Users\\\\hnd4r7\\\\AppData\\\\Local\\\\Programs\\\\Python\\\\Python312\\\\Lib\\\\site-packages\\\\IPython\\\\utils\\\\py3compat.py'>,\n",
       " 'cmd': <module 'cmd' from 'c:\\\\Users\\\\hnd4r7\\\\AppData\\\\Local\\\\Programs\\\\Python\\\\Python312\\\\Lib\\\\cmd.py'>,\n",
       " 'bdb': <module 'bdb' from 'c:\\\\Users\\\\hnd4r7\\\\AppData\\\\Local\\\\Programs\\\\Python\\\\Python312\\\\Lib\\\\bdb.py'>,\n",
       " 'codeop': <module 'codeop' from 'c:\\\\Users\\\\hnd4r7\\\\AppData\\\\Local\\\\Programs\\\\Python\\\\Python312\\\\Lib\\\\codeop.py'>,\n",
       " 'code': <module 'code' from 'c:\\\\Users\\\\hnd4r7\\\\AppData\\\\Local\\\\Programs\\\\Python\\\\Python312\\\\Lib\\\\code.py'>,\n",
       " 'pdb': <module 'pdb' from 'c:\\\\Users\\\\hnd4r7\\\\AppData\\\\Local\\\\Programs\\\\Python\\\\Python312\\\\Lib\\\\pdb.py'>,\n",
       " 'IPython.core.debugger': <module 'IPython.core.debugger' from 'c:\\\\Users\\\\hnd4r7\\\\AppData\\\\Local\\\\Programs\\\\Python\\\\Python312\\\\Lib\\\\site-packages\\\\IPython\\\\core\\\\debugger.py'>,\n",
       " 'IPython.core.display_trap': <module 'IPython.core.display_trap' from 'c:\\\\Users\\\\hnd4r7\\\\AppData\\\\Local\\\\Programs\\\\Python\\\\Python312\\\\Lib\\\\site-packages\\\\IPython\\\\core\\\\display_trap.py'>,\n",
       " 'shlex': <module 'shlex' from 'c:\\\\Users\\\\hnd4r7\\\\AppData\\\\Local\\\\Programs\\\\Python\\\\Python312\\\\Lib\\\\shlex.py'>,\n",
       " 'IPython.utils._process_common': <module 'IPython.utils._process_common' from 'c:\\\\Users\\\\hnd4r7\\\\AppData\\\\Local\\\\Programs\\\\Python\\\\Python312\\\\Lib\\\\site-packages\\\\IPython\\\\utils\\\\_process_common.py'>,\n",
       " 'IPython.utils._process_win32': <module 'IPython.utils._process_win32' from 'c:\\\\Users\\\\hnd4r7\\\\AppData\\\\Local\\\\Programs\\\\Python\\\\Python312\\\\Lib\\\\site-packages\\\\IPython\\\\utils\\\\_process_win32.py'>,\n",
       " 'IPython.utils.process': <module 'IPython.utils.process' from 'c:\\\\Users\\\\hnd4r7\\\\AppData\\\\Local\\\\Programs\\\\Python\\\\Python312\\\\Lib\\\\site-packages\\\\IPython\\\\utils\\\\process.py'>,\n",
       " 'IPython.utils.path': <module 'IPython.utils.path' from 'c:\\\\Users\\\\hnd4r7\\\\AppData\\\\Local\\\\Programs\\\\Python\\\\Python312\\\\Lib\\\\site-packages\\\\IPython\\\\utils\\\\path.py'>,\n",
       " 'IPython.utils.terminal': <module 'IPython.utils.terminal' from 'c:\\\\Users\\\\hnd4r7\\\\AppData\\\\Local\\\\Programs\\\\Python\\\\Python312\\\\Lib\\\\site-packages\\\\IPython\\\\utils\\\\terminal.py'>,\n",
       " 'IPython.core.ultratb': <module 'IPython.core.ultratb' from 'c:\\\\Users\\\\hnd4r7\\\\AppData\\\\Local\\\\Programs\\\\Python\\\\Python312\\\\Lib\\\\site-packages\\\\IPython\\\\core\\\\ultratb.py'>,\n",
       " 'IPython.utils._sysinfo': <module 'IPython.utils._sysinfo' from 'c:\\\\Users\\\\hnd4r7\\\\AppData\\\\Local\\\\Programs\\\\Python\\\\Python312\\\\Lib\\\\site-packages\\\\IPython\\\\utils\\\\_sysinfo.py'>,\n",
       " 'IPython.utils.sysinfo': <module 'IPython.utils.sysinfo' from 'c:\\\\Users\\\\hnd4r7\\\\AppData\\\\Local\\\\Programs\\\\Python\\\\Python312\\\\Lib\\\\site-packages\\\\IPython\\\\utils\\\\sysinfo.py'>,\n",
       " 'IPython.core.crashhandler': <module 'IPython.core.crashhandler' from 'c:\\\\Users\\\\hnd4r7\\\\AppData\\\\Local\\\\Programs\\\\Python\\\\Python312\\\\Lib\\\\site-packages\\\\IPython\\\\core\\\\crashhandler.py'>,\n",
       " 'IPython.utils.importstring': <module 'IPython.utils.importstring' from 'c:\\\\Users\\\\hnd4r7\\\\AppData\\\\Local\\\\Programs\\\\Python\\\\Python312\\\\Lib\\\\site-packages\\\\IPython\\\\utils\\\\importstring.py'>,\n",
       " 'IPython.paths': <module 'IPython.paths' from 'c:\\\\Users\\\\hnd4r7\\\\AppData\\\\Local\\\\Programs\\\\Python\\\\Python312\\\\Lib\\\\site-packages\\\\IPython\\\\paths.py'>,\n",
       " 'IPython.core.profiledir': <module 'IPython.core.profiledir' from 'c:\\\\Users\\\\hnd4r7\\\\AppData\\\\Local\\\\Programs\\\\Python\\\\Python312\\\\Lib\\\\site-packages\\\\IPython\\\\core\\\\profiledir.py'>,\n",
       " 'IPython.core.application': <module 'IPython.core.application' from 'c:\\\\Users\\\\hnd4r7\\\\AppData\\\\Local\\\\Programs\\\\Python\\\\Python312\\\\Lib\\\\site-packages\\\\IPython\\\\core\\\\application.py'>,\n",
       " 'IPython.terminal': <module 'IPython.terminal' from 'c:\\\\Users\\\\hnd4r7\\\\AppData\\\\Local\\\\Programs\\\\Python\\\\Python312\\\\Lib\\\\site-packages\\\\IPython\\\\terminal\\\\__init__.py'>,\n",
       " 'IPython.core.compilerop': <module 'IPython.core.compilerop' from 'c:\\\\Users\\\\hnd4r7\\\\AppData\\\\Local\\\\Programs\\\\Python\\\\Python312\\\\Lib\\\\site-packages\\\\IPython\\\\core\\\\compilerop.py'>,\n",
       " 'IPython.core.error': <module 'IPython.core.error' from 'c:\\\\Users\\\\hnd4r7\\\\AppData\\\\Local\\\\Programs\\\\Python\\\\Python312\\\\Lib\\\\site-packages\\\\IPython\\\\core\\\\error.py'>,\n",
       " 'IPython.utils.docs': <module 'IPython.utils.docs' from 'c:\\\\Users\\\\hnd4r7\\\\AppData\\\\Local\\\\Programs\\\\Python\\\\Python312\\\\Lib\\\\site-packages\\\\IPython\\\\utils\\\\docs.py'>,\n",
       " 'IPython.utils.decorators': <module 'IPython.utils.decorators' from 'c:\\\\Users\\\\hnd4r7\\\\AppData\\\\Local\\\\Programs\\\\Python\\\\Python312\\\\Lib\\\\site-packages\\\\IPython\\\\utils\\\\decorators.py'>,\n",
       " 'IPython.utils.text': <module 'IPython.utils.text' from 'c:\\\\Users\\\\hnd4r7\\\\AppData\\\\Local\\\\Programs\\\\Python\\\\Python312\\\\Lib\\\\site-packages\\\\IPython\\\\utils\\\\text.py'>,\n",
       " 'IPython.core.magic_arguments': <module 'IPython.core.magic_arguments' from 'c:\\\\Users\\\\hnd4r7\\\\AppData\\\\Local\\\\Programs\\\\Python\\\\Python312\\\\Lib\\\\site-packages\\\\IPython\\\\core\\\\magic_arguments.py'>,\n",
       " 'getopt': <module 'getopt' from 'c:\\\\Users\\\\hnd4r7\\\\AppData\\\\Local\\\\Programs\\\\Python\\\\Python312\\\\Lib\\\\getopt.py'>,\n",
       " 'IPython.core.display_functions': <module 'IPython.core.display_functions' from 'c:\\\\Users\\\\hnd4r7\\\\AppData\\\\Local\\\\Programs\\\\Python\\\\Python312\\\\Lib\\\\site-packages\\\\IPython\\\\core\\\\display_functions.py'>,\n",
       " 'mimetypes': <module 'mimetypes' from 'c:\\\\Users\\\\hnd4r7\\\\AppData\\\\Local\\\\Programs\\\\Python\\\\Python312\\\\Lib\\\\mimetypes.py'>,\n",
       " 'IPython.testing': <module 'IPython.testing' from 'c:\\\\Users\\\\hnd4r7\\\\AppData\\\\Local\\\\Programs\\\\Python\\\\Python312\\\\Lib\\\\site-packages\\\\IPython\\\\testing\\\\__init__.py'>,\n",
       " 'IPython.testing.skipdoctest': <module 'IPython.testing.skipdoctest' from 'c:\\\\Users\\\\hnd4r7\\\\AppData\\\\Local\\\\Programs\\\\Python\\\\Python312\\\\Lib\\\\site-packages\\\\IPython\\\\testing\\\\skipdoctest.py'>,\n",
       " 'IPython.core.display': <module 'IPython.core.display' from 'c:\\\\Users\\\\hnd4r7\\\\AppData\\\\Local\\\\Programs\\\\Python\\\\Python312\\\\Lib\\\\site-packages\\\\IPython\\\\core\\\\display.py'>,\n",
       " 'IPython.lib': <module 'IPython.lib' from 'c:\\\\Users\\\\hnd4r7\\\\AppData\\\\Local\\\\Programs\\\\Python\\\\Python312\\\\Lib\\\\site-packages\\\\IPython\\\\lib\\\\__init__.py'>,\n",
       " 'IPython.lib.display': <module 'IPython.lib.display' from 'c:\\\\Users\\\\hnd4r7\\\\AppData\\\\Local\\\\Programs\\\\Python\\\\Python312\\\\Lib\\\\site-packages\\\\IPython\\\\lib\\\\display.py'>,\n",
       " 'IPython.display': <module 'IPython.display' from 'c:\\\\Users\\\\hnd4r7\\\\AppData\\\\Local\\\\Programs\\\\Python\\\\Python312\\\\Lib\\\\site-packages\\\\IPython\\\\display.py'>,\n",
       " 'IPython.utils.data': <module 'IPython.utils.data' from 'c:\\\\Users\\\\hnd4r7\\\\AppData\\\\Local\\\\Programs\\\\Python\\\\Python312\\\\Lib\\\\site-packages\\\\IPython\\\\utils\\\\data.py'>,\n",
       " 'IPython.core.page': <module 'IPython.core.page' from 'c:\\\\Users\\\\hnd4r7\\\\AppData\\\\Local\\\\Programs\\\\Python\\\\Python312\\\\Lib\\\\site-packages\\\\IPython\\\\core\\\\page.py'>,\n",
       " 'IPython.lib.pretty': <module 'IPython.lib.pretty' from 'c:\\\\Users\\\\hnd4r7\\\\AppData\\\\Local\\\\Programs\\\\Python\\\\Python312\\\\Lib\\\\site-packages\\\\IPython\\\\lib\\\\pretty.py'>,\n",
       " 'IPython.utils.openpy': <module 'IPython.utils.openpy' from 'c:\\\\Users\\\\hnd4r7\\\\AppData\\\\Local\\\\Programs\\\\Python\\\\Python312\\\\Lib\\\\site-packages\\\\IPython\\\\utils\\\\openpy.py'>,\n",
       " 'IPython.utils.dir2': <module 'IPython.utils.dir2' from 'c:\\\\Users\\\\hnd4r7\\\\AppData\\\\Local\\\\Programs\\\\Python\\\\Python312\\\\Lib\\\\site-packages\\\\IPython\\\\utils\\\\dir2.py'>,\n",
       " 'IPython.utils.wildcard': <module 'IPython.utils.wildcard' from 'c:\\\\Users\\\\hnd4r7\\\\AppData\\\\Local\\\\Programs\\\\Python\\\\Python312\\\\Lib\\\\site-packages\\\\IPython\\\\utils\\\\wildcard.py'>,\n",
       " 'pygments.lexers._mapping': <module 'pygments.lexers._mapping' from 'c:\\\\Users\\\\hnd4r7\\\\AppData\\\\Local\\\\Programs\\\\Python\\\\Python312\\\\Lib\\\\site-packages\\\\pygments\\\\lexers\\\\_mapping.py'>,\n",
       " 'pygments.modeline': <module 'pygments.modeline' from 'c:\\\\Users\\\\hnd4r7\\\\AppData\\\\Local\\\\Programs\\\\Python\\\\Python312\\\\Lib\\\\site-packages\\\\pygments\\\\modeline.py'>,\n",
       " 'pygments.lexers': <module 'pygments.lexers' from 'c:\\\\Users\\\\hnd4r7\\\\AppData\\\\Local\\\\Programs\\\\Python\\\\Python312\\\\Lib\\\\site-packages\\\\pygments\\\\lexers\\\\__init__.py'>,\n",
       " 'pygments.filter': <module 'pygments.filter' from 'c:\\\\Users\\\\hnd4r7\\\\AppData\\\\Local\\\\Programs\\\\Python\\\\Python312\\\\Lib\\\\site-packages\\\\pygments\\\\filter.py'>,\n",
       " 'pygments.filters': <module 'pygments.filters' from 'c:\\\\Users\\\\hnd4r7\\\\AppData\\\\Local\\\\Programs\\\\Python\\\\Python312\\\\Lib\\\\site-packages\\\\pygments\\\\filters\\\\__init__.py'>,\n",
       " 'pygments.regexopt': <module 'pygments.regexopt' from 'c:\\\\Users\\\\hnd4r7\\\\AppData\\\\Local\\\\Programs\\\\Python\\\\Python312\\\\Lib\\\\site-packages\\\\pygments\\\\regexopt.py'>,\n",
       " 'pygments.lexer': <module 'pygments.lexer' from 'c:\\\\Users\\\\hnd4r7\\\\AppData\\\\Local\\\\Programs\\\\Python\\\\Python312\\\\Lib\\\\site-packages\\\\pygments\\\\lexer.py'>,\n",
       " 'pygments.unistring': <module 'pygments.unistring' from 'c:\\\\Users\\\\hnd4r7\\\\AppData\\\\Local\\\\Programs\\\\Python\\\\Python312\\\\Lib\\\\site-packages\\\\pygments\\\\unistring.py'>,\n",
       " 'pygments.lexers.python': <module 'pygments.lexers.python' from 'c:\\\\Users\\\\hnd4r7\\\\AppData\\\\Local\\\\Programs\\\\Python\\\\Python312\\\\Lib\\\\site-packages\\\\pygments\\\\lexers\\\\python.py'>,\n",
       " 'pygments.formatters.html': <module 'pygments.formatters.html' from 'c:\\\\Users\\\\hnd4r7\\\\AppData\\\\Local\\\\Programs\\\\Python\\\\Python312\\\\Lib\\\\site-packages\\\\pygments\\\\formatters\\\\html.py'>,\n",
       " 'IPython.core.oinspect': <module 'IPython.core.oinspect' from 'c:\\\\Users\\\\hnd4r7\\\\AppData\\\\Local\\\\Programs\\\\Python\\\\Python312\\\\Lib\\\\site-packages\\\\IPython\\\\core\\\\oinspect.py'>,\n",
       " 'IPython.utils.tokenutil': <module 'IPython.utils.tokenutil' from 'c:\\\\Users\\\\hnd4r7\\\\AppData\\\\Local\\\\Programs\\\\Python\\\\Python312\\\\Lib\\\\site-packages\\\\IPython\\\\utils\\\\tokenutil.py'>,\n",
       " 'IPython.core.inputtransformer2': <module 'IPython.core.inputtransformer2' from 'c:\\\\Users\\\\hnd4r7\\\\AppData\\\\Local\\\\Programs\\\\Python\\\\Python312\\\\Lib\\\\site-packages\\\\IPython\\\\core\\\\inputtransformer2.py'>,\n",
       " 'IPython.core.magic': <module 'IPython.core.magic' from 'c:\\\\Users\\\\hnd4r7\\\\AppData\\\\Local\\\\Programs\\\\Python\\\\Python312\\\\Lib\\\\site-packages\\\\IPython\\\\core\\\\magic.py'>,\n",
       " 'IPython.core.hooks': <module 'IPython.core.hooks' from 'c:\\\\Users\\\\hnd4r7\\\\AppData\\\\Local\\\\Programs\\\\Python\\\\Python312\\\\Lib\\\\site-packages\\\\IPython\\\\core\\\\hooks.py'>,\n",
       " 'IPython.core.autocall': <module 'IPython.core.autocall' from 'c:\\\\Users\\\\hnd4r7\\\\AppData\\\\Local\\\\Programs\\\\Python\\\\Python312\\\\Lib\\\\site-packages\\\\IPython\\\\core\\\\autocall.py'>,\n",
       " 'IPython.core.macro': <module 'IPython.core.macro' from 'c:\\\\Users\\\\hnd4r7\\\\AppData\\\\Local\\\\Programs\\\\Python\\\\Python312\\\\Lib\\\\site-packages\\\\IPython\\\\core\\\\macro.py'>,\n",
       " 'IPython.core.splitinput': <module 'IPython.core.splitinput' from 'c:\\\\Users\\\\hnd4r7\\\\AppData\\\\Local\\\\Programs\\\\Python\\\\Python312\\\\Lib\\\\site-packages\\\\IPython\\\\core\\\\splitinput.py'>,\n",
       " 'IPython.core.prefilter': <module 'IPython.core.prefilter' from 'c:\\\\Users\\\\hnd4r7\\\\AppData\\\\Local\\\\Programs\\\\Python\\\\Python312\\\\Lib\\\\site-packages\\\\IPython\\\\core\\\\prefilter.py'>,\n",
       " 'IPython.core.alias': <module 'IPython.core.alias' from 'c:\\\\Users\\\\hnd4r7\\\\AppData\\\\Local\\\\Programs\\\\Python\\\\Python312\\\\Lib\\\\site-packages\\\\IPython\\\\core\\\\alias.py'>,\n",
       " 'IPython.core.builtin_trap': <module 'IPython.core.builtin_trap' from 'c:\\\\Users\\\\hnd4r7\\\\AppData\\\\Local\\\\Programs\\\\Python\\\\Python312\\\\Lib\\\\site-packages\\\\IPython\\\\core\\\\builtin_trap.py'>,\n",
       " 'IPython.core.displayhook': <module 'IPython.core.displayhook' from 'c:\\\\Users\\\\hnd4r7\\\\AppData\\\\Local\\\\Programs\\\\Python\\\\Python312\\\\Lib\\\\site-packages\\\\IPython\\\\core\\\\displayhook.py'>,\n",
       " 'IPython.core.displaypub': <module 'IPython.core.displaypub' from 'c:\\\\Users\\\\hnd4r7\\\\AppData\\\\Local\\\\Programs\\\\Python\\\\Python312\\\\Lib\\\\site-packages\\\\IPython\\\\core\\\\displaypub.py'>,\n",
       " 'IPython.core.events': <module 'IPython.core.events' from 'c:\\\\Users\\\\hnd4r7\\\\AppData\\\\Local\\\\Programs\\\\Python\\\\Python312\\\\Lib\\\\site-packages\\\\IPython\\\\core\\\\events.py'>,\n",
       " 'IPython.core.extensions': <module 'IPython.core.extensions' from 'c:\\\\Users\\\\hnd4r7\\\\AppData\\\\Local\\\\Programs\\\\Python\\\\Python312\\\\Lib\\\\site-packages\\\\IPython\\\\core\\\\extensions.py'>,\n",
       " 'decorator': <module 'decorator' from 'C:\\\\Users\\\\hnd4r7\\\\AppData\\\\Roaming\\\\Python\\\\Python312\\\\site-packages\\\\decorator.py'>,\n",
       " 'IPython.utils.sentinel': <module 'IPython.utils.sentinel' from 'c:\\\\Users\\\\hnd4r7\\\\AppData\\\\Local\\\\Programs\\\\Python\\\\Python312\\\\Lib\\\\site-packages\\\\IPython\\\\utils\\\\sentinel.py'>,\n",
       " 'IPython.core.formatters': <module 'IPython.core.formatters' from 'c:\\\\Users\\\\hnd4r7\\\\AppData\\\\Local\\\\Programs\\\\Python\\\\Python312\\\\Lib\\\\site-packages\\\\IPython\\\\core\\\\formatters.py'>,\n",
       " '_sqlite3': <module '_sqlite3' from 'c:\\\\Users\\\\hnd4r7\\\\AppData\\\\Local\\\\Programs\\\\Python\\\\Python312\\\\DLLs\\\\_sqlite3.pyd'>,\n",
       " 'sqlite3.dbapi2': <module 'sqlite3.dbapi2' from 'c:\\\\Users\\\\hnd4r7\\\\AppData\\\\Local\\\\Programs\\\\Python\\\\Python312\\\\Lib\\\\sqlite3\\\\dbapi2.py'>,\n",
       " 'sqlite3': <module 'sqlite3' from 'c:\\\\Users\\\\hnd4r7\\\\AppData\\\\Local\\\\Programs\\\\Python\\\\Python312\\\\Lib\\\\sqlite3\\\\__init__.py'>,\n",
       " 'IPython.core.history': <module 'IPython.core.history' from 'c:\\\\Users\\\\hnd4r7\\\\AppData\\\\Local\\\\Programs\\\\Python\\\\Python312\\\\Lib\\\\site-packages\\\\IPython\\\\core\\\\history.py'>,\n",
       " 'IPython.core.logger': <module 'IPython.core.logger' from 'c:\\\\Users\\\\hnd4r7\\\\AppData\\\\Local\\\\Programs\\\\Python\\\\Python312\\\\Lib\\\\site-packages\\\\IPython\\\\core\\\\logger.py'>,\n",
       " 'IPython.core.payload': <module 'IPython.core.payload' from 'c:\\\\Users\\\\hnd4r7\\\\AppData\\\\Local\\\\Programs\\\\Python\\\\Python312\\\\Lib\\\\site-packages\\\\IPython\\\\core\\\\payload.py'>,\n",
       " 'IPython.core.usage': <module 'IPython.core.usage' from 'c:\\\\Users\\\\hnd4r7\\\\AppData\\\\Local\\\\Programs\\\\Python\\\\Python312\\\\Lib\\\\site-packages\\\\IPython\\\\core\\\\usage.py'>,\n",
       " 'IPython.utils.capture': <module 'IPython.utils.capture' from 'c:\\\\Users\\\\hnd4r7\\\\AppData\\\\Local\\\\Programs\\\\Python\\\\Python312\\\\Lib\\\\site-packages\\\\IPython\\\\utils\\\\capture.py'>,\n",
       " 'IPython.utils.io': <module 'IPython.utils.io' from 'c:\\\\Users\\\\hnd4r7\\\\AppData\\\\Local\\\\Programs\\\\Python\\\\Python312\\\\Lib\\\\site-packages\\\\IPython\\\\utils\\\\io.py'>,\n",
       " 'IPython.utils.strdispatch': <module 'IPython.utils.strdispatch' from 'c:\\\\Users\\\\hnd4r7\\\\AppData\\\\Local\\\\Programs\\\\Python\\\\Python312\\\\Lib\\\\site-packages\\\\IPython\\\\utils\\\\strdispatch.py'>,\n",
       " 'IPython.utils.syspathcontext': <module 'IPython.utils.syspathcontext' from 'c:\\\\Users\\\\hnd4r7\\\\AppData\\\\Local\\\\Programs\\\\Python\\\\Python312\\\\Lib\\\\site-packages\\\\IPython\\\\utils\\\\syspathcontext.py'>,\n",
       " 'IPython.core.async_helpers': <module 'IPython.core.async_helpers' from 'c:\\\\Users\\\\hnd4r7\\\\AppData\\\\Local\\\\Programs\\\\Python\\\\Python312\\\\Lib\\\\site-packages\\\\IPython\\\\core\\\\async_helpers.py'>,\n",
       " 'IPython.core.interactiveshell': <module 'IPython.core.interactiveshell' from 'c:\\\\Users\\\\hnd4r7\\\\AppData\\\\Local\\\\Programs\\\\Python\\\\Python312\\\\Lib\\\\site-packages\\\\IPython\\\\core\\\\interactiveshell.py'>,\n",
       " 'prompt_toolkit.application.current': <module 'prompt_toolkit.application.current' from 'c:\\\\Users\\\\hnd4r7\\\\AppData\\\\Local\\\\Programs\\\\Python\\\\Python312\\\\Lib\\\\site-packages\\\\prompt_toolkit\\\\application\\\\current.py'>,\n",
       " 'prompt_toolkit.eventloop.utils': <module 'prompt_toolkit.eventloop.utils' from 'c:\\\\Users\\\\hnd4r7\\\\AppData\\\\Local\\\\Programs\\\\Python\\\\Python312\\\\Lib\\\\site-packages\\\\prompt_toolkit\\\\eventloop\\\\utils.py'>,\n",
       " 'prompt_toolkit.eventloop.async_generator': <module 'prompt_toolkit.eventloop.async_generator' from 'c:\\\\Users\\\\hnd4r7\\\\AppData\\\\Local\\\\Programs\\\\Python\\\\Python312\\\\Lib\\\\site-packages\\\\prompt_toolkit\\\\eventloop\\\\async_generator.py'>,\n",
       " 'prompt_toolkit.eventloop.inputhook': <module 'prompt_toolkit.eventloop.inputhook' from 'c:\\\\Users\\\\hnd4r7\\\\AppData\\\\Local\\\\Programs\\\\Python\\\\Python312\\\\Lib\\\\site-packages\\\\prompt_toolkit\\\\eventloop\\\\inputhook.py'>,\n",
       " 'prompt_toolkit.eventloop': <module 'prompt_toolkit.eventloop' from 'c:\\\\Users\\\\hnd4r7\\\\AppData\\\\Local\\\\Programs\\\\Python\\\\Python312\\\\Lib\\\\site-packages\\\\prompt_toolkit\\\\eventloop\\\\__init__.py'>,\n",
       " 'prompt_toolkit.application.run_in_terminal': <module 'prompt_toolkit.application.run_in_terminal' from 'c:\\\\Users\\\\hnd4r7\\\\AppData\\\\Local\\\\Programs\\\\Python\\\\Python312\\\\Lib\\\\site-packages\\\\prompt_toolkit\\\\application\\\\run_in_terminal.py'>,\n",
       " 'prompt_toolkit.selection': <module 'prompt_toolkit.selection' from 'c:\\\\Users\\\\hnd4r7\\\\AppData\\\\Local\\\\Programs\\\\Python\\\\Python312\\\\Lib\\\\site-packages\\\\prompt_toolkit\\\\selection.py'>,\n",
       " 'prompt_toolkit.clipboard.base': <module 'prompt_toolkit.clipboard.base' from 'c:\\\\Users\\\\hnd4r7\\\\AppData\\\\Local\\\\Programs\\\\Python\\\\Python312\\\\Lib\\\\site-packages\\\\prompt_toolkit\\\\clipboard\\\\base.py'>,\n",
       " 'prompt_toolkit.clipboard.in_memory': <module 'prompt_toolkit.clipboard.in_memory' from 'c:\\\\Users\\\\hnd4r7\\\\AppData\\\\Local\\\\Programs\\\\Python\\\\Python312\\\\Lib\\\\site-packages\\\\prompt_toolkit\\\\clipboard\\\\in_memory.py'>,\n",
       " 'prompt_toolkit.clipboard': <module 'prompt_toolkit.clipboard' from 'c:\\\\Users\\\\hnd4r7\\\\AppData\\\\Local\\\\Programs\\\\Python\\\\Python312\\\\Lib\\\\site-packages\\\\prompt_toolkit\\\\clipboard\\\\__init__.py'>,\n",
       " 'prompt_toolkit.cache': <module 'prompt_toolkit.cache' from 'c:\\\\Users\\\\hnd4r7\\\\AppData\\\\Local\\\\Programs\\\\Python\\\\Python312\\\\Lib\\\\site-packages\\\\prompt_toolkit\\\\cache.py'>,\n",
       " 'prompt_toolkit.enums': <module 'prompt_toolkit.enums' from 'c:\\\\Users\\\\hnd4r7\\\\AppData\\\\Local\\\\Programs\\\\Python\\\\Python312\\\\Lib\\\\site-packages\\\\prompt_toolkit\\\\enums.py'>,\n",
       " 'prompt_toolkit.filters.base': <module 'prompt_toolkit.filters.base' from 'c:\\\\Users\\\\hnd4r7\\\\AppData\\\\Local\\\\Programs\\\\Python\\\\Python312\\\\Lib\\\\site-packages\\\\prompt_toolkit\\\\filters\\\\base.py'>,\n",
       " 'prompt_toolkit.filters.app': <module 'prompt_toolkit.filters.app' from 'c:\\\\Users\\\\hnd4r7\\\\AppData\\\\Local\\\\Programs\\\\Python\\\\Python312\\\\Lib\\\\site-packages\\\\prompt_toolkit\\\\filters\\\\app.py'>,\n",
       " 'prompt_toolkit.filters.cli': <module 'prompt_toolkit.filters.cli' from 'c:\\\\Users\\\\hnd4r7\\\\AppData\\\\Local\\\\Programs\\\\Python\\\\Python312\\\\Lib\\\\site-packages\\\\prompt_toolkit\\\\filters\\\\cli.py'>,\n",
       " 'prompt_toolkit.filters.utils': <module 'prompt_toolkit.filters.utils' from 'c:\\\\Users\\\\hnd4r7\\\\AppData\\\\Local\\\\Programs\\\\Python\\\\Python312\\\\Lib\\\\site-packages\\\\prompt_toolkit\\\\filters\\\\utils.py'>,\n",
       " 'prompt_toolkit.filters': <module 'prompt_toolkit.filters' from 'c:\\\\Users\\\\hnd4r7\\\\AppData\\\\Local\\\\Programs\\\\Python\\\\Python312\\\\Lib\\\\site-packages\\\\prompt_toolkit\\\\filters\\\\__init__.py'>,\n",
       " 'prompt_toolkit.document': <module 'prompt_toolkit.document' from 'c:\\\\Users\\\\hnd4r7\\\\AppData\\\\Local\\\\Programs\\\\Python\\\\Python312\\\\Lib\\\\site-packages\\\\prompt_toolkit\\\\document.py'>,\n",
       " 'prompt_toolkit.auto_suggest': <module 'prompt_toolkit.auto_suggest' from 'c:\\\\Users\\\\hnd4r7\\\\AppData\\\\Local\\\\Programs\\\\Python\\\\Python312\\\\Lib\\\\site-packages\\\\prompt_toolkit\\\\auto_suggest.py'>,\n",
       " 'prompt_toolkit.keys': <module 'prompt_toolkit.keys' from 'c:\\\\Users\\\\hnd4r7\\\\AppData\\\\Local\\\\Programs\\\\Python\\\\Python312\\\\Lib\\\\site-packages\\\\prompt_toolkit\\\\keys.py'>,\n",
       " 'prompt_toolkit.key_binding.key_bindings': <module 'prompt_toolkit.key_binding.key_bindings' from 'c:\\\\Users\\\\hnd4r7\\\\AppData\\\\Local\\\\Programs\\\\Python\\\\Python312\\\\Lib\\\\site-packages\\\\prompt_toolkit\\\\key_binding\\\\key_bindings.py'>,\n",
       " 'wcwidth.table_vs16': <module 'wcwidth.table_vs16' from 'c:\\\\Users\\\\hnd4r7\\\\AppData\\\\Local\\\\Programs\\\\Python\\\\Python312\\\\Lib\\\\site-packages\\\\wcwidth\\\\table_vs16.py'>,\n",
       " 'wcwidth.table_wide': <module 'wcwidth.table_wide' from 'c:\\\\Users\\\\hnd4r7\\\\AppData\\\\Local\\\\Programs\\\\Python\\\\Python312\\\\Lib\\\\site-packages\\\\wcwidth\\\\table_wide.py'>,\n",
       " 'wcwidth.table_zero': <module 'wcwidth.table_zero' from 'c:\\\\Users\\\\hnd4r7\\\\AppData\\\\Local\\\\Programs\\\\Python\\\\Python312\\\\Lib\\\\site-packages\\\\wcwidth\\\\table_zero.py'>,\n",
       " 'wcwidth.unicode_versions': <module 'wcwidth.unicode_versions' from 'c:\\\\Users\\\\hnd4r7\\\\AppData\\\\Local\\\\Programs\\\\Python\\\\Python312\\\\Lib\\\\site-packages\\\\wcwidth\\\\unicode_versions.py'>,\n",
       " 'wcwidth.wcwidth': <module 'wcwidth.wcwidth' from 'c:\\\\Users\\\\hnd4r7\\\\AppData\\\\Local\\\\Programs\\\\Python\\\\Python312\\\\Lib\\\\site-packages\\\\wcwidth\\\\wcwidth.py'>,\n",
       " 'wcwidth': <module 'wcwidth' from 'c:\\\\Users\\\\hnd4r7\\\\AppData\\\\Local\\\\Programs\\\\Python\\\\Python312\\\\Lib\\\\site-packages\\\\wcwidth\\\\__init__.py'>,\n",
       " 'prompt_toolkit.utils': <module 'prompt_toolkit.utils' from 'c:\\\\Users\\\\hnd4r7\\\\AppData\\\\Local\\\\Programs\\\\Python\\\\Python312\\\\Lib\\\\site-packages\\\\prompt_toolkit\\\\utils.py'>,\n",
       " 'prompt_toolkit.key_binding.key_processor': <module 'prompt_toolkit.key_binding.key_processor' from 'c:\\\\Users\\\\hnd4r7\\\\AppData\\\\Local\\\\Programs\\\\Python\\\\Python312\\\\Lib\\\\site-packages\\\\prompt_toolkit\\\\key_binding\\\\key_processor.py'>,\n",
       " 'prompt_toolkit.key_binding': <module 'prompt_toolkit.key_binding' from 'c:\\\\Users\\\\hnd4r7\\\\AppData\\\\Local\\\\Programs\\\\Python\\\\Python312\\\\Lib\\\\site-packages\\\\prompt_toolkit\\\\key_binding\\\\__init__.py'>,\n",
       " 'prompt_toolkit.key_binding.vi_state': <module 'prompt_toolkit.key_binding.vi_state' from 'c:\\\\Users\\\\hnd4r7\\\\AppData\\\\Local\\\\Programs\\\\Python\\\\Python312\\\\Lib\\\\site-packages\\\\prompt_toolkit\\\\key_binding\\\\vi_state.py'>,\n",
       " 'prompt_toolkit.cursor_shapes': <module 'prompt_toolkit.cursor_shapes' from 'c:\\\\Users\\\\hnd4r7\\\\AppData\\\\Local\\\\Programs\\\\Python\\\\Python312\\\\Lib\\\\site-packages\\\\prompt_toolkit\\\\cursor_shapes.py'>,\n",
       " 'prompt_toolkit.data_structures': <module 'prompt_toolkit.data_structures' from 'c:\\\\Users\\\\hnd4r7\\\\AppData\\\\Local\\\\Programs\\\\Python\\\\Python312\\\\Lib\\\\site-packages\\\\prompt_toolkit\\\\data_structures.py'>,\n",
       " 'prompt_toolkit.styles.base': <module 'prompt_toolkit.styles.base' from 'c:\\\\Users\\\\hnd4r7\\\\AppData\\\\Local\\\\Programs\\\\Python\\\\Python312\\\\Lib\\\\site-packages\\\\prompt_toolkit\\\\styles\\\\base.py'>,\n",
       " 'prompt_toolkit.styles.named_colors': <module 'prompt_toolkit.styles.named_colors' from 'c:\\\\Users\\\\hnd4r7\\\\AppData\\\\Local\\\\Programs\\\\Python\\\\Python312\\\\Lib\\\\site-packages\\\\prompt_toolkit\\\\styles\\\\named_colors.py'>,\n",
       " 'prompt_toolkit.styles.style': <module 'prompt_toolkit.styles.style' from 'c:\\\\Users\\\\hnd4r7\\\\AppData\\\\Local\\\\Programs\\\\Python\\\\Python312\\\\Lib\\\\site-packages\\\\prompt_toolkit\\\\styles\\\\style.py'>,\n",
       " 'prompt_toolkit.styles.defaults': <module 'prompt_toolkit.styles.defaults' from 'c:\\\\Users\\\\hnd4r7\\\\AppData\\\\Local\\\\Programs\\\\Python\\\\Python312\\\\Lib\\\\site-packages\\\\prompt_toolkit\\\\styles\\\\defaults.py'>,\n",
       " 'prompt_toolkit.styles.pygments': <module 'prompt_toolkit.styles.pygments' from 'c:\\\\Users\\\\hnd4r7\\\\AppData\\\\Local\\\\Programs\\\\Python\\\\Python312\\\\Lib\\\\site-packages\\\\prompt_toolkit\\\\styles\\\\pygments.py'>,\n",
       " 'colorsys': <module 'colorsys' from 'c:\\\\Users\\\\hnd4r7\\\\AppData\\\\Local\\\\Programs\\\\Python\\\\Python312\\\\Lib\\\\colorsys.py'>,\n",
       " 'prompt_toolkit.styles.style_transformation': <module 'prompt_toolkit.styles.style_transformation' from 'c:\\\\Users\\\\hnd4r7\\\\AppData\\\\Local\\\\Programs\\\\Python\\\\Python312\\\\Lib\\\\site-packages\\\\prompt_toolkit\\\\styles\\\\style_transformation.py'>,\n",
       " 'prompt_toolkit.styles': <module 'prompt_toolkit.styles' from 'c:\\\\Users\\\\hnd4r7\\\\AppData\\\\Local\\\\Programs\\\\Python\\\\Python312\\\\Lib\\\\site-packages\\\\prompt_toolkit\\\\styles\\\\__init__.py'>,\n",
       " 'prompt_toolkit.output.color_depth': <module 'prompt_toolkit.output.color_depth' from 'c:\\\\Users\\\\hnd4r7\\\\AppData\\\\Local\\\\Programs\\\\Python\\\\Python312\\\\Lib\\\\site-packages\\\\prompt_toolkit\\\\output\\\\color_depth.py'>,\n",
       " 'prompt_toolkit.output.base': <module 'prompt_toolkit.output.base' from 'c:\\\\Users\\\\hnd4r7\\\\AppData\\\\Local\\\\Programs\\\\Python\\\\Python312\\\\Lib\\\\site-packages\\\\prompt_toolkit\\\\output\\\\base.py'>,\n",
       " 'prompt_toolkit.output.flush_stdout': <module 'prompt_toolkit.output.flush_stdout' from 'c:\\\\Users\\\\hnd4r7\\\\AppData\\\\Local\\\\Programs\\\\Python\\\\Python312\\\\Lib\\\\site-packages\\\\prompt_toolkit\\\\output\\\\flush_stdout.py'>,\n",
       " 'prompt_toolkit.output.plain_text': <module 'prompt_toolkit.output.plain_text' from 'c:\\\\Users\\\\hnd4r7\\\\AppData\\\\Local\\\\Programs\\\\Python\\\\Python312\\\\Lib\\\\site-packages\\\\prompt_toolkit\\\\output\\\\plain_text.py'>,\n",
       " 'prompt_toolkit.output.defaults': <module 'prompt_toolkit.output.defaults' from 'c:\\\\Users\\\\hnd4r7\\\\AppData\\\\Local\\\\Programs\\\\Python\\\\Python312\\\\Lib\\\\site-packages\\\\prompt_toolkit\\\\output\\\\defaults.py'>,\n",
       " 'prompt_toolkit.output': <module 'prompt_toolkit.output' from 'c:\\\\Users\\\\hnd4r7\\\\AppData\\\\Local\\\\Programs\\\\Python\\\\Python312\\\\Lib\\\\site-packages\\\\prompt_toolkit\\\\output\\\\__init__.py'>,\n",
       " 'prompt_toolkit.output.vt100': <module 'prompt_toolkit.output.vt100' from 'c:\\\\Users\\\\hnd4r7\\\\AppData\\\\Local\\\\Programs\\\\Python\\\\Python312\\\\Lib\\\\site-packages\\\\prompt_toolkit\\\\output\\\\vt100.py'>,\n",
       " 'prompt_toolkit.mouse_events': <module 'prompt_toolkit.mouse_events' from 'c:\\\\Users\\\\hnd4r7\\\\AppData\\\\Local\\\\Programs\\\\Python\\\\Python312\\\\Lib\\\\site-packages\\\\prompt_toolkit\\\\mouse_events.py'>,\n",
       " 'prompt_toolkit.formatted_text.base': <module 'prompt_toolkit.formatted_text.base' from 'c:\\\\Users\\\\hnd4r7\\\\AppData\\\\Local\\\\Programs\\\\Python\\\\Python312\\\\Lib\\\\site-packages\\\\prompt_toolkit\\\\formatted_text\\\\base.py'>,\n",
       " 'prompt_toolkit.formatted_text.ansi': <module 'prompt_toolkit.formatted_text.ansi' from 'c:\\\\Users\\\\hnd4r7\\\\AppData\\\\Local\\\\Programs\\\\Python\\\\Python312\\\\Lib\\\\site-packages\\\\prompt_toolkit\\\\formatted_text\\\\ansi.py'>,\n",
       " 'xml': <module 'xml' from 'c:\\\\Users\\\\hnd4r7\\\\AppData\\\\Local\\\\Programs\\\\Python\\\\Python312\\\\Lib\\\\xml\\\\__init__.py'>,\n",
       " 'xml.dom.domreg': <module 'xml.dom.domreg' from 'c:\\\\Users\\\\hnd4r7\\\\AppData\\\\Local\\\\Programs\\\\Python\\\\Python312\\\\Lib\\\\xml\\\\dom\\\\domreg.py'>,\n",
       " 'xml.dom': <module 'xml.dom' from 'c:\\\\Users\\\\hnd4r7\\\\AppData\\\\Local\\\\Programs\\\\Python\\\\Python312\\\\Lib\\\\xml\\\\dom\\\\__init__.py'>,\n",
       " 'xml.dom.minicompat': <module 'xml.dom.minicompat' from 'c:\\\\Users\\\\hnd4r7\\\\AppData\\\\Local\\\\Programs\\\\Python\\\\Python312\\\\Lib\\\\xml\\\\dom\\\\minicompat.py'>,\n",
       " 'xml.dom.NodeFilter': <module 'xml.dom.NodeFilter' from 'c:\\\\Users\\\\hnd4r7\\\\AppData\\\\Local\\\\Programs\\\\Python\\\\Python312\\\\Lib\\\\xml\\\\dom\\\\NodeFilter.py'>,\n",
       " 'xml.dom.xmlbuilder': <module 'xml.dom.xmlbuilder' from 'c:\\\\Users\\\\hnd4r7\\\\AppData\\\\Local\\\\Programs\\\\Python\\\\Python312\\\\Lib\\\\xml\\\\dom\\\\xmlbuilder.py'>,\n",
       " 'xml.dom.minidom': <module 'xml.dom.minidom' from 'c:\\\\Users\\\\hnd4r7\\\\AppData\\\\Local\\\\Programs\\\\Python\\\\Python312\\\\Lib\\\\xml\\\\dom\\\\minidom.py'>,\n",
       " 'prompt_toolkit.formatted_text.html': <module 'prompt_toolkit.formatted_text.html' from 'c:\\\\Users\\\\hnd4r7\\\\AppData\\\\Local\\\\Programs\\\\Python\\\\Python312\\\\Lib\\\\site-packages\\\\prompt_toolkit\\\\formatted_text\\\\html.py'>,\n",
       " 'prompt_toolkit.formatted_text.pygments': <module 'prompt_toolkit.formatted_text.pygments' from 'c:\\\\Users\\\\hnd4r7\\\\AppData\\\\Local\\\\Programs\\\\Python\\\\Python312\\\\Lib\\\\site-packages\\\\prompt_toolkit\\\\formatted_text\\\\pygments.py'>,\n",
       " 'prompt_toolkit.formatted_text.utils': <module 'prompt_toolkit.formatted_text.utils' from 'c:\\\\Users\\\\hnd4r7\\\\AppData\\\\Local\\\\Programs\\\\Python\\\\Python312\\\\Lib\\\\site-packages\\\\prompt_toolkit\\\\formatted_text\\\\utils.py'>,\n",
       " 'prompt_toolkit.formatted_text': <module 'prompt_toolkit.formatted_text' from 'c:\\\\Users\\\\hnd4r7\\\\AppData\\\\Local\\\\Programs\\\\Python\\\\Python312\\\\Lib\\\\site-packages\\\\prompt_toolkit\\\\formatted_text\\\\__init__.py'>,\n",
       " 'prompt_toolkit.completion.base': <module 'prompt_toolkit.completion.base' from 'c:\\\\Users\\\\hnd4r7\\\\AppData\\\\Local\\\\Programs\\\\Python\\\\Python312\\\\Lib\\\\site-packages\\\\prompt_toolkit\\\\completion\\\\base.py'>,\n",
       " 'prompt_toolkit.completion.deduplicate': <module 'prompt_toolkit.completion.deduplicate' from 'c:\\\\Users\\\\hnd4r7\\\\AppData\\\\Local\\\\Programs\\\\Python\\\\Python312\\\\Lib\\\\site-packages\\\\prompt_toolkit\\\\completion\\\\deduplicate.py'>,\n",
       " 'prompt_toolkit.completion.filesystem': <module 'prompt_toolkit.completion.filesystem' from 'c:\\\\Users\\\\hnd4r7\\\\AppData\\\\Local\\\\Programs\\\\Python\\\\Python312\\\\Lib\\\\site-packages\\\\prompt_toolkit\\\\completion\\\\filesystem.py'>,\n",
       " 'prompt_toolkit.completion.word_completer': <module 'prompt_toolkit.completion.word_completer' from 'c:\\\\Users\\\\hnd4r7\\\\AppData\\\\Local\\\\Programs\\\\Python\\\\Python312\\\\Lib\\\\site-packages\\\\prompt_toolkit\\\\completion\\\\word_completer.py'>,\n",
       " 'prompt_toolkit.completion.fuzzy_completer': <module 'prompt_toolkit.completion.fuzzy_completer' from 'c:\\\\Users\\\\hnd4r7\\\\AppData\\\\Local\\\\Programs\\\\Python\\\\Python312\\\\Lib\\\\site-packages\\\\prompt_toolkit\\\\completion\\\\fuzzy_completer.py'>,\n",
       " 'prompt_toolkit.completion.nested': <module 'prompt_toolkit.completion.nested' from 'c:\\\\Users\\\\hnd4r7\\\\AppData\\\\Local\\\\Programs\\\\Python\\\\Python312\\\\Lib\\\\site-packages\\\\prompt_toolkit\\\\completion\\\\nested.py'>,\n",
       " 'prompt_toolkit.completion': <module 'prompt_toolkit.completion' from 'c:\\\\Users\\\\hnd4r7\\\\AppData\\\\Local\\\\Programs\\\\Python\\\\Python312\\\\Lib\\\\site-packages\\\\prompt_toolkit\\\\completion\\\\__init__.py'>,\n",
       " 'prompt_toolkit.history': <module 'prompt_toolkit.history' from 'c:\\\\Users\\\\hnd4r7\\\\AppData\\\\Local\\\\Programs\\\\Python\\\\Python312\\\\Lib\\\\site-packages\\\\prompt_toolkit\\\\history.py'>,\n",
       " 'prompt_toolkit.search': <module 'prompt_toolkit.search' from 'c:\\\\Users\\\\hnd4r7\\\\AppData\\\\Local\\\\Programs\\\\Python\\\\Python312\\\\Lib\\\\site-packages\\\\prompt_toolkit\\\\search.py'>,\n",
       " 'prompt_toolkit.validation': <module 'prompt_toolkit.validation' from 'c:\\\\Users\\\\hnd4r7\\\\AppData\\\\Local\\\\Programs\\\\Python\\\\Python312\\\\Lib\\\\site-packages\\\\prompt_toolkit\\\\validation.py'>,\n",
       " 'prompt_toolkit.buffer': <module 'prompt_toolkit.buffer' from 'c:\\\\Users\\\\hnd4r7\\\\AppData\\\\Local\\\\Programs\\\\Python\\\\Python312\\\\Lib\\\\site-packages\\\\prompt_toolkit\\\\buffer.py'>,\n",
       " 'prompt_toolkit.input.base': <module 'prompt_toolkit.input.base' from 'c:\\\\Users\\\\hnd4r7\\\\AppData\\\\Local\\\\Programs\\\\Python\\\\Python312\\\\Lib\\\\site-packages\\\\prompt_toolkit\\\\input\\\\base.py'>,\n",
       " 'prompt_toolkit.input.defaults': <module 'prompt_toolkit.input.defaults' from 'c:\\\\Users\\\\hnd4r7\\\\AppData\\\\Local\\\\Programs\\\\Python\\\\Python312\\\\Lib\\\\site-packages\\\\prompt_toolkit\\\\input\\\\defaults.py'>,\n",
       " 'prompt_toolkit.input': <module 'prompt_toolkit.input' from 'c:\\\\Users\\\\hnd4r7\\\\AppData\\\\Local\\\\Programs\\\\Python\\\\Python312\\\\Lib\\\\site-packages\\\\prompt_toolkit\\\\input\\\\__init__.py'>,\n",
       " 'prompt_toolkit.input.typeahead': <module 'prompt_toolkit.input.typeahead' from 'c:\\\\Users\\\\hnd4r7\\\\AppData\\\\Local\\\\Programs\\\\Python\\\\Python312\\\\Lib\\\\site-packages\\\\prompt_toolkit\\\\input\\\\typeahead.py'>,\n",
       " 'prompt_toolkit.key_binding.bindings': <module 'prompt_toolkit.key_binding.bindings' from 'c:\\\\Users\\\\hnd4r7\\\\AppData\\\\Local\\\\Programs\\\\Python\\\\Python312\\\\Lib\\\\site-packages\\\\prompt_toolkit\\\\key_binding\\\\bindings\\\\__init__.py'>,\n",
       " 'prompt_toolkit.key_binding.bindings.scroll': <module 'prompt_toolkit.key_binding.bindings.scroll' from 'c:\\\\Users\\\\hnd4r7\\\\AppData\\\\Local\\\\Programs\\\\Python\\\\Python312\\\\Lib\\\\site-packages\\\\prompt_toolkit\\\\key_binding\\\\bindings\\\\scroll.py'>,\n",
       " 'prompt_toolkit.key_binding.bindings.page_navigation': <module 'prompt_toolkit.key_binding.bindings.page_navigation' from 'c:\\\\Users\\\\hnd4r7\\\\AppData\\\\Local\\\\Programs\\\\Python\\\\Python312\\\\Lib\\\\site-packages\\\\prompt_toolkit\\\\key_binding\\\\bindings\\\\page_navigation.py'>,\n",
       " 'prompt_toolkit.lexers.base': <module 'prompt_toolkit.lexers.base' from 'c:\\\\Users\\\\hnd4r7\\\\AppData\\\\Local\\\\Programs\\\\Python\\\\Python312\\\\Lib\\\\site-packages\\\\prompt_toolkit\\\\lexers\\\\base.py'>,\n",
       " 'prompt_toolkit.lexers.pygments': <module 'prompt_toolkit.lexers.pygments' from 'c:\\\\Users\\\\hnd4r7\\\\AppData\\\\Local\\\\Programs\\\\Python\\\\Python312\\\\Lib\\\\site-packages\\\\prompt_toolkit\\\\lexers\\\\pygments.py'>,\n",
       " 'prompt_toolkit.lexers': <module 'prompt_toolkit.lexers' from 'c:\\\\Users\\\\hnd4r7\\\\AppData\\\\Local\\\\Programs\\\\Python\\\\Python312\\\\Lib\\\\site-packages\\\\prompt_toolkit\\\\lexers\\\\__init__.py'>,\n",
       " 'prompt_toolkit.layout.utils': <module 'prompt_toolkit.layout.utils' from 'c:\\\\Users\\\\hnd4r7\\\\AppData\\\\Local\\\\Programs\\\\Python\\\\Python312\\\\Lib\\\\site-packages\\\\prompt_toolkit\\\\layout\\\\utils.py'>,\n",
       " 'prompt_toolkit.layout.processors': <module 'prompt_toolkit.layout.processors' from 'c:\\\\Users\\\\hnd4r7\\\\AppData\\\\Local\\\\Programs\\\\Python\\\\Python312\\\\Lib\\\\site-packages\\\\prompt_toolkit\\\\layout\\\\processors.py'>,\n",
       " 'prompt_toolkit.layout.controls': <module 'prompt_toolkit.layout.controls' from 'c:\\\\Users\\\\hnd4r7\\\\AppData\\\\Local\\\\Programs\\\\Python\\\\Python312\\\\Lib\\\\site-packages\\\\prompt_toolkit\\\\layout\\\\controls.py'>,\n",
       " 'prompt_toolkit.layout.dimension': <module 'prompt_toolkit.layout.dimension' from 'c:\\\\Users\\\\hnd4r7\\\\AppData\\\\Local\\\\Programs\\\\Python\\\\Python312\\\\Lib\\\\site-packages\\\\prompt_toolkit\\\\layout\\\\dimension.py'>,\n",
       " 'prompt_toolkit.layout.margins': <module 'prompt_toolkit.layout.margins' from 'c:\\\\Users\\\\hnd4r7\\\\AppData\\\\Local\\\\Programs\\\\Python\\\\Python312\\\\Lib\\\\site-packages\\\\prompt_toolkit\\\\layout\\\\margins.py'>,\n",
       " 'prompt_toolkit.layout.mouse_handlers': <module 'prompt_toolkit.layout.mouse_handlers' from 'c:\\\\Users\\\\hnd4r7\\\\AppData\\\\Local\\\\Programs\\\\Python\\\\Python312\\\\Lib\\\\site-packages\\\\prompt_toolkit\\\\layout\\\\mouse_handlers.py'>,\n",
       " 'prompt_toolkit.layout.screen': <module 'prompt_toolkit.layout.screen' from 'c:\\\\Users\\\\hnd4r7\\\\AppData\\\\Local\\\\Programs\\\\Python\\\\Python312\\\\Lib\\\\site-packages\\\\prompt_toolkit\\\\layout\\\\screen.py'>,\n",
       " 'prompt_toolkit.layout.containers': <module 'prompt_toolkit.layout.containers' from 'c:\\\\Users\\\\hnd4r7\\\\AppData\\\\Local\\\\Programs\\\\Python\\\\Python312\\\\Lib\\\\site-packages\\\\prompt_toolkit\\\\layout\\\\containers.py'>,\n",
       " 'prompt_toolkit.layout.layout': <module 'prompt_toolkit.layout.layout' from 'c:\\\\Users\\\\hnd4r7\\\\AppData\\\\Local\\\\Programs\\\\Python\\\\Python312\\\\Lib\\\\site-packages\\\\prompt_toolkit\\\\layout\\\\layout.py'>,\n",
       " 'prompt_toolkit.layout.menus': <module 'prompt_toolkit.layout.menus' from 'c:\\\\Users\\\\hnd4r7\\\\AppData\\\\Local\\\\Programs\\\\Python\\\\Python312\\\\Lib\\\\site-packages\\\\prompt_toolkit\\\\layout\\\\menus.py'>,\n",
       " 'prompt_toolkit.layout.scrollable_pane': <module 'prompt_toolkit.layout.scrollable_pane' from 'c:\\\\Users\\\\hnd4r7\\\\AppData\\\\Local\\\\Programs\\\\Python\\\\Python312\\\\Lib\\\\site-packages\\\\prompt_toolkit\\\\layout\\\\scrollable_pane.py'>,\n",
       " 'prompt_toolkit.layout': <module 'prompt_toolkit.layout' from 'c:\\\\Users\\\\hnd4r7\\\\AppData\\\\Local\\\\Programs\\\\Python\\\\Python312\\\\Lib\\\\site-packages\\\\prompt_toolkit\\\\layout\\\\__init__.py'>,\n",
       " 'prompt_toolkit.key_binding.bindings.completion': <module 'prompt_toolkit.key_binding.bindings.completion' from 'c:\\\\Users\\\\hnd4r7\\\\AppData\\\\Local\\\\Programs\\\\Python\\\\Python312\\\\Lib\\\\site-packages\\\\prompt_toolkit\\\\key_binding\\\\bindings\\\\completion.py'>,\n",
       " 'prompt_toolkit.key_binding.bindings.named_commands': <module 'prompt_toolkit.key_binding.bindings.named_commands' from 'c:\\\\Users\\\\hnd4r7\\\\AppData\\\\Local\\\\Programs\\\\Python\\\\Python312\\\\Lib\\\\site-packages\\\\prompt_toolkit\\\\key_binding\\\\bindings\\\\named_commands.py'>,\n",
       " 'prompt_toolkit.key_binding.bindings.basic': <module 'prompt_toolkit.key_binding.bindings.basic' from 'c:\\\\Users\\\\hnd4r7\\\\AppData\\\\Local\\\\Programs\\\\Python\\\\Python312\\\\Lib\\\\site-packages\\\\prompt_toolkit\\\\key_binding\\\\bindings\\\\basic.py'>,\n",
       " 'prompt_toolkit.key_binding.bindings.cpr': <module 'prompt_toolkit.key_binding.bindings.cpr' from 'c:\\\\Users\\\\hnd4r7\\\\AppData\\\\Local\\\\Programs\\\\Python\\\\Python312\\\\Lib\\\\site-packages\\\\prompt_toolkit\\\\key_binding\\\\bindings\\\\cpr.py'>,\n",
       " 'prompt_toolkit.key_binding.bindings.emacs': <module 'prompt_toolkit.key_binding.bindings.emacs' from 'c:\\\\Users\\\\hnd4r7\\\\AppData\\\\Local\\\\Programs\\\\Python\\\\Python312\\\\Lib\\\\site-packages\\\\prompt_toolkit\\\\key_binding\\\\bindings\\\\emacs.py'>,\n",
       " 'prompt_toolkit.key_binding.bindings.mouse': <module 'prompt_toolkit.key_binding.bindings.mouse' from 'c:\\\\Users\\\\hnd4r7\\\\AppData\\\\Local\\\\Programs\\\\Python\\\\Python312\\\\Lib\\\\site-packages\\\\prompt_toolkit\\\\key_binding\\\\bindings\\\\mouse.py'>,\n",
       " 'prompt_toolkit.input.ansi_escape_sequences': <module 'prompt_toolkit.input.ansi_escape_sequences' from 'c:\\\\Users\\\\hnd4r7\\\\AppData\\\\Local\\\\Programs\\\\Python\\\\Python312\\\\Lib\\\\site-packages\\\\prompt_toolkit\\\\input\\\\ansi_escape_sequences.py'>,\n",
       " 'prompt_toolkit.input.vt100_parser': <module 'prompt_toolkit.input.vt100_parser' from 'c:\\\\Users\\\\hnd4r7\\\\AppData\\\\Local\\\\Programs\\\\Python\\\\Python312\\\\Lib\\\\site-packages\\\\prompt_toolkit\\\\input\\\\vt100_parser.py'>,\n",
       " 'prompt_toolkit.key_binding.digraphs': <module 'prompt_toolkit.key_binding.digraphs' from 'c:\\\\Users\\\\hnd4r7\\\\AppData\\\\Local\\\\Programs\\\\Python\\\\Python312\\\\Lib\\\\site-packages\\\\prompt_toolkit\\\\key_binding\\\\digraphs.py'>,\n",
       " 'prompt_toolkit.key_binding.bindings.vi': <module 'prompt_toolkit.key_binding.bindings.vi' from 'c:\\\\Users\\\\hnd4r7\\\\AppData\\\\Local\\\\Programs\\\\Python\\\\Python312\\\\Lib\\\\site-packages\\\\prompt_toolkit\\\\key_binding\\\\bindings\\\\vi.py'>,\n",
       " 'prompt_toolkit.key_binding.defaults': <module 'prompt_toolkit.key_binding.defaults' from 'c:\\\\Users\\\\hnd4r7\\\\AppData\\\\Local\\\\Programs\\\\Python\\\\Python312\\\\Lib\\\\site-packages\\\\prompt_toolkit\\\\key_binding\\\\defaults.py'>,\n",
       " 'prompt_toolkit.key_binding.emacs_state': <module 'prompt_toolkit.key_binding.emacs_state' from 'c:\\\\Users\\\\hnd4r7\\\\AppData\\\\Local\\\\Programs\\\\Python\\\\Python312\\\\Lib\\\\site-packages\\\\prompt_toolkit\\\\key_binding\\\\emacs_state.py'>,\n",
       " 'prompt_toolkit.layout.dummy': <module 'prompt_toolkit.layout.dummy' from 'c:\\\\Users\\\\hnd4r7\\\\AppData\\\\Local\\\\Programs\\\\Python\\\\Python312\\\\Lib\\\\site-packages\\\\prompt_toolkit\\\\layout\\\\dummy.py'>,\n",
       " 'prompt_toolkit.renderer': <module 'prompt_toolkit.renderer' from 'c:\\\\Users\\\\hnd4r7\\\\AppData\\\\Local\\\\Programs\\\\Python\\\\Python312\\\\Lib\\\\site-packages\\\\prompt_toolkit\\\\renderer.py'>,\n",
       " 'prompt_toolkit.application.application': <module 'prompt_toolkit.application.application' from 'c:\\\\Users\\\\hnd4r7\\\\AppData\\\\Local\\\\Programs\\\\Python\\\\Python312\\\\Lib\\\\site-packages\\\\prompt_toolkit\\\\application\\\\application.py'>,\n",
       " 'prompt_toolkit.application.dummy': <module 'prompt_toolkit.application.dummy' from 'c:\\\\Users\\\\hnd4r7\\\\AppData\\\\Local\\\\Programs\\\\Python\\\\Python312\\\\Lib\\\\site-packages\\\\prompt_toolkit\\\\application\\\\dummy.py'>,\n",
       " 'prompt_toolkit.application': <module 'prompt_toolkit.application' from 'c:\\\\Users\\\\hnd4r7\\\\AppData\\\\Local\\\\Programs\\\\Python\\\\Python312\\\\Lib\\\\site-packages\\\\prompt_toolkit\\\\application\\\\__init__.py'>,\n",
       " 'prompt_toolkit.key_binding.bindings.focus': <module 'prompt_toolkit.key_binding.bindings.focus' from 'c:\\\\Users\\\\hnd4r7\\\\AppData\\\\Local\\\\Programs\\\\Python\\\\Python312\\\\Lib\\\\site-packages\\\\prompt_toolkit\\\\key_binding\\\\bindings\\\\focus.py'>,\n",
       " 'prompt_toolkit.widgets.toolbars': <module 'prompt_toolkit.widgets.toolbars' from 'c:\\\\Users\\\\hnd4r7\\\\AppData\\\\Local\\\\Programs\\\\Python\\\\Python312\\\\Lib\\\\site-packages\\\\prompt_toolkit\\\\widgets\\\\toolbars.py'>,\n",
       " 'prompt_toolkit.widgets.base': <module 'prompt_toolkit.widgets.base' from 'c:\\\\Users\\\\hnd4r7\\\\AppData\\\\Local\\\\Programs\\\\Python\\\\Python312\\\\Lib\\\\site-packages\\\\prompt_toolkit\\\\widgets\\\\base.py'>,\n",
       " 'prompt_toolkit.widgets.dialogs': <module 'prompt_toolkit.widgets.dialogs' from 'c:\\\\Users\\\\hnd4r7\\\\AppData\\\\Local\\\\Programs\\\\Python\\\\Python312\\\\Lib\\\\site-packages\\\\prompt_toolkit\\\\widgets\\\\dialogs.py'>,\n",
       " 'prompt_toolkit.widgets.menus': <module 'prompt_toolkit.widgets.menus' from 'c:\\\\Users\\\\hnd4r7\\\\AppData\\\\Local\\\\Programs\\\\Python\\\\Python312\\\\Lib\\\\site-packages\\\\prompt_toolkit\\\\widgets\\\\menus.py'>,\n",
       " 'prompt_toolkit.widgets': <module 'prompt_toolkit.widgets' from 'c:\\\\Users\\\\hnd4r7\\\\AppData\\\\Local\\\\Programs\\\\Python\\\\Python312\\\\Lib\\\\site-packages\\\\prompt_toolkit\\\\widgets\\\\__init__.py'>,\n",
       " 'prompt_toolkit.shortcuts.dialogs': <module 'prompt_toolkit.shortcuts.dialogs' from 'c:\\\\Users\\\\hnd4r7\\\\AppData\\\\Local\\\\Programs\\\\Python\\\\Python312\\\\Lib\\\\site-packages\\\\prompt_toolkit\\\\shortcuts\\\\dialogs.py'>,\n",
       " 'xml.parsers': <module 'xml.parsers' from 'c:\\\\Users\\\\hnd4r7\\\\AppData\\\\Local\\\\Programs\\\\Python\\\\Python312\\\\Lib\\\\xml\\\\parsers\\\\__init__.py'>,\n",
       " 'pyexpat.errors': <module 'pyexpat.errors'>,\n",
       " 'pyexpat.model': <module 'pyexpat.model'>,\n",
       " 'pyexpat': <module 'pyexpat' from 'c:\\\\Users\\\\hnd4r7\\\\AppData\\\\Local\\\\Programs\\\\Python\\\\Python312\\\\DLLs\\\\pyexpat.pyd'>,\n",
       " 'xml.parsers.expat.model': <module 'pyexpat.model'>,\n",
       " 'xml.parsers.expat.errors': <module 'pyexpat.errors'>,\n",
       " 'xml.parsers.expat': <module 'xml.parsers.expat' from 'c:\\\\Users\\\\hnd4r7\\\\AppData\\\\Local\\\\Programs\\\\Python\\\\Python312\\\\Lib\\\\xml\\\\parsers\\\\expat.py'>,\n",
       " 'xml.dom.expatbuilder': <module 'xml.dom.expatbuilder' from 'c:\\\\Users\\\\hnd4r7\\\\AppData\\\\Local\\\\Programs\\\\Python\\\\Python312\\\\Lib\\\\xml\\\\dom\\\\expatbuilder.py'>,\n",
       " 'prompt_toolkit.shortcuts.progress_bar.formatters': <module 'prompt_toolkit.shortcuts.progress_bar.formatters' from 'c:\\\\Users\\\\hnd4r7\\\\AppData\\\\Local\\\\Programs\\\\Python\\\\Python312\\\\Lib\\\\site-packages\\\\prompt_toolkit\\\\shortcuts\\\\progress_bar\\\\formatters.py'>,\n",
       " 'prompt_toolkit.shortcuts.progress_bar.base': <module 'prompt_toolkit.shortcuts.progress_bar.base' from 'c:\\\\Users\\\\hnd4r7\\\\AppData\\\\Local\\\\Programs\\\\Python\\\\Python312\\\\Lib\\\\site-packages\\\\prompt_toolkit\\\\shortcuts\\\\progress_bar\\\\base.py'>,\n",
       " 'prompt_toolkit.shortcuts.progress_bar': <module 'prompt_toolkit.shortcuts.progress_bar' from 'c:\\\\Users\\\\hnd4r7\\\\AppData\\\\Local\\\\Programs\\\\Python\\\\Python312\\\\Lib\\\\site-packages\\\\prompt_toolkit\\\\shortcuts\\\\progress_bar\\\\__init__.py'>,\n",
       " 'prompt_toolkit.key_binding.bindings.auto_suggest': <module 'prompt_toolkit.key_binding.bindings.auto_suggest' from 'c:\\\\Users\\\\hnd4r7\\\\AppData\\\\Local\\\\Programs\\\\Python\\\\Python312\\\\Lib\\\\site-packages\\\\prompt_toolkit\\\\key_binding\\\\bindings\\\\auto_suggest.py'>,\n",
       " 'prompt_toolkit.key_binding.bindings.open_in_editor': <module 'prompt_toolkit.key_binding.bindings.open_in_editor' from 'c:\\\\Users\\\\hnd4r7\\\\AppData\\\\Local\\\\Programs\\\\Python\\\\Python312\\\\Lib\\\\site-packages\\\\prompt_toolkit\\\\key_binding\\\\bindings\\\\open_in_editor.py'>,\n",
       " 'prompt_toolkit.shortcuts.prompt': <module 'prompt_toolkit.shortcuts.prompt' from 'c:\\\\Users\\\\hnd4r7\\\\AppData\\\\Local\\\\Programs\\\\Python\\\\Python312\\\\Lib\\\\site-packages\\\\prompt_toolkit\\\\shortcuts\\\\prompt.py'>,\n",
       " 'prompt_toolkit.shortcuts.utils': <module 'prompt_toolkit.shortcuts.utils' from 'c:\\\\Users\\\\hnd4r7\\\\AppData\\\\Local\\\\Programs\\\\Python\\\\Python312\\\\Lib\\\\site-packages\\\\prompt_toolkit\\\\shortcuts\\\\utils.py'>,\n",
       " 'prompt_toolkit.shortcuts': <module 'prompt_toolkit.shortcuts' from 'c:\\\\Users\\\\hnd4r7\\\\AppData\\\\Local\\\\Programs\\\\Python\\\\Python312\\\\Lib\\\\site-packages\\\\prompt_toolkit\\\\shortcuts\\\\__init__.py'>,\n",
       " 'prompt_toolkit': <module 'prompt_toolkit' from 'c:\\\\Users\\\\hnd4r7\\\\AppData\\\\Local\\\\Programs\\\\Python\\\\Python312\\\\Lib\\\\site-packages\\\\prompt_toolkit\\\\__init__.py'>,\n",
       " 'prompt_toolkit.patch_stdout': <module 'prompt_toolkit.patch_stdout' from 'c:\\\\Users\\\\hnd4r7\\\\AppData\\\\Local\\\\Programs\\\\Python\\\\Python312\\\\Lib\\\\site-packages\\\\prompt_toolkit\\\\patch_stdout.py'>,\n",
       " 'unicodedata': <module 'unicodedata' from 'c:\\\\Users\\\\hnd4r7\\\\AppData\\\\Local\\\\Programs\\\\Python\\\\Python312\\\\DLLs\\\\unicodedata.pyd'>,\n",
       " 'IPython.core.guarded_eval': <module 'IPython.core.guarded_eval' from 'c:\\\\Users\\\\hnd4r7\\\\AppData\\\\Local\\\\Programs\\\\Python\\\\Python312\\\\Lib\\\\site-packages\\\\IPython\\\\core\\\\guarded_eval.py'>,\n",
       " 'IPython.core.latex_symbols': <module 'IPython.core.latex_symbols' from 'c:\\\\Users\\\\hnd4r7\\\\AppData\\\\Local\\\\Programs\\\\Python\\\\Python312\\\\Lib\\\\site-packages\\\\IPython\\\\core\\\\latex_symbols.py'>,\n",
       " 'IPython.utils.generics': <module 'IPython.utils.generics' from 'c:\\\\Users\\\\hnd4r7\\\\AppData\\\\Local\\\\Programs\\\\Python\\\\Python312\\\\Lib\\\\site-packages\\\\IPython\\\\utils\\\\generics.py'>,\n",
       " 'parso.utils': <module 'parso.utils' from 'C:\\\\Users\\\\hnd4r7\\\\AppData\\\\Roaming\\\\Python\\\\Python312\\\\site-packages\\\\parso\\\\utils.py'>,\n",
       " 'parso.tree': <module 'parso.tree' from 'C:\\\\Users\\\\hnd4r7\\\\AppData\\\\Roaming\\\\Python\\\\Python312\\\\site-packages\\\\parso\\\\tree.py'>,\n",
       " 'parso.python': <module 'parso.python' from 'C:\\\\Users\\\\hnd4r7\\\\AppData\\\\Roaming\\\\Python\\\\Python312\\\\site-packages\\\\parso\\\\python\\\\__init__.py'>,\n",
       " 'parso.python.token': <module 'parso.python.token' from 'C:\\\\Users\\\\hnd4r7\\\\AppData\\\\Roaming\\\\Python\\\\Python312\\\\site-packages\\\\parso\\\\python\\\\token.py'>,\n",
       " 'parso.python.tokenize': <module 'parso.python.tokenize' from 'C:\\\\Users\\\\hnd4r7\\\\AppData\\\\Roaming\\\\Python\\\\Python312\\\\site-packages\\\\parso\\\\python\\\\tokenize.py'>,\n",
       " 'parso.pgen2.grammar_parser': <module 'parso.pgen2.grammar_parser' from 'C:\\\\Users\\\\hnd4r7\\\\AppData\\\\Roaming\\\\Python\\\\Python312\\\\site-packages\\\\parso\\\\pgen2\\\\grammar_parser.py'>,\n",
       " 'parso.pgen2.generator': <module 'parso.pgen2.generator' from 'C:\\\\Users\\\\hnd4r7\\\\AppData\\\\Roaming\\\\Python\\\\Python312\\\\site-packages\\\\parso\\\\pgen2\\\\generator.py'>,\n",
       " 'parso.pgen2': <module 'parso.pgen2' from 'C:\\\\Users\\\\hnd4r7\\\\AppData\\\\Roaming\\\\Python\\\\Python312\\\\site-packages\\\\parso\\\\pgen2\\\\__init__.py'>,\n",
       " 'parso.parser': <module 'parso.parser' from 'C:\\\\Users\\\\hnd4r7\\\\AppData\\\\Roaming\\\\Python\\\\Python312\\\\site-packages\\\\parso\\\\parser.py'>,\n",
       " 'parso._compatibility': <module 'parso._compatibility' from 'C:\\\\Users\\\\hnd4r7\\\\AppData\\\\Roaming\\\\Python\\\\Python312\\\\site-packages\\\\parso\\\\_compatibility.py'>,\n",
       " 'difflib': <module 'difflib' from 'c:\\\\Users\\\\hnd4r7\\\\AppData\\\\Local\\\\Programs\\\\Python\\\\Python312\\\\Lib\\\\difflib.py'>,\n",
       " 'parso.python.prefix': <module 'parso.python.prefix' from 'C:\\\\Users\\\\hnd4r7\\\\AppData\\\\Roaming\\\\Python\\\\Python312\\\\site-packages\\\\parso\\\\python\\\\prefix.py'>,\n",
       " 'parso.python.tree': <module 'parso.python.tree' from 'C:\\\\Users\\\\hnd4r7\\\\AppData\\\\Roaming\\\\Python\\\\Python312\\\\site-packages\\\\parso\\\\python\\\\tree.py'>,\n",
       " 'parso.python.parser': <module 'parso.python.parser' from 'C:\\\\Users\\\\hnd4r7\\\\AppData\\\\Roaming\\\\Python\\\\Python312\\\\site-packages\\\\parso\\\\python\\\\parser.py'>,\n",
       " 'parso.python.diff': <module 'parso.python.diff' from 'C:\\\\Users\\\\hnd4r7\\\\AppData\\\\Roaming\\\\Python\\\\Python312\\\\site-packages\\\\parso\\\\python\\\\diff.py'>,\n",
       " 'gc': <module 'gc' (built-in)>,\n",
       " 'parso.cache': <module 'parso.cache' from 'C:\\\\Users\\\\hnd4r7\\\\AppData\\\\Roaming\\\\Python\\\\Python312\\\\site-packages\\\\parso\\\\cache.py'>,\n",
       " 'parso.normalizer': <module 'parso.normalizer' from 'C:\\\\Users\\\\hnd4r7\\\\AppData\\\\Roaming\\\\Python\\\\Python312\\\\site-packages\\\\parso\\\\normalizer.py'>,\n",
       " 'parso.python.errors': <module 'parso.python.errors' from 'C:\\\\Users\\\\hnd4r7\\\\AppData\\\\Roaming\\\\Python\\\\Python312\\\\site-packages\\\\parso\\\\python\\\\errors.py'>,\n",
       " 'parso.python.pep8': <module 'parso.python.pep8' from 'C:\\\\Users\\\\hnd4r7\\\\AppData\\\\Roaming\\\\Python\\\\Python312\\\\site-packages\\\\parso\\\\python\\\\pep8.py'>,\n",
       " 'parso.file_io': <module 'parso.file_io' from 'C:\\\\Users\\\\hnd4r7\\\\AppData\\\\Roaming\\\\Python\\\\Python312\\\\site-packages\\\\parso\\\\file_io.py'>,\n",
       " 'parso.grammar': <module 'parso.grammar' from 'C:\\\\Users\\\\hnd4r7\\\\AppData\\\\Roaming\\\\Python\\\\Python312\\\\site-packages\\\\parso\\\\grammar.py'>,\n",
       " 'parso': <module 'parso' from 'C:\\\\Users\\\\hnd4r7\\\\AppData\\\\Roaming\\\\Python\\\\Python312\\\\site-packages\\\\parso\\\\__init__.py'>,\n",
       " 'jedi.parser_utils': <module 'jedi.parser_utils' from 'c:\\\\Users\\\\hnd4r7\\\\AppData\\\\Local\\\\Programs\\\\Python\\\\Python312\\\\Lib\\\\site-packages\\\\jedi\\\\parser_utils.py'>,\n",
       " 'jedi.debug': <module 'jedi.debug' from 'c:\\\\Users\\\\hnd4r7\\\\AppData\\\\Local\\\\Programs\\\\Python\\\\Python312\\\\Lib\\\\site-packages\\\\jedi\\\\debug.py'>,\n",
       " 'jedi.settings': <module 'jedi.settings' from 'c:\\\\Users\\\\hnd4r7\\\\AppData\\\\Local\\\\Programs\\\\Python\\\\Python312\\\\Lib\\\\site-packages\\\\jedi\\\\settings.py'>,\n",
       " 'jedi.cache': <module 'jedi.cache' from 'c:\\\\Users\\\\hnd4r7\\\\AppData\\\\Local\\\\Programs\\\\Python\\\\Python312\\\\Lib\\\\site-packages\\\\jedi\\\\cache.py'>,\n",
       " 'jedi.file_io': <module 'jedi.file_io' from 'c:\\\\Users\\\\hnd4r7\\\\AppData\\\\Local\\\\Programs\\\\Python\\\\Python312\\\\Lib\\\\site-packages\\\\jedi\\\\file_io.py'>,\n",
       " 'jedi.inference.cache': <module 'jedi.inference.cache' from 'c:\\\\Users\\\\hnd4r7\\\\AppData\\\\Local\\\\Programs\\\\Python\\\\Python312\\\\Lib\\\\site-packages\\\\jedi\\\\inference\\\\cache.py'>,\n",
       " 'jedi.inference.helpers': <module 'jedi.inference.helpers' from 'c:\\\\Users\\\\hnd4r7\\\\AppData\\\\Local\\\\Programs\\\\Python\\\\Python312\\\\Lib\\\\site-packages\\\\jedi\\\\inference\\\\helpers.py'>,\n",
       " 'jedi.inference.utils': <module 'jedi.inference.utils' from 'c:\\\\Users\\\\hnd4r7\\\\AppData\\\\Local\\\\Programs\\\\Python\\\\Python312\\\\Lib\\\\site-packages\\\\jedi\\\\inference\\\\utils.py'>,\n",
       " 'jedi.inference.base_value': <module 'jedi.inference.base_value' from 'c:\\\\Users\\\\hnd4r7\\\\AppData\\\\Local\\\\Programs\\\\Python\\\\Python312\\\\Lib\\\\site-packages\\\\jedi\\\\inference\\\\base_value.py'>,\n",
       " 'jedi.inference.sys_path': <module 'jedi.inference.sys_path' from 'c:\\\\Users\\\\hnd4r7\\\\AppData\\\\Local\\\\Programs\\\\Python\\\\Python312\\\\Lib\\\\site-packages\\\\jedi\\\\inference\\\\sys_path.py'>,\n",
       " 'jedi.inference.recursion': <module 'jedi.inference.recursion' from 'c:\\\\Users\\\\hnd4r7\\\\AppData\\\\Local\\\\Programs\\\\Python\\\\Python312\\\\Lib\\\\site-packages\\\\jedi\\\\inference\\\\recursion.py'>,\n",
       " 'jedi.inference.flow_analysis': <module 'jedi.inference.flow_analysis' from 'c:\\\\Users\\\\hnd4r7\\\\AppData\\\\Local\\\\Programs\\\\Python\\\\Python312\\\\Lib\\\\site-packages\\\\jedi\\\\inference\\\\flow_analysis.py'>,\n",
       " 'jedi.common': <module 'jedi.common' from 'c:\\\\Users\\\\hnd4r7\\\\AppData\\\\Local\\\\Programs\\\\Python\\\\Python312\\\\Lib\\\\site-packages\\\\jedi\\\\common.py'>,\n",
       " 'jedi.inference.lazy_value': <module 'jedi.inference.lazy_value' from 'c:\\\\Users\\\\hnd4r7\\\\AppData\\\\Local\\\\Programs\\\\Python\\\\Python312\\\\Lib\\\\site-packages\\\\jedi\\\\inference\\\\lazy_value.py'>,\n",
       " 'jedi.inference.docstrings': <module 'jedi.inference.docstrings' from 'c:\\\\Users\\\\hnd4r7\\\\AppData\\\\Local\\\\Programs\\\\Python\\\\Python312\\\\Lib\\\\site-packages\\\\jedi\\\\inference\\\\docstrings.py'>,\n",
       " 'jedi.plugins': <module 'jedi.plugins' from 'c:\\\\Users\\\\hnd4r7\\\\AppData\\\\Local\\\\Programs\\\\Python\\\\Python312\\\\Lib\\\\site-packages\\\\jedi\\\\plugins\\\\__init__.py'>,\n",
       " 'jedi.inference.names': <module 'jedi.inference.names' from 'c:\\\\Users\\\\hnd4r7\\\\AppData\\\\Local\\\\Programs\\\\Python\\\\Python312\\\\Lib\\\\site-packages\\\\jedi\\\\inference\\\\names.py'>,\n",
       " 'jedi.inference.filters': <module 'jedi.inference.filters' from 'c:\\\\Users\\\\hnd4r7\\\\AppData\\\\Local\\\\Programs\\\\Python\\\\Python312\\\\Lib\\\\site-packages\\\\jedi\\\\inference\\\\filters.py'>,\n",
       " 'jedi.inference.compiled.getattr_static': <module 'jedi.inference.compiled.getattr_static' from 'c:\\\\Users\\\\hnd4r7\\\\AppData\\\\Local\\\\Programs\\\\Python\\\\Python312\\\\Lib\\\\site-packages\\\\jedi\\\\inference\\\\compiled\\\\getattr_static.py'>,\n",
       " 'jedi.inference.compiled.access': <module 'jedi.inference.compiled.access' from 'c:\\\\Users\\\\hnd4r7\\\\AppData\\\\Local\\\\Programs\\\\Python\\\\Python312\\\\Lib\\\\site-packages\\\\jedi\\\\inference\\\\compiled\\\\access.py'>,\n",
       " 'jedi.inference.signature': <module 'jedi.inference.signature' from 'c:\\\\Users\\\\hnd4r7\\\\AppData\\\\Local\\\\Programs\\\\Python\\\\Python312\\\\Lib\\\\site-packages\\\\jedi\\\\inference\\\\signature.py'>,\n",
       " 'jedi.inference.context': <module 'jedi.inference.context' from 'c:\\\\Users\\\\hnd4r7\\\\AppData\\\\Local\\\\Programs\\\\Python\\\\Python312\\\\Lib\\\\site-packages\\\\jedi\\\\inference\\\\context.py'>,\n",
       " 'jedi.inference.compiled.value': <module 'jedi.inference.compiled.value' from 'c:\\\\Users\\\\hnd4r7\\\\AppData\\\\Local\\\\Programs\\\\Python\\\\Python312\\\\Lib\\\\site-packages\\\\jedi\\\\inference\\\\compiled\\\\value.py'>,\n",
       " 'jedi.inference.compiled': <module 'jedi.inference.compiled' from 'c:\\\\Users\\\\hnd4r7\\\\AppData\\\\Local\\\\Programs\\\\Python\\\\Python312\\\\Lib\\\\site-packages\\\\jedi\\\\inference\\\\compiled\\\\__init__.py'>,\n",
       " 'jedi.inference.analysis': <module 'jedi.inference.analysis' from 'c:\\\\Users\\\\hnd4r7\\\\AppData\\\\Local\\\\Programs\\\\Python\\\\Python312\\\\Lib\\\\site-packages\\\\jedi\\\\inference\\\\analysis.py'>,\n",
       " 'jedi.inference.gradual': <module 'jedi.inference.gradual' from 'c:\\\\Users\\\\hnd4r7\\\\AppData\\\\Local\\\\Programs\\\\Python\\\\Python312\\\\Lib\\\\site-packages\\\\jedi\\\\inference\\\\gradual\\\\__init__.py'>,\n",
       " 'jedi.inference.value.module': <module 'jedi.inference.value.module' from 'c:\\\\Users\\\\hnd4r7\\\\AppData\\\\Local\\\\Programs\\\\Python\\\\Python312\\\\Lib\\\\site-packages\\\\jedi\\\\inference\\\\value\\\\module.py'>,\n",
       " 'jedi.inference.value.dynamic_arrays': <module 'jedi.inference.value.dynamic_arrays' from 'c:\\\\Users\\\\hnd4r7\\\\AppData\\\\Local\\\\Programs\\\\Python\\\\Python312\\\\Lib\\\\site-packages\\\\jedi\\\\inference\\\\value\\\\dynamic_arrays.py'>,\n",
       " 'jedi.inference.value.iterable': <module 'jedi.inference.value.iterable' from 'c:\\\\Users\\\\hnd4r7\\\\AppData\\\\Local\\\\Programs\\\\Python\\\\Python312\\\\Lib\\\\site-packages\\\\jedi\\\\inference\\\\value\\\\iterable.py'>,\n",
       " 'jedi.inference.arguments': <module 'jedi.inference.arguments' from 'c:\\\\Users\\\\hnd4r7\\\\AppData\\\\Local\\\\Programs\\\\Python\\\\Python312\\\\Lib\\\\site-packages\\\\jedi\\\\inference\\\\arguments.py'>,\n",
       " 'jedi.inference.parser_cache': <module 'jedi.inference.parser_cache' from 'c:\\\\Users\\\\hnd4r7\\\\AppData\\\\Local\\\\Programs\\\\Python\\\\Python312\\\\Lib\\\\site-packages\\\\jedi\\\\inference\\\\parser_cache.py'>,\n",
       " 'jedi.inference.gradual.generics': <module 'jedi.inference.gradual.generics' from 'c:\\\\Users\\\\hnd4r7\\\\AppData\\\\Local\\\\Programs\\\\Python\\\\Python312\\\\Lib\\\\site-packages\\\\jedi\\\\inference\\\\gradual\\\\generics.py'>,\n",
       " 'jedi.inference.value.function': <module 'jedi.inference.value.function' from 'c:\\\\Users\\\\hnd4r7\\\\AppData\\\\Local\\\\Programs\\\\Python\\\\Python312\\\\Lib\\\\site-packages\\\\jedi\\\\inference\\\\value\\\\function.py'>,\n",
       " 'jedi.inference.value.klass': <module 'jedi.inference.value.klass' from 'c:\\\\Users\\\\hnd4r7\\\\AppData\\\\Local\\\\Programs\\\\Python\\\\Python312\\\\Lib\\\\site-packages\\\\jedi\\\\inference\\\\value\\\\klass.py'>,\n",
       " 'jedi.inference.value.instance': <module 'jedi.inference.value.instance' from 'c:\\\\Users\\\\hnd4r7\\\\AppData\\\\Local\\\\Programs\\\\Python\\\\Python312\\\\Lib\\\\site-packages\\\\jedi\\\\inference\\\\value\\\\instance.py'>,\n",
       " 'jedi.inference.value': <module 'jedi.inference.value' from 'c:\\\\Users\\\\hnd4r7\\\\AppData\\\\Local\\\\Programs\\\\Python\\\\Python312\\\\Lib\\\\site-packages\\\\jedi\\\\inference\\\\value\\\\__init__.py'>,\n",
       " 'jedi.inference.gradual.base': <module 'jedi.inference.gradual.base' from 'c:\\\\Users\\\\hnd4r7\\\\AppData\\\\Local\\\\Programs\\\\Python\\\\Python312\\\\Lib\\\\site-packages\\\\jedi\\\\inference\\\\gradual\\\\base.py'>,\n",
       " 'jedi.inference.gradual.type_var': <module 'jedi.inference.gradual.type_var' from 'c:\\\\Users\\\\hnd4r7\\\\AppData\\\\Local\\\\Programs\\\\Python\\\\Python312\\\\Lib\\\\site-packages\\\\jedi\\\\inference\\\\gradual\\\\type_var.py'>,\n",
       " 'jedi.inference.gradual.typing': <module 'jedi.inference.gradual.typing' from 'c:\\\\Users\\\\hnd4r7\\\\AppData\\\\Local\\\\Programs\\\\Python\\\\Python312\\\\Lib\\\\site-packages\\\\jedi\\\\inference\\\\gradual\\\\typing.py'>,\n",
       " 'jedi.inference.gradual.stub_value': <module 'jedi.inference.gradual.stub_value' from 'c:\\\\Users\\\\hnd4r7\\\\AppData\\\\Local\\\\Programs\\\\Python\\\\Python312\\\\Lib\\\\site-packages\\\\jedi\\\\inference\\\\gradual\\\\stub_value.py'>,\n",
       " 'jedi.inference.gradual.typeshed': <module 'jedi.inference.gradual.typeshed' from 'c:\\\\Users\\\\hnd4r7\\\\AppData\\\\Local\\\\Programs\\\\Python\\\\Python312\\\\Lib\\\\site-packages\\\\jedi\\\\inference\\\\gradual\\\\typeshed.py'>,\n",
       " 'jedi._compatibility': <module 'jedi._compatibility' from 'c:\\\\Users\\\\hnd4r7\\\\AppData\\\\Local\\\\Programs\\\\Python\\\\Python312\\\\Lib\\\\site-packages\\\\jedi\\\\_compatibility.py'>,\n",
       " 'jedi.inference.compiled.subprocess.functions': <module 'jedi.inference.compiled.subprocess.functions' from 'c:\\\\Users\\\\hnd4r7\\\\AppData\\\\Local\\\\Programs\\\\Python\\\\Python312\\\\Lib\\\\site-packages\\\\jedi\\\\inference\\\\compiled\\\\subprocess\\\\functions.py'>,\n",
       " 'jedi.api.exceptions': <module 'jedi.api.exceptions' from 'c:\\\\Users\\\\hnd4r7\\\\AppData\\\\Local\\\\Programs\\\\Python\\\\Python312\\\\Lib\\\\site-packages\\\\jedi\\\\api\\\\exceptions.py'>,\n",
       " 'jedi.inference.compiled.subprocess': <module 'jedi.inference.compiled.subprocess' from 'c:\\\\Users\\\\hnd4r7\\\\AppData\\\\Local\\\\Programs\\\\Python\\\\Python312\\\\Lib\\\\site-packages\\\\jedi\\\\inference\\\\compiled\\\\subprocess\\\\__init__.py'>,\n",
       " 'jedi.inference.imports': <module 'jedi.inference.imports' from 'c:\\\\Users\\\\hnd4r7\\\\AppData\\\\Local\\\\Programs\\\\Python\\\\Python312\\\\Lib\\\\site-packages\\\\jedi\\\\inference\\\\imports.py'>,\n",
       " 'jedi.inference.param': <module 'jedi.inference.param' from 'c:\\\\Users\\\\hnd4r7\\\\AppData\\\\Local\\\\Programs\\\\Python\\\\Python312\\\\Lib\\\\site-packages\\\\jedi\\\\inference\\\\param.py'>,\n",
       " 'jedi.inference.gradual.annotation': <module 'jedi.inference.gradual.annotation' from 'c:\\\\Users\\\\hnd4r7\\\\AppData\\\\Local\\\\Programs\\\\Python\\\\Python312\\\\Lib\\\\site-packages\\\\jedi\\\\inference\\\\gradual\\\\annotation.py'>,\n",
       " 'jedi.inference.value.decorator': <module 'jedi.inference.value.decorator' from 'c:\\\\Users\\\\hnd4r7\\\\AppData\\\\Local\\\\Programs\\\\Python\\\\Python312\\\\Lib\\\\site-packages\\\\jedi\\\\inference\\\\value\\\\decorator.py'>,\n",
       " 'jedi.inference.syntax_tree': <module 'jedi.inference.syntax_tree' from 'c:\\\\Users\\\\hnd4r7\\\\AppData\\\\Local\\\\Programs\\\\Python\\\\Python312\\\\Lib\\\\site-packages\\\\jedi\\\\inference\\\\syntax_tree.py'>,\n",
       " 'jedi.inference': <module 'jedi.inference' from 'c:\\\\Users\\\\hnd4r7\\\\AppData\\\\Local\\\\Programs\\\\Python\\\\Python312\\\\Lib\\\\site-packages\\\\jedi\\\\inference\\\\__init__.py'>,\n",
       " 'jedi.inference.gradual.conversion': <module 'jedi.inference.gradual.conversion' from 'c:\\\\Users\\\\hnd4r7\\\\AppData\\\\Local\\\\Programs\\\\Python\\\\Python312\\\\Lib\\\\site-packages\\\\jedi\\\\inference\\\\gradual\\\\conversion.py'>,\n",
       " 'jedi.inference.compiled.mixed': <module 'jedi.inference.compiled.mixed' from 'c:\\\\Users\\\\hnd4r7\\\\AppData\\\\Local\\\\Programs\\\\Python\\\\Python312\\\\Lib\\\\site-packages\\\\jedi\\\\inference\\\\compiled\\\\mixed.py'>,\n",
       " 'pydoc_data': <module 'pydoc_data' from 'c:\\\\Users\\\\hnd4r7\\\\AppData\\\\Local\\\\Programs\\\\Python\\\\Python312\\\\Lib\\\\pydoc_data\\\\__init__.py'>,\n",
       " 'pydoc_data.topics': <module 'pydoc_data.topics' from 'c:\\\\Users\\\\hnd4r7\\\\AppData\\\\Local\\\\Programs\\\\Python\\\\Python312\\\\Lib\\\\pydoc_data\\\\topics.py'>,\n",
       " 'jedi.api.keywords': <module 'jedi.api.keywords' from 'c:\\\\Users\\\\hnd4r7\\\\AppData\\\\Local\\\\Programs\\\\Python\\\\Python312\\\\Lib\\\\site-packages\\\\jedi\\\\api\\\\keywords.py'>,\n",
       " 'jedi.api.completion_cache': <module 'jedi.api.completion_cache' from 'c:\\\\Users\\\\hnd4r7\\\\AppData\\\\Local\\\\Programs\\\\Python\\\\Python312\\\\Lib\\\\site-packages\\\\jedi\\\\api\\\\completion_cache.py'>,\n",
       " 'jedi.api.helpers': <module 'jedi.api.helpers' from 'c:\\\\Users\\\\hnd4r7\\\\AppData\\\\Local\\\\Programs\\\\Python\\\\Python312\\\\Lib\\\\site-packages\\\\jedi\\\\api\\\\helpers.py'>,\n",
       " 'jedi.api.classes': <module 'jedi.api.classes' from 'c:\\\\Users\\\\hnd4r7\\\\AppData\\\\Local\\\\Programs\\\\Python\\\\Python312\\\\Lib\\\\site-packages\\\\jedi\\\\api\\\\classes.py'>,\n",
       " 'jedi.api.interpreter': <module 'jedi.api.interpreter' from 'c:\\\\Users\\\\hnd4r7\\\\AppData\\\\Local\\\\Programs\\\\Python\\\\Python312\\\\Lib\\\\site-packages\\\\jedi\\\\api\\\\interpreter.py'>,\n",
       " 'jedi.api.strings': <module 'jedi.api.strings' from 'c:\\\\Users\\\\hnd4r7\\\\AppData\\\\Local\\\\Programs\\\\Python\\\\Python312\\\\Lib\\\\site-packages\\\\jedi\\\\api\\\\strings.py'>,\n",
       " 'jedi.api.file_name': <module 'jedi.api.file_name' from 'c:\\\\Users\\\\hnd4r7\\\\AppData\\\\Local\\\\Programs\\\\Python\\\\Python312\\\\Lib\\\\site-packages\\\\jedi\\\\api\\\\file_name.py'>,\n",
       " 'jedi.inference.docstring_utils': <module 'jedi.inference.docstring_utils' from 'c:\\\\Users\\\\hnd4r7\\\\AppData\\\\Local\\\\Programs\\\\Python\\\\Python312\\\\Lib\\\\site-packages\\\\jedi\\\\inference\\\\docstring_utils.py'>,\n",
       " 'jedi.api.completion': <module 'jedi.api.completion' from 'c:\\\\Users\\\\hnd4r7\\\\AppData\\\\Local\\\\Programs\\\\Python\\\\Python312\\\\Lib\\\\site-packages\\\\jedi\\\\api\\\\completion.py'>,\n",
       " 'filecmp': <module 'filecmp' from 'c:\\\\Users\\\\hnd4r7\\\\AppData\\\\Local\\\\Programs\\\\Python\\\\Python312\\\\Lib\\\\filecmp.py'>,\n",
       " 'jedi.api.environment': <module 'jedi.api.environment' from 'c:\\\\Users\\\\hnd4r7\\\\AppData\\\\Local\\\\Programs\\\\Python\\\\Python312\\\\Lib\\\\site-packages\\\\jedi\\\\api\\\\environment.py'>,\n",
       " 'jedi.inference.references': <module 'jedi.inference.references' from 'c:\\\\Users\\\\hnd4r7\\\\AppData\\\\Local\\\\Programs\\\\Python\\\\Python312\\\\Lib\\\\site-packages\\\\jedi\\\\inference\\\\references.py'>,\n",
       " 'jedi.api.project': <module 'jedi.api.project' from 'c:\\\\Users\\\\hnd4r7\\\\AppData\\\\Local\\\\Programs\\\\Python\\\\Python312\\\\Lib\\\\site-packages\\\\jedi\\\\api\\\\project.py'>,\n",
       " 'jedi.api.errors': <module 'jedi.api.errors' from 'c:\\\\Users\\\\hnd4r7\\\\AppData\\\\Local\\\\Programs\\\\Python\\\\Python312\\\\Lib\\\\site-packages\\\\jedi\\\\api\\\\errors.py'>,\n",
       " 'jedi.inference.value.namespace': <module 'jedi.inference.value.namespace' from 'c:\\\\Users\\\\hnd4r7\\\\AppData\\\\Local\\\\Programs\\\\Python\\\\Python312\\\\Lib\\\\site-packages\\\\jedi\\\\inference\\\\value\\\\namespace.py'>,\n",
       " 'jedi.api.refactoring': <module 'jedi.api.refactoring' from 'c:\\\\Users\\\\hnd4r7\\\\AppData\\\\Local\\\\Programs\\\\Python\\\\Python312\\\\Lib\\\\site-packages\\\\jedi\\\\api\\\\refactoring\\\\__init__.py'>,\n",
       " 'jedi.api.refactoring.extract': <module 'jedi.api.refactoring.extract' from 'c:\\\\Users\\\\hnd4r7\\\\AppData\\\\Local\\\\Programs\\\\Python\\\\Python312\\\\Lib\\\\site-packages\\\\jedi\\\\api\\\\refactoring\\\\extract.py'>,\n",
       " 'jedi.inference.gradual.utils': <module 'jedi.inference.gradual.utils' from 'c:\\\\Users\\\\hnd4r7\\\\AppData\\\\Local\\\\Programs\\\\Python\\\\Python312\\\\Lib\\\\site-packages\\\\jedi\\\\inference\\\\gradual\\\\utils.py'>,\n",
       " 'jedi.api': <module 'jedi.api' from 'c:\\\\Users\\\\hnd4r7\\\\AppData\\\\Local\\\\Programs\\\\Python\\\\Python312\\\\Lib\\\\site-packages\\\\jedi\\\\api\\\\__init__.py'>,\n",
       " 'jedi.plugins.stdlib': <module 'jedi.plugins.stdlib' from 'c:\\\\Users\\\\hnd4r7\\\\AppData\\\\Local\\\\Programs\\\\Python\\\\Python312\\\\Lib\\\\site-packages\\\\jedi\\\\plugins\\\\stdlib.py'>,\n",
       " 'jedi.plugins.flask': <module 'jedi.plugins.flask' from 'c:\\\\Users\\\\hnd4r7\\\\AppData\\\\Local\\\\Programs\\\\Python\\\\Python312\\\\Lib\\\\site-packages\\\\jedi\\\\plugins\\\\flask.py'>,\n",
       " 'jedi.plugins.pytest': <module 'jedi.plugins.pytest' from 'c:\\\\Users\\\\hnd4r7\\\\AppData\\\\Local\\\\Programs\\\\Python\\\\Python312\\\\Lib\\\\site-packages\\\\jedi\\\\plugins\\\\pytest.py'>,\n",
       " 'jedi.plugins.django': <module 'jedi.plugins.django' from 'c:\\\\Users\\\\hnd4r7\\\\AppData\\\\Local\\\\Programs\\\\Python\\\\Python312\\\\Lib\\\\site-packages\\\\jedi\\\\plugins\\\\django.py'>,\n",
       " 'jedi.plugins.registry': <module 'jedi.plugins.registry' from 'c:\\\\Users\\\\hnd4r7\\\\AppData\\\\Local\\\\Programs\\\\Python\\\\Python312\\\\Lib\\\\site-packages\\\\jedi\\\\plugins\\\\registry.py'>,\n",
       " 'jedi': <module 'jedi' from 'c:\\\\Users\\\\hnd4r7\\\\AppData\\\\Local\\\\Programs\\\\Python\\\\Python312\\\\Lib\\\\site-packages\\\\jedi\\\\__init__.py'>,\n",
       " 'IPython.core.completer': <module 'IPython.core.completer' from 'c:\\\\Users\\\\hnd4r7\\\\AppData\\\\Local\\\\Programs\\\\Python\\\\Python312\\\\Lib\\\\site-packages\\\\IPython\\\\core\\\\completer.py'>,\n",
       " 'IPython.terminal.ptutils': <module 'IPython.terminal.ptutils' from 'c:\\\\Users\\\\hnd4r7\\\\AppData\\\\Local\\\\Programs\\\\Python\\\\Python312\\\\Lib\\\\site-packages\\\\IPython\\\\terminal\\\\ptutils.py'>,\n",
       " 'IPython.terminal.shortcuts.auto_match': <module 'IPython.terminal.shortcuts.auto_match' from 'c:\\\\Users\\\\hnd4r7\\\\AppData\\\\Local\\\\Programs\\\\Python\\\\Python312\\\\Lib\\\\site-packages\\\\IPython\\\\terminal\\\\shortcuts\\\\auto_match.py'>,\n",
       " 'IPython.terminal.shortcuts.filters': <module 'IPython.terminal.shortcuts.filters' from 'c:\\\\Users\\\\hnd4r7\\\\AppData\\\\Local\\\\Programs\\\\Python\\\\Python312\\\\Lib\\\\site-packages\\\\IPython\\\\terminal\\\\shortcuts\\\\filters.py'>,\n",
       " 'IPython.terminal.shortcuts.auto_suggest': <module 'IPython.terminal.shortcuts.auto_suggest' from 'c:\\\\Users\\\\hnd4r7\\\\AppData\\\\Local\\\\Programs\\\\Python\\\\Python312\\\\Lib\\\\site-packages\\\\IPython\\\\terminal\\\\shortcuts\\\\auto_suggest.py'>,\n",
       " 'IPython.lib.clipboard': <module 'IPython.lib.clipboard' from 'c:\\\\Users\\\\hnd4r7\\\\AppData\\\\Local\\\\Programs\\\\Python\\\\Python312\\\\Lib\\\\site-packages\\\\IPython\\\\lib\\\\clipboard.py'>,\n",
       " 'IPython.terminal.shortcuts': <module 'IPython.terminal.shortcuts' from 'c:\\\\Users\\\\hnd4r7\\\\AppData\\\\Local\\\\Programs\\\\Python\\\\Python312\\\\Lib\\\\site-packages\\\\IPython\\\\terminal\\\\shortcuts\\\\__init__.py'>,\n",
       " 'concurrent.futures.thread': <module 'concurrent.futures.thread' from 'c:\\\\Users\\\\hnd4r7\\\\AppData\\\\Local\\\\Programs\\\\Python\\\\Python312\\\\Lib\\\\concurrent\\\\futures\\\\thread.py'>,\n",
       " 'IPython.terminal.debugger': <module 'IPython.terminal.debugger' from 'c:\\\\Users\\\\hnd4r7\\\\AppData\\\\Local\\\\Programs\\\\Python\\\\Python312\\\\Lib\\\\site-packages\\\\IPython\\\\terminal\\\\debugger.py'>,\n",
       " 'IPython.terminal.magics': <module 'IPython.terminal.magics' from 'c:\\\\Users\\\\hnd4r7\\\\AppData\\\\Local\\\\Programs\\\\Python\\\\Python312\\\\Lib\\\\site-packages\\\\IPython\\\\terminal\\\\magics.py'>,\n",
       " 'IPython.terminal.pt_inputhooks': <module 'IPython.terminal.pt_inputhooks' from 'c:\\\\Users\\\\hnd4r7\\\\AppData\\\\Local\\\\Programs\\\\Python\\\\Python312\\\\Lib\\\\site-packages\\\\IPython\\\\terminal\\\\pt_inputhooks\\\\__init__.py'>,\n",
       " 'IPython.terminal.prompts': <module 'IPython.terminal.prompts' from 'c:\\\\Users\\\\hnd4r7\\\\AppData\\\\Local\\\\Programs\\\\Python\\\\Python312\\\\Lib\\\\site-packages\\\\IPython\\\\terminal\\\\prompts.py'>,\n",
       " 'IPython.terminal.interactiveshell': <module 'IPython.terminal.interactiveshell' from 'c:\\\\Users\\\\hnd4r7\\\\AppData\\\\Local\\\\Programs\\\\Python\\\\Python312\\\\Lib\\\\site-packages\\\\IPython\\\\terminal\\\\interactiveshell.py'>,\n",
       " 'IPython.core.magics.auto': <module 'IPython.core.magics.auto' from 'c:\\\\Users\\\\hnd4r7\\\\AppData\\\\Local\\\\Programs\\\\Python\\\\Python312\\\\Lib\\\\site-packages\\\\IPython\\\\core\\\\magics\\\\auto.py'>,\n",
       " 'IPython.core.magics.basic': <module 'IPython.core.magics.basic' from 'c:\\\\Users\\\\hnd4r7\\\\AppData\\\\Local\\\\Programs\\\\Python\\\\Python312\\\\Lib\\\\site-packages\\\\IPython\\\\core\\\\magics\\\\basic.py'>,\n",
       " 'http': <module 'http' from 'c:\\\\Users\\\\hnd4r7\\\\AppData\\\\Local\\\\Programs\\\\Python\\\\Python312\\\\Lib\\\\http\\\\__init__.py'>,\n",
       " 'email.feedparser': <module 'email.feedparser' from 'c:\\\\Users\\\\hnd4r7\\\\AppData\\\\Local\\\\Programs\\\\Python\\\\Python312\\\\Lib\\\\email\\\\feedparser.py'>,\n",
       " 'email.parser': <module 'email.parser' from 'c:\\\\Users\\\\hnd4r7\\\\AppData\\\\Local\\\\Programs\\\\Python\\\\Python312\\\\Lib\\\\email\\\\parser.py'>,\n",
       " 'http.client': <module 'http.client' from 'c:\\\\Users\\\\hnd4r7\\\\AppData\\\\Local\\\\Programs\\\\Python\\\\Python312\\\\Lib\\\\http\\\\client.py'>,\n",
       " 'urllib.response': <module 'urllib.response' from 'c:\\\\Users\\\\hnd4r7\\\\AppData\\\\Local\\\\Programs\\\\Python\\\\Python312\\\\Lib\\\\urllib\\\\response.py'>,\n",
       " 'urllib.error': <module 'urllib.error' from 'c:\\\\Users\\\\hnd4r7\\\\AppData\\\\Local\\\\Programs\\\\Python\\\\Python312\\\\Lib\\\\urllib\\\\error.py'>,\n",
       " 'nturl2path': <module 'nturl2path' from 'c:\\\\Users\\\\hnd4r7\\\\AppData\\\\Local\\\\Programs\\\\Python\\\\Python312\\\\Lib\\\\nturl2path.py'>,\n",
       " 'urllib.request': <module 'urllib.request' from 'c:\\\\Users\\\\hnd4r7\\\\AppData\\\\Local\\\\Programs\\\\Python\\\\Python312\\\\Lib\\\\urllib\\\\request.py'>,\n",
       " 'IPython.utils.contexts': <module 'IPython.utils.contexts' from 'c:\\\\Users\\\\hnd4r7\\\\AppData\\\\Local\\\\Programs\\\\Python\\\\Python312\\\\Lib\\\\site-packages\\\\IPython\\\\utils\\\\contexts.py'>,\n",
       " 'IPython.core.magics.code': <module 'IPython.core.magics.code' from 'c:\\\\Users\\\\hnd4r7\\\\AppData\\\\Local\\\\Programs\\\\Python\\\\Python312\\\\Lib\\\\site-packages\\\\IPython\\\\core\\\\magics\\\\code.py'>,\n",
       " 'IPython.core.magics.config': <module 'IPython.core.magics.config' from 'c:\\\\Users\\\\hnd4r7\\\\AppData\\\\Local\\\\Programs\\\\Python\\\\Python312\\\\Lib\\\\site-packages\\\\IPython\\\\core\\\\magics\\\\config.py'>,\n",
       " 'IPython.core.magics.display': <module 'IPython.core.magics.display' from 'c:\\\\Users\\\\hnd4r7\\\\AppData\\\\Local\\\\Programs\\\\Python\\\\Python312\\\\Lib\\\\site-packages\\\\IPython\\\\core\\\\magics\\\\display.py'>,\n",
       " '_lsprof': <module '_lsprof' (built-in)>,\n",
       " 'profile': <module 'profile' from 'c:\\\\Users\\\\hnd4r7\\\\AppData\\\\Local\\\\Programs\\\\Python\\\\Python312\\\\Lib\\\\profile.py'>,\n",
       " 'cProfile': <module 'cProfile' from 'c:\\\\Users\\\\hnd4r7\\\\AppData\\\\Local\\\\Programs\\\\Python\\\\Python312\\\\Lib\\\\cProfile.py'>,\n",
       " 'pstats': <module 'pstats' from 'c:\\\\Users\\\\hnd4r7\\\\AppData\\\\Local\\\\Programs\\\\Python\\\\Python312\\\\Lib\\\\pstats.py'>,\n",
       " 'timeit': <module 'timeit' from 'c:\\\\Users\\\\hnd4r7\\\\AppData\\\\Local\\\\Programs\\\\Python\\\\Python312\\\\Lib\\\\timeit.py'>,\n",
       " 'IPython.utils.module_paths': <module 'IPython.utils.module_paths' from 'c:\\\\Users\\\\hnd4r7\\\\AppData\\\\Local\\\\Programs\\\\Python\\\\Python312\\\\Lib\\\\site-packages\\\\IPython\\\\utils\\\\module_paths.py'>,\n",
       " 'IPython.utils.timing': <module 'IPython.utils.timing' from 'c:\\\\Users\\\\hnd4r7\\\\AppData\\\\Local\\\\Programs\\\\Python\\\\Python312\\\\Lib\\\\site-packages\\\\IPython\\\\utils\\\\timing.py'>,\n",
       " 'IPython.core.magics.ast_mod': <module 'IPython.core.magics.ast_mod' from 'c:\\\\Users\\\\hnd4r7\\\\AppData\\\\Local\\\\Programs\\\\Python\\\\Python312\\\\Lib\\\\site-packages\\\\IPython\\\\core\\\\magics\\\\ast_mod.py'>,\n",
       " 'IPython.core.magics.execution': <module 'IPython.core.magics.execution' from 'c:\\\\Users\\\\hnd4r7\\\\AppData\\\\Local\\\\Programs\\\\Python\\\\Python312\\\\Lib\\\\site-packages\\\\IPython\\\\core\\\\magics\\\\execution.py'>,\n",
       " 'IPython.core.magics.extension': <module 'IPython.core.magics.extension' from 'c:\\\\Users\\\\hnd4r7\\\\AppData\\\\Local\\\\Programs\\\\Python\\\\Python312\\\\Lib\\\\site-packages\\\\IPython\\\\core\\\\magics\\\\extension.py'>,\n",
       " 'IPython.core.magics.history': <module 'IPython.core.magics.history' from 'c:\\\\Users\\\\hnd4r7\\\\AppData\\\\Local\\\\Programs\\\\Python\\\\Python312\\\\Lib\\\\site-packages\\\\IPython\\\\core\\\\magics\\\\history.py'>,\n",
       " 'IPython.core.magics.logging': <module 'IPython.core.magics.logging' from 'c:\\\\Users\\\\hnd4r7\\\\AppData\\\\Local\\\\Programs\\\\Python\\\\Python312\\\\Lib\\\\site-packages\\\\IPython\\\\core\\\\magics\\\\logging.py'>,\n",
       " 'IPython.core.magics.namespace': <module 'IPython.core.magics.namespace' from 'c:\\\\Users\\\\hnd4r7\\\\AppData\\\\Local\\\\Programs\\\\Python\\\\Python312\\\\Lib\\\\site-packages\\\\IPython\\\\core\\\\magics\\\\namespace.py'>,\n",
       " 'IPython.core.magics.osm': <module 'IPython.core.magics.osm' from 'c:\\\\Users\\\\hnd4r7\\\\AppData\\\\Local\\\\Programs\\\\Python\\\\Python312\\\\Lib\\\\site-packages\\\\IPython\\\\core\\\\magics\\\\osm.py'>,\n",
       " 'IPython.core.magics.packaging': <module 'IPython.core.magics.packaging' from 'c:\\\\Users\\\\hnd4r7\\\\AppData\\\\Local\\\\Programs\\\\Python\\\\Python312\\\\Lib\\\\site-packages\\\\IPython\\\\core\\\\magics\\\\packaging.py'>,\n",
       " 'IPython.core.magics.pylab': <module 'IPython.core.magics.pylab' from 'c:\\\\Users\\\\hnd4r7\\\\AppData\\\\Local\\\\Programs\\\\Python\\\\Python312\\\\Lib\\\\site-packages\\\\IPython\\\\core\\\\magics\\\\pylab.py'>,\n",
       " 'IPython.core.magics.script': <module 'IPython.core.magics.script' from 'c:\\\\Users\\\\hnd4r7\\\\AppData\\\\Local\\\\Programs\\\\Python\\\\Python312\\\\Lib\\\\site-packages\\\\IPython\\\\core\\\\magics\\\\script.py'>,\n",
       " 'IPython.core.magics': <module 'IPython.core.magics' from 'c:\\\\Users\\\\hnd4r7\\\\AppData\\\\Local\\\\Programs\\\\Python\\\\Python312\\\\Lib\\\\site-packages\\\\IPython\\\\core\\\\magics\\\\__init__.py'>,\n",
       " 'IPython.core.shellapp': <module 'IPython.core.shellapp' from 'c:\\\\Users\\\\hnd4r7\\\\AppData\\\\Local\\\\Programs\\\\Python\\\\Python312\\\\Lib\\\\site-packages\\\\IPython\\\\core\\\\shellapp.py'>,\n",
       " 'IPython.extensions': <module 'IPython.extensions' from 'c:\\\\Users\\\\hnd4r7\\\\AppData\\\\Local\\\\Programs\\\\Python\\\\Python312\\\\Lib\\\\site-packages\\\\IPython\\\\extensions\\\\__init__.py'>,\n",
       " 'IPython.extensions.storemagic': <module 'IPython.extensions.storemagic' from 'c:\\\\Users\\\\hnd4r7\\\\AppData\\\\Local\\\\Programs\\\\Python\\\\Python312\\\\Lib\\\\site-packages\\\\IPython\\\\extensions\\\\storemagic.py'>,\n",
       " 'IPython.terminal.ipapp': <module 'IPython.terminal.ipapp' from 'c:\\\\Users\\\\hnd4r7\\\\AppData\\\\Local\\\\Programs\\\\Python\\\\Python312\\\\Lib\\\\site-packages\\\\IPython\\\\terminal\\\\ipapp.py'>,\n",
       " 'IPython.terminal.embed': <module 'IPython.terminal.embed' from 'c:\\\\Users\\\\hnd4r7\\\\AppData\\\\Local\\\\Programs\\\\Python\\\\Python312\\\\Lib\\\\site-packages\\\\IPython\\\\terminal\\\\embed.py'>,\n",
       " 'IPython.utils.frame': <module 'IPython.utils.frame' from 'c:\\\\Users\\\\hnd4r7\\\\AppData\\\\Local\\\\Programs\\\\Python\\\\Python312\\\\Lib\\\\site-packages\\\\IPython\\\\utils\\\\frame.py'>,\n",
       " 'IPython': <module 'IPython' from 'c:\\\\Users\\\\hnd4r7\\\\AppData\\\\Local\\\\Programs\\\\Python\\\\Python312\\\\Lib\\\\site-packages\\\\IPython\\\\__init__.py'>,\n",
       " 'ipykernel.control': <module 'ipykernel.control' from 'c:\\\\Users\\\\hnd4r7\\\\AppData\\\\Local\\\\Programs\\\\Python\\\\Python312\\\\Lib\\\\site-packages\\\\ipykernel\\\\control.py'>,\n",
       " 'ipykernel.heartbeat': <module 'ipykernel.heartbeat' from 'c:\\\\Users\\\\hnd4r7\\\\AppData\\\\Local\\\\Programs\\\\Python\\\\Python312\\\\Lib\\\\site-packages\\\\ipykernel\\\\heartbeat.py'>,\n",
       " 'ipykernel.iostream': <module 'ipykernel.iostream' from 'c:\\\\Users\\\\hnd4r7\\\\AppData\\\\Local\\\\Programs\\\\Python\\\\Python312\\\\Lib\\\\site-packages\\\\ipykernel\\\\iostream.py'>,\n",
       " 'comm.base_comm': <module 'comm.base_comm' from 'c:\\\\Users\\\\hnd4r7\\\\AppData\\\\Local\\\\Programs\\\\Python\\\\Python312\\\\Lib\\\\site-packages\\\\comm\\\\base_comm.py'>,\n",
       " 'comm': <module 'comm' from 'c:\\\\Users\\\\hnd4r7\\\\AppData\\\\Local\\\\Programs\\\\Python\\\\Python312\\\\Lib\\\\site-packages\\\\comm\\\\__init__.py'>,\n",
       " 'ipykernel.jsonutil': <module 'ipykernel.jsonutil' from 'c:\\\\Users\\\\hnd4r7\\\\AppData\\\\Local\\\\Programs\\\\Python\\\\Python312\\\\Lib\\\\site-packages\\\\ipykernel\\\\jsonutil.py'>,\n",
       " 'psutil._common': <module 'psutil._common' from 'c:\\\\Users\\\\hnd4r7\\\\AppData\\\\Local\\\\Programs\\\\Python\\\\Python312\\\\Lib\\\\site-packages\\\\psutil\\\\_common.py'>,\n",
       " 'psutil._compat': <module 'psutil._compat' from 'c:\\\\Users\\\\hnd4r7\\\\AppData\\\\Local\\\\Programs\\\\Python\\\\Python312\\\\Lib\\\\site-packages\\\\psutil\\\\_compat.py'>,\n",
       " 'psutil._psutil_windows': <module 'psutil._psutil_windows' from 'c:\\\\Users\\\\hnd4r7\\\\AppData\\\\Local\\\\Programs\\\\Python\\\\Python312\\\\Lib\\\\site-packages\\\\psutil\\\\_psutil_windows.pyd'>,\n",
       " 'psutil._pswindows': <module 'psutil._pswindows' from 'c:\\\\Users\\\\hnd4r7\\\\AppData\\\\Local\\\\Programs\\\\Python\\\\Python312\\\\Lib\\\\site-packages\\\\psutil\\\\_pswindows.py'>,\n",
       " 'psutil': <module 'psutil' from 'c:\\\\Users\\\\hnd4r7\\\\AppData\\\\Local\\\\Programs\\\\Python\\\\Python312\\\\Lib\\\\site-packages\\\\psutil\\\\__init__.py'>,\n",
       " 'tornado.gen': <module 'tornado.gen' from 'c:\\\\Users\\\\hnd4r7\\\\AppData\\\\Local\\\\Programs\\\\Python\\\\Python312\\\\Lib\\\\site-packages\\\\tornado\\\\gen.py'>,\n",
       " 'tornado.locks': <module 'tornado.locks' from 'c:\\\\Users\\\\hnd4r7\\\\AppData\\\\Local\\\\Programs\\\\Python\\\\Python312\\\\Lib\\\\site-packages\\\\tornado\\\\locks.py'>,\n",
       " 'tornado.queues': <module 'tornado.queues' from 'c:\\\\Users\\\\hnd4r7\\\\AppData\\\\Local\\\\Programs\\\\Python\\\\Python312\\\\Lib\\\\site-packages\\\\tornado\\\\queues.py'>,\n",
       " 'ipykernel.kernelbase': <module 'ipykernel.kernelbase' from 'c:\\\\Users\\\\hnd4r7\\\\AppData\\\\Local\\\\Programs\\\\Python\\\\Python312\\\\Lib\\\\site-packages\\\\ipykernel\\\\kernelbase.py'>,\n",
       " 'ipykernel.comm.comm': <module 'ipykernel.comm.comm' from 'c:\\\\Users\\\\hnd4r7\\\\AppData\\\\Local\\\\Programs\\\\Python\\\\Python312\\\\Lib\\\\site-packages\\\\ipykernel\\\\comm\\\\comm.py'>,\n",
       " 'ipykernel.comm.manager': <module 'ipykernel.comm.manager' from 'c:\\\\Users\\\\hnd4r7\\\\AppData\\\\Local\\\\Programs\\\\Python\\\\Python312\\\\Lib\\\\site-packages\\\\ipykernel\\\\comm\\\\manager.py'>,\n",
       " 'ipykernel.comm': <module 'ipykernel.comm' from 'c:\\\\Users\\\\hnd4r7\\\\AppData\\\\Local\\\\Programs\\\\Python\\\\Python312\\\\Lib\\\\site-packages\\\\ipykernel\\\\comm\\\\__init__.py'>,\n",
       " 'ipykernel.compiler': <module 'ipykernel.compiler' from 'c:\\\\Users\\\\hnd4r7\\\\AppData\\\\Local\\\\Programs\\\\Python\\\\Python312\\\\Lib\\\\site-packages\\\\ipykernel\\\\compiler.py'>,\n",
       " 'packaging': <module 'packaging' from 'c:\\\\Users\\\\hnd4r7\\\\AppData\\\\Local\\\\Programs\\\\Python\\\\Python312\\\\Lib\\\\site-packages\\\\packaging\\\\__init__.py'>,\n",
       " 'packaging._structures': <module 'packaging._structures' from 'c:\\\\Users\\\\hnd4r7\\\\AppData\\\\Local\\\\Programs\\\\Python\\\\Python312\\\\Lib\\\\site-packages\\\\packaging\\\\_structures.py'>,\n",
       " 'packaging.version': <module 'packaging.version' from 'c:\\\\Users\\\\hnd4r7\\\\AppData\\\\Local\\\\Programs\\\\Python\\\\Python312\\\\Lib\\\\site-packages\\\\packaging\\\\version.py'>,\n",
       " 'ipykernel.eventloops': <module 'ipykernel.eventloops' from 'c:\\\\Users\\\\hnd4r7\\\\AppData\\\\Local\\\\Programs\\\\Python\\\\Python312\\\\Lib\\\\site-packages\\\\ipykernel\\\\eventloops.py'>,\n",
       " 'IPython.core.payloadpage': <module 'IPython.core.payloadpage' from 'c:\\\\Users\\\\hnd4r7\\\\AppData\\\\Local\\\\Programs\\\\Python\\\\Python312\\\\Lib\\\\site-packages\\\\IPython\\\\core\\\\payloadpage.py'>,\n",
       " 'ipykernel.displayhook': <module 'ipykernel.displayhook' from 'c:\\\\Users\\\\hnd4r7\\\\AppData\\\\Local\\\\Programs\\\\Python\\\\Python312\\\\Lib\\\\site-packages\\\\ipykernel\\\\displayhook.py'>,\n",
       " 'ipykernel.zmqshell': <module 'ipykernel.zmqshell' from 'c:\\\\Users\\\\hnd4r7\\\\AppData\\\\Local\\\\Programs\\\\Python\\\\Python312\\\\Lib\\\\site-packages\\\\ipykernel\\\\zmqshell.py'>,\n",
       " 'ipykernel.ipkernel': <module 'ipykernel.ipkernel' from 'c:\\\\Users\\\\hnd4r7\\\\AppData\\\\Local\\\\Programs\\\\Python\\\\Python312\\\\Lib\\\\site-packages\\\\ipykernel\\\\ipkernel.py'>,\n",
       " 'ipykernel.parentpoller': <module 'ipykernel.parentpoller' from 'c:\\\\Users\\\\hnd4r7\\\\AppData\\\\Local\\\\Programs\\\\Python\\\\Python312\\\\Lib\\\\site-packages\\\\ipykernel\\\\parentpoller.py'>,\n",
       " 'ipykernel.kernelapp': <module 'ipykernel.kernelapp' from 'c:\\\\Users\\\\hnd4r7\\\\AppData\\\\Local\\\\Programs\\\\Python\\\\Python312\\\\Lib\\\\site-packages\\\\ipykernel\\\\kernelapp.py'>,\n",
       " '_codecs_cn': <module '_codecs_cn' (built-in)>,\n",
       " '_multibytecodec': <module '_multibytecodec' (built-in)>,\n",
       " 'encodings.gbk': <module 'encodings.gbk' from 'c:\\\\Users\\\\hnd4r7\\\\AppData\\\\Local\\\\Programs\\\\Python\\\\Python312\\\\Lib\\\\encodings\\\\gbk.py'>,\n",
       " 'tornado.platform': <module 'tornado.platform' from 'c:\\\\Users\\\\hnd4r7\\\\AppData\\\\Local\\\\Programs\\\\Python\\\\Python312\\\\Lib\\\\site-packages\\\\tornado\\\\platform\\\\__init__.py'>,\n",
       " 'tornado.platform.asyncio': <module 'tornado.platform.asyncio' from 'c:\\\\Users\\\\hnd4r7\\\\AppData\\\\Local\\\\Programs\\\\Python\\\\Python312\\\\Lib\\\\site-packages\\\\tornado\\\\platform\\\\asyncio.py'>,\n",
       " 'faulthandler': <module 'faulthandler' (built-in)>,\n",
       " 'debugpy._version': <module 'debugpy._version' from 'C:\\\\Users\\\\hnd4r7\\\\AppData\\\\Roaming\\\\Python\\\\Python312\\\\site-packages\\\\debugpy\\\\_version.py'>,\n",
       " 'debugpy.public_api': <module 'debugpy.public_api' from 'C:\\\\Users\\\\hnd4r7\\\\AppData\\\\Roaming\\\\Python\\\\Python312\\\\site-packages\\\\debugpy\\\\public_api.py'>,\n",
       " 'debugpy': <module 'debugpy' from 'C:\\\\Users\\\\hnd4r7\\\\AppData\\\\Roaming\\\\Python\\\\Python312\\\\site-packages\\\\debugpy\\\\__init__.py'>,\n",
       " 'debugpy._vendored._util': <module 'debugpy._vendored._util' from 'C:\\\\Users\\\\hnd4r7\\\\AppData\\\\Roaming\\\\Python\\\\Python312\\\\site-packages\\\\debugpy\\\\_vendored\\\\_util.py'>,\n",
       " 'debugpy._vendored': <module 'debugpy._vendored' from 'C:\\\\Users\\\\hnd4r7\\\\AppData\\\\Roaming\\\\Python\\\\Python312\\\\site-packages\\\\debugpy\\\\_vendored\\\\__init__.py'>,\n",
       " '_pydevd_bundle': <module '_pydevd_bundle' from 'C:\\\\Users\\\\hnd4r7\\\\AppData\\\\Roaming\\\\Python\\\\Python312\\\\site-packages\\\\debugpy\\\\_vendored\\\\pydevd\\\\_pydevd_bundle\\\\__init__.py'>,\n",
       " 'encodings.ascii': <module 'encodings.ascii' from 'c:\\\\Users\\\\hnd4r7\\\\AppData\\\\Local\\\\Programs\\\\Python\\\\Python312\\\\Lib\\\\encodings\\\\ascii.py'>,\n",
       " 'encodings.latin_1': <module 'encodings.latin_1' from 'c:\\\\Users\\\\hnd4r7\\\\AppData\\\\Local\\\\Programs\\\\Python\\\\Python312\\\\Lib\\\\encodings\\\\latin_1.py'>,\n",
       " 'stringprep': <module 'stringprep' from 'c:\\\\Users\\\\hnd4r7\\\\AppData\\\\Local\\\\Programs\\\\Python\\\\Python312\\\\Lib\\\\stringprep.py'>,\n",
       " 'encodings.idna': <module 'encodings.idna' from 'c:\\\\Users\\\\hnd4r7\\\\AppData\\\\Local\\\\Programs\\\\Python\\\\Python312\\\\Lib\\\\encodings\\\\idna.py'>,\n",
       " '_pydevd_bundle.pydevd_vm_type': <module '_pydevd_bundle.pydevd_vm_type' from 'C:\\\\Users\\\\hnd4r7\\\\AppData\\\\Roaming\\\\Python\\\\Python312\\\\site-packages\\\\debugpy\\\\_vendored\\\\pydevd\\\\_pydevd_bundle\\\\pydevd_vm_type.py'>,\n",
       " '_pydev_bundle': <module '_pydev_bundle' from 'C:\\\\Users\\\\hnd4r7\\\\AppData\\\\Roaming\\\\Python\\\\Python312\\\\site-packages\\\\debugpy\\\\_vendored\\\\pydevd\\\\_pydev_bundle\\\\__init__.py'>,\n",
       " 'xmlrpc': <module 'xmlrpc' from 'c:\\\\Users\\\\hnd4r7\\\\AppData\\\\Local\\\\Programs\\\\Python\\\\Python312\\\\Lib\\\\xmlrpc\\\\__init__.py'>,\n",
       " 'gzip': <module 'gzip' from 'c:\\\\Users\\\\hnd4r7\\\\AppData\\\\Local\\\\Programs\\\\Python\\\\Python312\\\\Lib\\\\gzip.py'>,\n",
       " 'xmlrpc.client': <module 'xmlrpc.client' from 'c:\\\\Users\\\\hnd4r7\\\\AppData\\\\Local\\\\Programs\\\\Python\\\\Python312\\\\Lib\\\\xmlrpc\\\\client.py'>,\n",
       " 'http.server': <module 'http.server' from 'c:\\\\Users\\\\hnd4r7\\\\AppData\\\\Local\\\\Programs\\\\Python\\\\Python312\\\\Lib\\\\http\\\\server.py'>,\n",
       " 'xmlrpc.server': <module 'xmlrpc.server' from 'c:\\\\Users\\\\hnd4r7\\\\AppData\\\\Local\\\\Programs\\\\Python\\\\Python312\\\\Lib\\\\xmlrpc\\\\server.py'>,\n",
       " '_pydev_bundle._pydev_saved_modules': <module '_pydev_bundle._pydev_saved_modules' from 'C:\\\\Users\\\\hnd4r7\\\\AppData\\\\Roaming\\\\Python\\\\Python312\\\\site-packages\\\\debugpy\\\\_vendored\\\\pydevd\\\\_pydev_bundle\\\\_pydev_saved_modules.py'>,\n",
       " '_pydevd_bundle.pydevd_constants': <module '_pydevd_bundle.pydevd_constants' from 'C:\\\\Users\\\\hnd4r7\\\\AppData\\\\Roaming\\\\Python\\\\Python312\\\\site-packages\\\\debugpy\\\\_vendored\\\\pydevd\\\\_pydevd_bundle\\\\pydevd_constants.py'>,\n",
       " '_pydev_runfiles': <module '_pydev_runfiles' from 'C:\\\\Users\\\\hnd4r7\\\\AppData\\\\Roaming\\\\Python\\\\Python312\\\\site-packages\\\\debugpy\\\\_vendored\\\\pydevd\\\\_pydev_runfiles\\\\__init__.py'>,\n",
       " '_pydevd_frame_eval': <module '_pydevd_frame_eval' from 'C:\\\\Users\\\\hnd4r7\\\\AppData\\\\Roaming\\\\Python\\\\Python312\\\\site-packages\\\\debugpy\\\\_vendored\\\\pydevd\\\\_pydevd_frame_eval\\\\__init__.py'>,\n",
       " 'pydev_ipython': <module 'pydev_ipython' from 'C:\\\\Users\\\\hnd4r7\\\\AppData\\\\Roaming\\\\Python\\\\Python312\\\\site-packages\\\\debugpy\\\\_vendored\\\\pydevd\\\\pydev_ipython\\\\__init__.py'>,\n",
       " 'pydevd_plugins': <module 'pydevd_plugins' from 'C:\\\\Users\\\\hnd4r7\\\\AppData\\\\Roaming\\\\Python\\\\Python312\\\\site-packages\\\\debugpy\\\\_vendored\\\\pydevd\\\\pydevd_plugins\\\\__init__.py'>,\n",
       " '_pydev_bundle.pydev_log': <module '_pydev_bundle.pydev_log' from 'C:\\\\Users\\\\hnd4r7\\\\AppData\\\\Roaming\\\\Python\\\\Python312\\\\site-packages\\\\debugpy\\\\_vendored\\\\pydevd\\\\_pydev_bundle\\\\pydev_log.py'>,\n",
       " '_pydev_bundle._pydev_filesystem_encoding': <module '_pydev_bundle._pydev_filesystem_encoding' from 'C:\\\\Users\\\\hnd4r7\\\\AppData\\\\Roaming\\\\Python\\\\Python312\\\\site-packages\\\\debugpy\\\\_vendored\\\\pydevd\\\\_pydev_bundle\\\\_pydev_filesystem_encoding.py'>,\n",
       " '_pydevd_bundle.pydevd_comm_constants': <module '_pydevd_bundle.pydevd_comm_constants' from 'C:\\\\Users\\\\hnd4r7\\\\AppData\\\\Roaming\\\\Python\\\\Python312\\\\site-packages\\\\debugpy\\\\_vendored\\\\pydevd\\\\_pydevd_bundle\\\\pydevd_comm_constants.py'>,\n",
       " 'pydevd_file_utils': <module 'pydevd_file_utils' from 'C:\\\\Users\\\\hnd4r7\\\\AppData\\\\Roaming\\\\Python\\\\Python312\\\\site-packages\\\\debugpy\\\\_vendored\\\\pydevd\\\\pydevd_file_utils.py'>,\n",
       " '_pydevd_bundle.pydevd_dont_trace_files': <module '_pydevd_bundle.pydevd_dont_trace_files' from 'C:\\\\Users\\\\hnd4r7\\\\AppData\\\\Roaming\\\\Python\\\\Python312\\\\site-packages\\\\debugpy\\\\_vendored\\\\pydevd\\\\_pydevd_bundle\\\\pydevd_dont_trace_files.py'>,\n",
       " '_pydev_bundle._pydev_execfile': <module '_pydev_bundle._pydev_execfile' from 'C:\\\\Users\\\\hnd4r7\\\\AppData\\\\Roaming\\\\Python\\\\Python312\\\\site-packages\\\\debugpy\\\\_vendored\\\\pydevd\\\\_pydev_bundle\\\\_pydev_execfile.py'>,\n",
       " '_pydevd_bundle.pydevd_exec2': <module '_pydevd_bundle.pydevd_exec2' from 'C:\\\\Users\\\\hnd4r7\\\\AppData\\\\Roaming\\\\Python\\\\Python312\\\\site-packages\\\\debugpy\\\\_vendored\\\\pydevd\\\\_pydevd_bundle\\\\pydevd_exec2.py'>,\n",
       " '_pydev_bundle.pydev_imports': <module '_pydev_bundle.pydev_imports' from 'C:\\\\Users\\\\hnd4r7\\\\AppData\\\\Roaming\\\\Python\\\\Python312\\\\site-packages\\\\debugpy\\\\_vendored\\\\pydevd\\\\_pydev_bundle\\\\pydev_imports.py'>,\n",
       " '_pydev_bundle.pydev_is_thread_alive': <module '_pydev_bundle.pydev_is_thread_alive' from 'C:\\\\Users\\\\hnd4r7\\\\AppData\\\\Roaming\\\\Python\\\\Python312\\\\site-packages\\\\debugpy\\\\_vendored\\\\pydevd\\\\_pydev_bundle\\\\pydev_is_thread_alive.py'>,\n",
       " '_pydev_bundle.pydev_override': <module '_pydev_bundle.pydev_override' from 'C:\\\\Users\\\\hnd4r7\\\\AppData\\\\Roaming\\\\Python\\\\Python312\\\\site-packages\\\\debugpy\\\\_vendored\\\\pydevd\\\\_pydev_bundle\\\\pydev_override.py'>,\n",
       " 'pydevd_plugins.extensions': <module 'pydevd_plugins.extensions' from 'C:\\\\Users\\\\hnd4r7\\\\AppData\\\\Roaming\\\\Python\\\\Python312\\\\site-packages\\\\debugpy\\\\_vendored\\\\pydevd\\\\pydevd_plugins\\\\extensions\\\\__init__.py'>,\n",
       " '_pydevd_bundle.pydevd_extension_utils': <module '_pydevd_bundle.pydevd_extension_utils' from 'C:\\\\Users\\\\hnd4r7\\\\AppData\\\\Roaming\\\\Python\\\\Python312\\\\site-packages\\\\debugpy\\\\_vendored\\\\pydevd\\\\_pydevd_bundle\\\\pydevd_extension_utils.py'>,\n",
       " '_pydevd_bundle.pydevd_frame_utils': <module '_pydevd_bundle.pydevd_frame_utils' from 'C:\\\\Users\\\\hnd4r7\\\\AppData\\\\Roaming\\\\Python\\\\Python312\\\\site-packages\\\\debugpy\\\\_vendored\\\\pydevd\\\\_pydevd_bundle\\\\pydevd_frame_utils.py'>,\n",
       " '_pydevd_bundle.pydevd_filtering': <module '_pydevd_bundle.pydevd_filtering' from 'C:\\\\Users\\\\hnd4r7\\\\AppData\\\\Roaming\\\\Python\\\\Python312\\\\site-packages\\\\debugpy\\\\_vendored\\\\pydevd\\\\_pydevd_bundle\\\\pydevd_filtering.py'>,\n",
       " '_pydevd_bundle.pydevd_io': <module '_pydevd_bundle.pydevd_io' from 'C:\\\\Users\\\\hnd4r7\\\\AppData\\\\Roaming\\\\Python\\\\Python312\\\\site-packages\\\\debugpy\\\\_vendored\\\\pydevd\\\\_pydevd_bundle\\\\pydevd_io.py'>,\n",
       " '_pydevd_bundle.pydevd_defaults': <module '_pydevd_bundle.pydevd_defaults' from 'C:\\\\Users\\\\hnd4r7\\\\AppData\\\\Roaming\\\\Python\\\\Python312\\\\site-packages\\\\debugpy\\\\_vendored\\\\pydevd\\\\_pydevd_bundle\\\\pydevd_defaults.py'>,\n",
       " '_pydevd_bundle.pydevd_utils': <module '_pydevd_bundle.pydevd_utils' from 'C:\\\\Users\\\\hnd4r7\\\\AppData\\\\Roaming\\\\Python\\\\Python312\\\\site-packages\\\\debugpy\\\\_vendored\\\\pydevd\\\\_pydevd_bundle\\\\pydevd_utils.py'>,\n",
       " '_pydevd_bundle.pydevd_runpy': <module '_pydevd_bundle.pydevd_runpy' from 'C:\\\\Users\\\\hnd4r7\\\\AppData\\\\Roaming\\\\Python\\\\Python312\\\\site-packages\\\\debugpy\\\\_vendored\\\\pydevd\\\\_pydevd_bundle\\\\pydevd_runpy.py'>,\n",
       " '_pydev_bundle._pydev_tipper_common': <module '_pydev_bundle._pydev_tipper_common' from 'C:\\\\Users\\\\hnd4r7\\\\AppData\\\\Roaming\\\\Python\\\\Python312\\\\site-packages\\\\debugpy\\\\_vendored\\\\pydevd\\\\_pydev_bundle\\\\_pydev_tipper_common.py'>,\n",
       " '_pydev_bundle._pydev_imports_tipper': <module '_pydev_bundle._pydev_imports_tipper' from 'C:\\\\Users\\\\hnd4r7\\\\AppData\\\\Roaming\\\\Python\\\\Python312\\\\site-packages\\\\debugpy\\\\_vendored\\\\pydevd\\\\_pydev_bundle\\\\_pydev_imports_tipper.py'>,\n",
       " '_pydev_bundle._pydev_calltip_util': <module '_pydev_bundle._pydev_calltip_util' from 'C:\\\\Users\\\\hnd4r7\\\\AppData\\\\Roaming\\\\Python\\\\Python312\\\\site-packages\\\\debugpy\\\\_vendored\\\\pydevd\\\\_pydev_bundle\\\\_pydev_calltip_util.py'>,\n",
       " '_pydevd_bundle.pydevd_safe_repr': <module '_pydevd_bundle.pydevd_safe_repr' from 'C:\\\\Users\\\\hnd4r7\\\\AppData\\\\Roaming\\\\Python\\\\Python312\\\\site-packages\\\\debugpy\\\\_vendored\\\\pydevd\\\\_pydevd_bundle\\\\pydevd_safe_repr.py'>,\n",
       " '_pydevd_bundle.pydevd_resolver': <module '_pydevd_bundle.pydevd_resolver' from 'C:\\\\Users\\\\hnd4r7\\\\AppData\\\\Roaming\\\\Python\\\\Python312\\\\site-packages\\\\debugpy\\\\_vendored\\\\pydevd\\\\_pydevd_bundle\\\\pydevd_resolver.py'>,\n",
       " '_pydevd_bundle.pydevd_extension_api': <module '_pydevd_bundle.pydevd_extension_api' from 'C:\\\\Users\\\\hnd4r7\\\\AppData\\\\Roaming\\\\Python\\\\Python312\\\\site-packages\\\\debugpy\\\\_vendored\\\\pydevd\\\\_pydevd_bundle\\\\pydevd_extension_api.py'>,\n",
       " '_pydevd_bundle.pydevd_xml': <module '_pydevd_bundle.pydevd_xml' from 'C:\\\\Users\\\\hnd4r7\\\\AppData\\\\Roaming\\\\Python\\\\Python312\\\\site-packages\\\\debugpy\\\\_vendored\\\\pydevd\\\\_pydevd_bundle\\\\pydevd_xml.py'>,\n",
       " '_pydevd_bundle.pydevd_dont_trace': <module '_pydevd_bundle.pydevd_dont_trace' from 'C:\\\\Users\\\\hnd4r7\\\\AppData\\\\Roaming\\\\Python\\\\Python312\\\\site-packages\\\\debugpy\\\\_vendored\\\\pydevd\\\\_pydevd_bundle\\\\pydevd_dont_trace.py'>,\n",
       " '_pydevd_frame_eval.vendored': <module '_pydevd_frame_eval.vendored' from 'C:\\\\Users\\\\hnd4r7\\\\AppData\\\\Roaming\\\\Python\\\\Python312\\\\site-packages\\\\debugpy\\\\_vendored\\\\pydevd\\\\_pydevd_frame_eval\\\\vendored\\\\__init__.py'>,\n",
       " '_pydevd_frame_eval.vendored.bytecode.flags': <module '_pydevd_frame_eval.vendored.bytecode.flags' from 'C:\\\\Users\\\\hnd4r7\\\\AppData\\\\Roaming\\\\Python\\\\Python312\\\\site-packages\\\\debugpy\\\\_vendored\\\\pydevd\\\\_pydevd_frame_eval\\\\vendored\\\\bytecode\\\\flags.py'>,\n",
       " '_pydevd_frame_eval.vendored.bytecode.instr': <module '_pydevd_frame_eval.vendored.bytecode.instr' from 'C:\\\\Users\\\\hnd4r7\\\\AppData\\\\Roaming\\\\Python\\\\Python312\\\\site-packages\\\\debugpy\\\\_vendored\\\\pydevd\\\\_pydevd_frame_eval\\\\vendored\\\\bytecode\\\\instr.py'>,\n",
       " '_pydevd_frame_eval.vendored.bytecode.bytecode': <module '_pydevd_frame_eval.vendored.bytecode.bytecode' from 'C:\\\\Users\\\\hnd4r7\\\\AppData\\\\Roaming\\\\Python\\\\Python312\\\\site-packages\\\\debugpy\\\\_vendored\\\\pydevd\\\\_pydevd_frame_eval\\\\vendored\\\\bytecode\\\\bytecode.py'>,\n",
       " '_pydevd_frame_eval.vendored.bytecode.concrete': <module '_pydevd_frame_eval.vendored.bytecode.concrete' from 'C:\\\\Users\\\\hnd4r7\\\\AppData\\\\Roaming\\\\Python\\\\Python312\\\\site-packages\\\\debugpy\\\\_vendored\\\\pydevd\\\\_pydevd_frame_eval\\\\vendored\\\\bytecode\\\\concrete.py'>,\n",
       " '_pydevd_frame_eval.vendored.bytecode.cfg': <module '_pydevd_frame_eval.vendored.bytecode.cfg' from 'C:\\\\Users\\\\hnd4r7\\\\AppData\\\\Roaming\\\\Python\\\\Python312\\\\site-packages\\\\debugpy\\\\_vendored\\\\pydevd\\\\_pydevd_frame_eval\\\\vendored\\\\bytecode\\\\cfg.py'>,\n",
       " '_pydevd_frame_eval.vendored.bytecode': <module '_pydevd_frame_eval.vendored.bytecode' from 'C:\\\\Users\\\\hnd4r7\\\\AppData\\\\Roaming\\\\Python\\\\Python312\\\\site-packages\\\\debugpy\\\\_vendored\\\\pydevd\\\\_pydevd_frame_eval\\\\vendored\\\\bytecode\\\\__init__.py'>,\n",
       " '_pydevd_bundle.pydevd_bytecode_utils': <module '_pydevd_bundle.pydevd_bytecode_utils' from 'C:\\\\Users\\\\hnd4r7\\\\AppData\\\\Roaming\\\\Python\\\\Python312\\\\site-packages\\\\debugpy\\\\_vendored\\\\pydevd\\\\_pydevd_bundle\\\\pydevd_bytecode_utils.py'>,\n",
       " '_pydevd_bundle.pydevd_cython': <module '_pydevd_bundle.pydevd_cython' from 'C:\\\\Users\\\\hnd4r7\\\\AppData\\\\Roaming\\\\Python\\\\Python312\\\\site-packages\\\\debugpy\\\\_vendored\\\\pydevd\\\\_pydevd_bundle\\\\pydevd_cython.cp312-win_amd64.pyd'>,\n",
       " '_pydevd_bundle.pydevd_cython_wrapper': <module '_pydevd_bundle.pydevd_cython_wrapper' from 'C:\\\\Users\\\\hnd4r7\\\\AppData\\\\Roaming\\\\Python\\\\Python312\\\\site-packages\\\\debugpy\\\\_vendored\\\\pydevd\\\\_pydevd_bundle\\\\pydevd_cython_wrapper.py'>,\n",
       " '_pydevd_bundle.pydevd_additional_thread_info': <module '_pydevd_bundle.pydevd_additional_thread_info' from 'C:\\\\Users\\\\hnd4r7\\\\AppData\\\\Roaming\\\\Python\\\\Python312\\\\site-packages\\\\debugpy\\\\_vendored\\\\pydevd\\\\_pydevd_bundle\\\\pydevd_additional_thread_info.py'>,\n",
       " '_pydevd_sys_monitoring': <module '_pydevd_sys_monitoring' (namespace) from ['C:\\\\Users\\\\hnd4r7\\\\AppData\\\\Roaming\\\\Python\\\\Python312\\\\site-packages\\\\debugpy\\\\_vendored\\\\pydevd\\\\_pydevd_sys_monitoring', 'C:\\\\Users\\\\hnd4r7\\\\AppData\\\\Roaming\\\\Python\\\\Python312\\\\site-packages\\\\debugpy\\\\_vendored\\\\pydevd\\\\_pydevd_sys_monitoring']>,\n",
       " '_pydevd_sys_monitoring_cython': <module '_pydevd_sys_monitoring._pydevd_sys_monitoring_cython' from 'C:\\\\Users\\\\hnd4r7\\\\AppData\\\\Roaming\\\\Python\\\\Python312\\\\site-packages\\\\debugpy\\\\_vendored\\\\pydevd\\\\_pydevd_sys_monitoring\\\\_pydevd_sys_monitoring_cython.cp312-win_amd64.pyd'>,\n",
       " '_pydevd_bundle.pydevd_additional_thread_info_regular': <module '_pydevd_bundle.pydevd_additional_thread_info_regular' from 'C:\\\\Users\\\\hnd4r7\\\\AppData\\\\Roaming\\\\Python\\\\Python312\\\\site-packages\\\\debugpy\\\\_vendored\\\\pydevd\\\\_pydevd_bundle\\\\pydevd_additional_thread_info_regular.py'>,\n",
       " '_pydevd_bundle.pydevd_trace_dispatch': <module '_pydevd_bundle.pydevd_trace_dispatch' from 'C:\\\\Users\\\\hnd4r7\\\\AppData\\\\Roaming\\\\Python\\\\Python312\\\\site-packages\\\\debugpy\\\\_vendored\\\\pydevd\\\\_pydevd_bundle\\\\pydevd_trace_dispatch.py'>,\n",
       " '_pydevd_bundle.pydevd_import_class': <module '_pydevd_bundle.pydevd_import_class' from 'C:\\\\Users\\\\hnd4r7\\\\AppData\\\\Roaming\\\\Python\\\\Python312\\\\site-packages\\\\debugpy\\\\_vendored\\\\pydevd\\\\_pydevd_bundle\\\\pydevd_import_class.py'>,\n",
       " '_pydevd_bundle.pydevd_breakpoints': <module '_pydevd_bundle.pydevd_breakpoints' from 'C:\\\\Users\\\\hnd4r7\\\\AppData\\\\Roaming\\\\Python\\\\Python312\\\\site-packages\\\\debugpy\\\\_vendored\\\\pydevd\\\\_pydevd_bundle\\\\pydevd_breakpoints.py'>,\n",
       " '_pydevd_sys_monitoring._pydevd_sys_monitoring_cython': <module '_pydevd_sys_monitoring._pydevd_sys_monitoring_cython' from 'C:\\\\Users\\\\hnd4r7\\\\AppData\\\\Roaming\\\\Python\\\\Python312\\\\site-packages\\\\debugpy\\\\_vendored\\\\pydevd\\\\_pydevd_sys_monitoring\\\\_pydevd_sys_monitoring_cython.cp312-win_amd64.pyd'>,\n",
       " '_pydevd_sys_monitoring.pydevd_sys_monitoring': <module '_pydevd_sys_monitoring.pydevd_sys_monitoring' from 'C:\\\\Users\\\\hnd4r7\\\\AppData\\\\Roaming\\\\Python\\\\Python312\\\\site-packages\\\\debugpy\\\\_vendored\\\\pydevd\\\\_pydevd_sys_monitoring\\\\pydevd_sys_monitoring.py'>,\n",
       " '_pydevd_bundle.pydevd_thread_lifecycle': <module '_pydevd_bundle.pydevd_thread_lifecycle' from 'C:\\\\Users\\\\hnd4r7\\\\AppData\\\\Roaming\\\\Python\\\\Python312\\\\site-packages\\\\debugpy\\\\_vendored\\\\pydevd\\\\_pydevd_bundle\\\\pydevd_thread_lifecycle.py'>,\n",
       " '_pydevd_bundle.pydevd_save_locals': <module '_pydevd_bundle.pydevd_save_locals' from 'C:\\\\Users\\\\hnd4r7\\\\AppData\\\\Roaming\\\\Python\\\\Python312\\\\site-packages\\\\debugpy\\\\_vendored\\\\pydevd\\\\_pydevd_bundle\\\\pydevd_save_locals.py'>,\n",
       " '_pydev_bundle.pydev_monkey': <module '_pydev_bundle.pydev_monkey' from 'C:\\\\Users\\\\hnd4r7\\\\AppData\\\\Roaming\\\\Python\\\\Python312\\\\site-packages\\\\debugpy\\\\_vendored\\\\pydevd\\\\_pydev_bundle\\\\pydev_monkey.py'>,\n",
       " 'pydevd_tracing': <module 'pydevd_tracing' from 'C:\\\\Users\\\\hnd4r7\\\\AppData\\\\Roaming\\\\Python\\\\Python312\\\\site-packages\\\\debugpy\\\\_vendored\\\\pydevd\\\\pydevd_tracing.py'>,\n",
       " '_pydevd_bundle.pydevd_collect_bytecode_info': <module '_pydevd_bundle.pydevd_collect_bytecode_info' from 'C:\\\\Users\\\\hnd4r7\\\\AppData\\\\Roaming\\\\Python\\\\Python312\\\\site-packages\\\\debugpy\\\\_vendored\\\\pydevd\\\\_pydevd_bundle\\\\pydevd_collect_bytecode_info.py'>,\n",
       " '_pydevd_bundle.pydevd_daemon_thread': <module '_pydevd_bundle.pydevd_daemon_thread' from 'C:\\\\Users\\\\hnd4r7\\\\AppData\\\\Roaming\\\\Python\\\\Python312\\\\site-packages\\\\debugpy\\\\_vendored\\\\pydevd\\\\_pydevd_bundle\\\\pydevd_daemon_thread.py'>,\n",
       " '_pydevd_bundle.pydevd_timeout': <module '_pydevd_bundle.pydevd_timeout' from 'C:\\\\Users\\\\hnd4r7\\\\AppData\\\\Roaming\\\\Python\\\\Python312\\\\site-packages\\\\debugpy\\\\_vendored\\\\pydevd\\\\_pydevd_bundle\\\\pydevd_timeout.py'>,\n",
       " '_pydevd_bundle.pydevd_vars': <module '_pydevd_bundle.pydevd_vars' from 'C:\\\\Users\\\\hnd4r7\\\\AppData\\\\Roaming\\\\Python\\\\Python312\\\\site-packages\\\\debugpy\\\\_vendored\\\\pydevd\\\\_pydevd_bundle\\\\pydevd_vars.py'>,\n",
       " '_pydev_bundle.pydev_console_utils': <module '_pydev_bundle.pydev_console_utils' from 'C:\\\\Users\\\\hnd4r7\\\\AppData\\\\Roaming\\\\Python\\\\Python312\\\\site-packages\\\\debugpy\\\\_vendored\\\\pydevd\\\\_pydev_bundle\\\\pydev_console_utils.py'>,\n",
       " '_pydevd_bundle.pydevd_custom_frames': <module '_pydevd_bundle.pydevd_custom_frames' from 'C:\\\\Users\\\\hnd4r7\\\\AppData\\\\Roaming\\\\Python\\\\Python312\\\\site-packages\\\\debugpy\\\\_vendored\\\\pydevd\\\\_pydevd_bundle\\\\pydevd_custom_frames.py'>,\n",
       " '_pydevd_bundle.pydevd_net_command': <module '_pydevd_bundle.pydevd_net_command' from 'C:\\\\Users\\\\hnd4r7\\\\AppData\\\\Roaming\\\\Python\\\\Python312\\\\site-packages\\\\debugpy\\\\_vendored\\\\pydevd\\\\_pydevd_bundle\\\\pydevd_net_command.py'>,\n",
       " '_pydevd_bundle.pydevconsole_code': <module '_pydevd_bundle.pydevconsole_code' from 'C:\\\\Users\\\\hnd4r7\\\\AppData\\\\Roaming\\\\Python\\\\Python312\\\\site-packages\\\\debugpy\\\\_vendored\\\\pydevd\\\\_pydevd_bundle\\\\pydevconsole_code.py'>,\n",
       " '_pydev_bundle.pydev_umd': <module '_pydev_bundle.pydev_umd' from 'C:\\\\Users\\\\hnd4r7\\\\AppData\\\\Roaming\\\\Python\\\\Python312\\\\site-packages\\\\debugpy\\\\_vendored\\\\pydevd\\\\_pydev_bundle\\\\pydev_umd.py'>,\n",
       " 'pydevconsole': <module 'pydevconsole' from 'C:\\\\Users\\\\hnd4r7\\\\AppData\\\\Roaming\\\\Python\\\\Python312\\\\site-packages\\\\debugpy\\\\_vendored\\\\pydevd\\\\pydevconsole.py'>,\n",
       " '_pydev_bundle._pydev_completer': <module '_pydev_bundle._pydev_completer' from 'C:\\\\Users\\\\hnd4r7\\\\AppData\\\\Roaming\\\\Python\\\\Python312\\\\site-packages\\\\debugpy\\\\_vendored\\\\pydevd\\\\_pydev_bundle\\\\_pydev_completer.py'>,\n",
       " '_pydevd_bundle.pydevd_net_command_factory_xml': <module '_pydevd_bundle.pydevd_net_command_factory_xml' from 'C:\\\\Users\\\\hnd4r7\\\\AppData\\\\Roaming\\\\Python\\\\Python312\\\\site-packages\\\\debugpy\\\\_vendored\\\\pydevd\\\\_pydevd_bundle\\\\pydevd_net_command_factory_xml.py'>,\n",
       " '_pydevd_frame_eval.pydevd_frame_eval_main': <module '_pydevd_frame_eval.pydevd_frame_eval_main' from 'C:\\\\Users\\\\hnd4r7\\\\AppData\\\\Roaming\\\\Python\\\\Python312\\\\site-packages\\\\debugpy\\\\_vendored\\\\pydevd\\\\_pydevd_frame_eval\\\\pydevd_frame_eval_main.py'>,\n",
       " '_pydevd_bundle.pydevd_source_mapping': <module '_pydevd_bundle.pydevd_source_mapping' from 'C:\\\\Users\\\\hnd4r7\\\\AppData\\\\Roaming\\\\Python\\\\Python312\\\\site-packages\\\\debugpy\\\\_vendored\\\\pydevd\\\\_pydevd_bundle\\\\pydevd_source_mapping.py'>,\n",
       " '_pydevd_bundle.pydevd_concurrency_analyser': <module '_pydevd_bundle.pydevd_concurrency_analyser' from 'C:\\\\Users\\\\hnd4r7\\\\AppData\\\\Roaming\\\\Python\\\\Python312\\\\site-packages\\\\debugpy\\\\_vendored\\\\pydevd\\\\_pydevd_bundle\\\\pydevd_concurrency_analyser\\\\__init__.py'>,\n",
       " '_pydevd_bundle.pydevd_concurrency_analyser.pydevd_thread_wrappers': <module '_pydevd_bundle.pydevd_concurrency_analyser.pydevd_thread_wrappers' from 'C:\\\\Users\\\\hnd4r7\\\\AppData\\\\Roaming\\\\Python\\\\Python312\\\\site-packages\\\\debugpy\\\\_vendored\\\\pydevd\\\\_pydevd_bundle\\\\pydevd_concurrency_analyser\\\\pydevd_thread_wrappers.py'>,\n",
       " '_pydevd_bundle.pydevd_concurrency_analyser.pydevd_concurrency_logger': <module '_pydevd_bundle.pydevd_concurrency_analyser.pydevd_concurrency_logger' from 'C:\\\\Users\\\\hnd4r7\\\\AppData\\\\Roaming\\\\Python\\\\Python312\\\\site-packages\\\\debugpy\\\\_vendored\\\\pydevd\\\\_pydevd_bundle\\\\pydevd_concurrency_analyser\\\\pydevd_concurrency_logger.py'>,\n",
       " '_pydevd_bundle._debug_adapter': <module '_pydevd_bundle._debug_adapter' from 'C:\\\\Users\\\\hnd4r7\\\\AppData\\\\Roaming\\\\Python\\\\Python312\\\\site-packages\\\\debugpy\\\\_vendored\\\\pydevd\\\\_pydevd_bundle\\\\_debug_adapter\\\\__init__.py'>,\n",
       " '_pydevd_bundle._debug_adapter.pydevd_schema_log': <module '_pydevd_bundle._debug_adapter.pydevd_schema_log' from 'C:\\\\Users\\\\hnd4r7\\\\AppData\\\\Roaming\\\\Python\\\\Python312\\\\site-packages\\\\debugpy\\\\_vendored\\\\pydevd\\\\_pydevd_bundle\\\\_debug_adapter\\\\pydevd_schema_log.py'>,\n",
       " '_pydevd_bundle._debug_adapter.pydevd_base_schema': <module '_pydevd_bundle._debug_adapter.pydevd_base_schema' from 'C:\\\\Users\\\\hnd4r7\\\\AppData\\\\Roaming\\\\Python\\\\Python312\\\\site-packages\\\\debugpy\\\\_vendored\\\\pydevd\\\\_pydevd_bundle\\\\_debug_adapter\\\\pydevd_base_schema.py'>,\n",
       " '_pydevd_bundle._debug_adapter.pydevd_schema': <module '_pydevd_bundle._debug_adapter.pydevd_schema' from 'C:\\\\Users\\\\hnd4r7\\\\AppData\\\\Roaming\\\\Python\\\\Python312\\\\site-packages\\\\debugpy\\\\_vendored\\\\pydevd\\\\_pydevd_bundle\\\\_debug_adapter\\\\pydevd_schema.py'>,\n",
       " '_pydevd_bundle.pydevd_reload': <module '_pydevd_bundle.pydevd_reload' from 'C:\\\\Users\\\\hnd4r7\\\\AppData\\\\Roaming\\\\Python\\\\Python312\\\\site-packages\\\\debugpy\\\\_vendored\\\\pydevd\\\\_pydevd_bundle\\\\pydevd_reload.py'>,\n",
       " '_pydev_bundle.fsnotify': <module '_pydev_bundle.fsnotify' from 'C:\\\\Users\\\\hnd4r7\\\\AppData\\\\Roaming\\\\Python\\\\Python312\\\\site-packages\\\\debugpy\\\\_vendored\\\\pydevd\\\\_pydev_bundle\\\\fsnotify\\\\__init__.py'>,\n",
       " '_pydevd_bundle.pydevd_console': <module '_pydevd_bundle.pydevd_console' from 'C:\\\\Users\\\\hnd4r7\\\\AppData\\\\Roaming\\\\Python\\\\Python312\\\\site-packages\\\\debugpy\\\\_vendored\\\\pydevd\\\\_pydevd_bundle\\\\pydevd_console.py'>,\n",
       " '_pydevd_bundle.pydevd_comm': <module '_pydevd_bundle.pydevd_comm' from 'C:\\\\Users\\\\hnd4r7\\\\AppData\\\\Roaming\\\\Python\\\\Python312\\\\site-packages\\\\debugpy\\\\_vendored\\\\pydevd\\\\_pydevd_bundle\\\\pydevd_comm.py'>,\n",
       " '_pydevd_bundle.pydevd_net_command_factory_json': <module '_pydevd_bundle.pydevd_net_command_factory_json' from 'C:\\\\Users\\\\hnd4r7\\\\AppData\\\\Roaming\\\\Python\\\\Python312\\\\site-packages\\\\debugpy\\\\_vendored\\\\pydevd\\\\_pydevd_bundle\\\\pydevd_net_command_factory_json.py'>,\n",
       " '_pydevd_bundle.pydevd_api': <module '_pydevd_bundle.pydevd_api' from 'C:\\\\Users\\\\hnd4r7\\\\AppData\\\\Roaming\\\\Python\\\\Python312\\\\site-packages\\\\debugpy\\\\_vendored\\\\pydevd\\\\_pydevd_bundle\\\\pydevd_api.py'>,\n",
       " '_pydevd_bundle.pydevd_json_debug_options': <module '_pydevd_bundle.pydevd_json_debug_options' from 'C:\\\\Users\\\\hnd4r7\\\\AppData\\\\Roaming\\\\Python\\\\Python312\\\\site-packages\\\\debugpy\\\\_vendored\\\\pydevd\\\\_pydevd_bundle\\\\pydevd_json_debug_options.py'>,\n",
       " '_pydevd_bundle.pydevd_process_net_command_json': <module '_pydevd_bundle.pydevd_process_net_command_json' from 'C:\\\\Users\\\\hnd4r7\\\\AppData\\\\Roaming\\\\Python\\\\Python312\\\\site-packages\\\\debugpy\\\\_vendored\\\\pydevd\\\\_pydevd_bundle\\\\pydevd_process_net_command_json.py'>,\n",
       " '_pydevd_bundle.pydevd_traceproperty': <module '_pydevd_bundle.pydevd_traceproperty' from 'C:\\\\Users\\\\hnd4r7\\\\AppData\\\\Roaming\\\\Python\\\\Python312\\\\site-packages\\\\debugpy\\\\_vendored\\\\pydevd\\\\_pydevd_bundle\\\\pydevd_traceproperty.py'>,\n",
       " '_pydevd_bundle.pydevd_process_net_command': <module '_pydevd_bundle.pydevd_process_net_command' from 'C:\\\\Users\\\\hnd4r7\\\\AppData\\\\Roaming\\\\Python\\\\Python312\\\\site-packages\\\\debugpy\\\\_vendored\\\\pydevd\\\\_pydevd_bundle\\\\pydevd_process_net_command.py'>,\n",
       " '_pydevd_bundle.pydevd_suspended_frames': <module '_pydevd_bundle.pydevd_suspended_frames' from 'C:\\\\Users\\\\hnd4r7\\\\AppData\\\\Roaming\\\\Python\\\\Python312\\\\site-packages\\\\debugpy\\\\_vendored\\\\pydevd\\\\_pydevd_bundle\\\\pydevd_suspended_frames.py'>,\n",
       " 'pydevd_plugins.pydevd_line_validation': <module 'pydevd_plugins.pydevd_line_validation' from 'C:\\\\Users\\\\hnd4r7\\\\AppData\\\\Roaming\\\\Python\\\\Python312\\\\site-packages\\\\debugpy\\\\_vendored\\\\pydevd\\\\pydevd_plugins\\\\pydevd_line_validation.py'>,\n",
       " 'pydevd_plugins.django_debug': <module 'pydevd_plugins.django_debug' from 'C:\\\\Users\\\\hnd4r7\\\\AppData\\\\Roaming\\\\Python\\\\Python312\\\\site-packages\\\\debugpy\\\\_vendored\\\\pydevd\\\\pydevd_plugins\\\\django_debug.py'>,\n",
       " 'pydevd_plugins.jinja2_debug': <module 'pydevd_plugins.jinja2_debug' from 'C:\\\\Users\\\\hnd4r7\\\\AppData\\\\Roaming\\\\Python\\\\Python312\\\\site-packages\\\\debugpy\\\\_vendored\\\\pydevd\\\\pydevd_plugins\\\\jinja2_debug.py'>,\n",
       " '_pydevd_bundle.pydevd_plugin_utils': <module '_pydevd_bundle.pydevd_plugin_utils' from 'C:\\\\Users\\\\hnd4r7\\\\AppData\\\\Roaming\\\\Python\\\\Python312\\\\site-packages\\\\debugpy\\\\_vendored\\\\pydevd\\\\_pydevd_bundle\\\\pydevd_plugin_utils.py'>,\n",
       " 'pydevd_plugins.extensions.types': <module 'pydevd_plugins.extensions.types' from 'C:\\\\Users\\\\hnd4r7\\\\AppData\\\\Roaming\\\\Python\\\\Python312\\\\site-packages\\\\debugpy\\\\_vendored\\\\pydevd\\\\pydevd_plugins\\\\extensions\\\\types\\\\__init__.py'>,\n",
       " 'pydevd_plugins.extensions.types.pydevd_helpers': <module 'pydevd_plugins.extensions.types.pydevd_helpers' from 'C:\\\\Users\\\\hnd4r7\\\\AppData\\\\Roaming\\\\Python\\\\Python312\\\\site-packages\\\\debugpy\\\\_vendored\\\\pydevd\\\\pydevd_plugins\\\\extensions\\\\types\\\\pydevd_helpers.py'>,\n",
       " 'pydevd_plugins.extensions.types.pydevd_plugin_numpy_types': <module 'pydevd_plugins.extensions.types.pydevd_plugin_numpy_types' from 'C:\\\\Users\\\\hnd4r7\\\\AppData\\\\Roaming\\\\Python\\\\Python312\\\\site-packages\\\\debugpy\\\\_vendored\\\\pydevd\\\\pydevd_plugins\\\\extensions\\\\types\\\\pydevd_plugin_numpy_types.py'>,\n",
       " 'pydevd_plugins.extensions.types.pydevd_plugin_pandas_types': <module 'pydevd_plugins.extensions.types.pydevd_plugin_pandas_types' from 'C:\\\\Users\\\\hnd4r7\\\\AppData\\\\Roaming\\\\Python\\\\Python312\\\\site-packages\\\\debugpy\\\\_vendored\\\\pydevd\\\\pydevd_plugins\\\\extensions\\\\types\\\\pydevd_plugin_pandas_types.py'>,\n",
       " 'pydevd_plugins.extensions.types.pydevd_plugins_django_form_str': <module 'pydevd_plugins.extensions.types.pydevd_plugins_django_form_str' from 'C:\\\\Users\\\\hnd4r7\\\\AppData\\\\Roaming\\\\Python\\\\Python312\\\\site-packages\\\\debugpy\\\\_vendored\\\\pydevd\\\\pydevd_plugins\\\\extensions\\\\types\\\\pydevd_plugins_django_form_str.py'>,\n",
       " 'pydevd': <module 'pydevd' from 'C:\\\\Users\\\\hnd4r7\\\\AppData\\\\Roaming\\\\Python\\\\Python312\\\\site-packages\\\\debugpy\\\\_vendored\\\\pydevd\\\\pydevd.py'>,\n",
       " 'debugpy._vendored.force_pydevd': <module 'debugpy._vendored.force_pydevd' from 'C:\\\\Users\\\\hnd4r7\\\\AppData\\\\Roaming\\\\Python\\\\Python312\\\\site-packages\\\\debugpy\\\\_vendored\\\\force_pydevd.py'>,\n",
       " 'debugpy.server': <module 'debugpy.server' from 'C:\\\\Users\\\\hnd4r7\\\\AppData\\\\Roaming\\\\Python\\\\Python312\\\\site-packages\\\\debugpy\\\\server\\\\__init__.py'>,\n",
       " 'debugpy.adapter': <module 'debugpy.adapter' from 'C:\\\\Users\\\\hnd4r7\\\\AppData\\\\Roaming\\\\Python\\\\Python312\\\\site-packages\\\\debugpy\\\\adapter\\\\__init__.py'>,\n",
       " 'debugpy.common': <module 'debugpy.common' from 'C:\\\\Users\\\\hnd4r7\\\\AppData\\\\Roaming\\\\Python\\\\Python312\\\\site-packages\\\\debugpy\\\\common\\\\__init__.py'>,\n",
       " 'debugpy.common.json': <module 'debugpy.common.json' from 'C:\\\\Users\\\\hnd4r7\\\\AppData\\\\Roaming\\\\Python\\\\Python312\\\\site-packages\\\\debugpy\\\\common\\\\json.py'>,\n",
       " 'debugpy.common.timestamp': <module 'debugpy.common.timestamp' from 'C:\\\\Users\\\\hnd4r7\\\\AppData\\\\Roaming\\\\Python\\\\Python312\\\\site-packages\\\\debugpy\\\\common\\\\timestamp.py'>,\n",
       " 'debugpy.common.util': <module 'debugpy.common.util' from 'C:\\\\Users\\\\hnd4r7\\\\AppData\\\\Roaming\\\\Python\\\\Python312\\\\site-packages\\\\debugpy\\\\common\\\\util.py'>,\n",
       " 'debugpy.common.log': <module 'debugpy.common.log' from 'C:\\\\Users\\\\hnd4r7\\\\AppData\\\\Roaming\\\\Python\\\\Python312\\\\site-packages\\\\debugpy\\\\common\\\\log.py'>,\n",
       " 'debugpy.common.sockets': <module 'debugpy.common.sockets' from 'C:\\\\Users\\\\hnd4r7\\\\AppData\\\\Roaming\\\\Python\\\\Python312\\\\site-packages\\\\debugpy\\\\common\\\\sockets.py'>,\n",
       " 'debugpy.server.api': <module 'debugpy.server.api' from 'C:\\\\Users\\\\hnd4r7\\\\AppData\\\\Roaming\\\\Python\\\\Python312\\\\site-packages\\\\debugpy\\\\server\\\\api.py'>,\n",
       " 'ipykernel.debugger': <module 'ipykernel.debugger' from 'c:\\\\Users\\\\hnd4r7\\\\AppData\\\\Local\\\\Programs\\\\Python\\\\Python312\\\\Lib\\\\site-packages\\\\ipykernel\\\\debugger.py'>,\n",
       " 'IPython.core.completerlib': <module 'IPython.core.completerlib' from 'c:\\\\Users\\\\hnd4r7\\\\AppData\\\\Local\\\\Programs\\\\Python\\\\Python312\\\\Lib\\\\site-packages\\\\IPython\\\\core\\\\completerlib.py'>,\n",
       " 'ipywidgets._version': <module 'ipywidgets._version' from 'c:\\\\Users\\\\hnd4r7\\\\AppData\\\\Local\\\\Programs\\\\Python\\\\Python312\\\\Lib\\\\site-packages\\\\ipywidgets\\\\_version.py'>,\n",
       " 'ipywidgets.comm': <module 'ipywidgets.comm' from 'c:\\\\Users\\\\hnd4r7\\\\AppData\\\\Local\\\\Programs\\\\Python\\\\Python312\\\\Lib\\\\site-packages\\\\ipywidgets\\\\comm.py'>,\n",
       " 'ipywidgets.widgets.utils': <module 'ipywidgets.widgets.utils' from 'c:\\\\Users\\\\hnd4r7\\\\AppData\\\\Local\\\\Programs\\\\Python\\\\Python312\\\\Lib\\\\site-packages\\\\ipywidgets\\\\widgets\\\\utils.py'>,\n",
       " 'ipywidgets.widgets.widget': <module 'ipywidgets.widgets.widget' from 'c:\\\\Users\\\\hnd4r7\\\\AppData\\\\Local\\\\Programs\\\\Python\\\\Python312\\\\Lib\\\\site-packages\\\\ipywidgets\\\\widgets\\\\widget.py'>,\n",
       " 'ipywidgets.widgets.trait_types': <module 'ipywidgets.widgets.trait_types' from 'c:\\\\Users\\\\hnd4r7\\\\AppData\\\\Local\\\\Programs\\\\Python\\\\Python312\\\\Lib\\\\site-packages\\\\ipywidgets\\\\widgets\\\\trait_types.py'>,\n",
       " 'ipywidgets.widgets.widget_layout': <module 'ipywidgets.widgets.widget_layout' from 'c:\\\\Users\\\\hnd4r7\\\\AppData\\\\Local\\\\Programs\\\\Python\\\\Python312\\\\Lib\\\\site-packages\\\\ipywidgets\\\\widgets\\\\widget_layout.py'>,\n",
       " 'ipywidgets.widgets.widget_style': <module 'ipywidgets.widgets.widget_style' from 'c:\\\\Users\\\\hnd4r7\\\\AppData\\\\Local\\\\Programs\\\\Python\\\\Python312\\\\Lib\\\\site-packages\\\\ipywidgets\\\\widgets\\\\widget_style.py'>,\n",
       " 'ipywidgets.widgets.domwidget': <module 'ipywidgets.widgets.domwidget' from 'c:\\\\Users\\\\hnd4r7\\\\AppData\\\\Local\\\\Programs\\\\Python\\\\Python312\\\\Lib\\\\site-packages\\\\ipywidgets\\\\widgets\\\\domwidget.py'>,\n",
       " 'ipywidgets.widgets.valuewidget': <module 'ipywidgets.widgets.valuewidget' from 'c:\\\\Users\\\\hnd4r7\\\\AppData\\\\Local\\\\Programs\\\\Python\\\\Python312\\\\Lib\\\\site-packages\\\\ipywidgets\\\\widgets\\\\valuewidget.py'>,\n",
       " 'ipywidgets.widgets.widget_core': <module 'ipywidgets.widgets.widget_core' from 'c:\\\\Users\\\\hnd4r7\\\\AppData\\\\Local\\\\Programs\\\\Python\\\\Python312\\\\Lib\\\\site-packages\\\\ipywidgets\\\\widgets\\\\widget_core.py'>,\n",
       " 'ipywidgets.widgets.widget_description': <module 'ipywidgets.widgets.widget_description' from 'c:\\\\Users\\\\hnd4r7\\\\AppData\\\\Local\\\\Programs\\\\Python\\\\Python312\\\\Lib\\\\site-packages\\\\ipywidgets\\\\widgets\\\\widget_description.py'>,\n",
       " 'ipywidgets.widgets.widget_bool': <module 'ipywidgets.widgets.widget_bool' from 'c:\\\\Users\\\\hnd4r7\\\\AppData\\\\Local\\\\Programs\\\\Python\\\\Python312\\\\Lib\\\\site-packages\\\\ipywidgets\\\\widgets\\\\widget_bool.py'>,\n",
       " 'ipywidgets.widgets.widget_button': <module 'ipywidgets.widgets.widget_button' from 'c:\\\\Users\\\\hnd4r7\\\\AppData\\\\Local\\\\Programs\\\\Python\\\\Python312\\\\Lib\\\\site-packages\\\\ipywidgets\\\\widgets\\\\widget_button.py'>,\n",
       " 'ipywidgets.widgets.docutils': <module 'ipywidgets.widgets.docutils' from 'c:\\\\Users\\\\hnd4r7\\\\AppData\\\\Local\\\\Programs\\\\Python\\\\Python312\\\\Lib\\\\site-packages\\\\ipywidgets\\\\widgets\\\\docutils.py'>,\n",
       " 'ipywidgets.widgets.widget_box': <module 'ipywidgets.widgets.widget_box' from 'c:\\\\Users\\\\hnd4r7\\\\AppData\\\\Local\\\\Programs\\\\Python\\\\Python312\\\\Lib\\\\site-packages\\\\ipywidgets\\\\widgets\\\\widget_box.py'>,\n",
       " 'ipywidgets.widgets.widget_int': <module 'ipywidgets.widgets.widget_int' from 'c:\\\\Users\\\\hnd4r7\\\\AppData\\\\Local\\\\Programs\\\\Python\\\\Python312\\\\Lib\\\\site-packages\\\\ipywidgets\\\\widgets\\\\widget_int.py'>,\n",
       " 'ipywidgets.widgets.widget_float': <module 'ipywidgets.widgets.widget_float' from 'c:\\\\Users\\\\hnd4r7\\\\AppData\\\\Local\\\\Programs\\\\Python\\\\Python312\\\\Lib\\\\site-packages\\\\ipywidgets\\\\widgets\\\\widget_float.py'>,\n",
       " 'ipywidgets.widgets.widget_color': <module 'ipywidgets.widgets.widget_color' from 'c:\\\\Users\\\\hnd4r7\\\\AppData\\\\Local\\\\Programs\\\\Python\\\\Python312\\\\Lib\\\\site-packages\\\\ipywidgets\\\\widgets\\\\widget_color.py'>,\n",
       " 'ipywidgets.widgets.widget_date': <module 'ipywidgets.widgets.widget_date' from 'c:\\\\Users\\\\hnd4r7\\\\AppData\\\\Local\\\\Programs\\\\Python\\\\Python312\\\\Lib\\\\site-packages\\\\ipywidgets\\\\widgets\\\\widget_date.py'>,\n",
       " 'ipywidgets.widgets.widget_datetime': <module 'ipywidgets.widgets.widget_datetime' from 'c:\\\\Users\\\\hnd4r7\\\\AppData\\\\Local\\\\Programs\\\\Python\\\\Python312\\\\Lib\\\\site-packages\\\\ipywidgets\\\\widgets\\\\widget_datetime.py'>,\n",
       " 'ipywidgets.widgets.widget_time': <module 'ipywidgets.widgets.widget_time' from 'c:\\\\Users\\\\hnd4r7\\\\AppData\\\\Local\\\\Programs\\\\Python\\\\Python312\\\\Lib\\\\site-packages\\\\ipywidgets\\\\widgets\\\\widget_time.py'>,\n",
       " 'ipywidgets.widgets.widget_output': <module 'ipywidgets.widgets.widget_output' from 'c:\\\\Users\\\\hnd4r7\\\\AppData\\\\Local\\\\Programs\\\\Python\\\\Python312\\\\Lib\\\\site-packages\\\\ipywidgets\\\\widgets\\\\widget_output.py'>,\n",
       " 'ipywidgets.widgets.widget_selection': <module 'ipywidgets.widgets.widget_selection' from 'c:\\\\Users\\\\hnd4r7\\\\AppData\\\\Local\\\\Programs\\\\Python\\\\Python312\\\\Lib\\\\site-packages\\\\ipywidgets\\\\widgets\\\\widget_selection.py'>,\n",
       " 'ipywidgets.widgets.widget_selectioncontainer': <module 'ipywidgets.widgets.widget_selectioncontainer' from 'c:\\\\Users\\\\hnd4r7\\\\AppData\\\\Local\\\\Programs\\\\Python\\\\Python312\\\\Lib\\\\site-packages\\\\ipywidgets\\\\widgets\\\\widget_selectioncontainer.py'>,\n",
       " 'ipywidgets.widgets.widget_string': <module 'ipywidgets.widgets.widget_string' from 'c:\\\\Users\\\\hnd4r7\\\\AppData\\\\Local\\\\Programs\\\\Python\\\\Python312\\\\Lib\\\\site-packages\\\\ipywidgets\\\\widgets\\\\widget_string.py'>,\n",
       " 'ipywidgets.widgets.widget_controller': <module 'ipywidgets.widgets.widget_controller' from 'c:\\\\Users\\\\hnd4r7\\\\AppData\\\\Local\\\\Programs\\\\Python\\\\Python312\\\\Lib\\\\site-packages\\\\ipywidgets\\\\widgets\\\\widget_controller.py'>,\n",
       " 'ipywidgets.widgets.interaction': <module 'ipywidgets.widgets.interaction' from 'c:\\\\Users\\\\hnd4r7\\\\AppData\\\\Local\\\\Programs\\\\Python\\\\Python312\\\\Lib\\\\site-packages\\\\ipywidgets\\\\widgets\\\\interaction.py'>,\n",
       " 'ipywidgets.widgets.widget_link': <module 'ipywidgets.widgets.widget_link' from 'c:\\\\Users\\\\hnd4r7\\\\AppData\\\\Local\\\\Programs\\\\Python\\\\Python312\\\\Lib\\\\site-packages\\\\ipywidgets\\\\widgets\\\\widget_link.py'>,\n",
       " 'ipywidgets.widgets.widget_media': <module 'ipywidgets.widgets.widget_media' from 'c:\\\\Users\\\\hnd4r7\\\\AppData\\\\Local\\\\Programs\\\\Python\\\\Python312\\\\Lib\\\\site-packages\\\\ipywidgets\\\\widgets\\\\widget_media.py'>,\n",
       " 'ipywidgets.widgets.widget_tagsinput': <module 'ipywidgets.widgets.widget_tagsinput' from 'c:\\\\Users\\\\hnd4r7\\\\AppData\\\\Local\\\\Programs\\\\Python\\\\Python312\\\\Lib\\\\site-packages\\\\ipywidgets\\\\widgets\\\\widget_tagsinput.py'>,\n",
       " 'ipywidgets.widgets.widget_templates': <module 'ipywidgets.widgets.widget_templates' from 'c:\\\\Users\\\\hnd4r7\\\\AppData\\\\Local\\\\Programs\\\\Python\\\\Python312\\\\Lib\\\\site-packages\\\\ipywidgets\\\\widgets\\\\widget_templates.py'>,\n",
       " 'ipywidgets.widgets.widget_upload': <module 'ipywidgets.widgets.widget_upload' from 'c:\\\\Users\\\\hnd4r7\\\\AppData\\\\Local\\\\Programs\\\\Python\\\\Python312\\\\Lib\\\\site-packages\\\\ipywidgets\\\\widgets\\\\widget_upload.py'>,\n",
       " 'ipywidgets.widgets': <module 'ipywidgets.widgets' from 'c:\\\\Users\\\\hnd4r7\\\\AppData\\\\Local\\\\Programs\\\\Python\\\\Python312\\\\Lib\\\\site-packages\\\\ipywidgets\\\\widgets\\\\__init__.py'>,\n",
       " 'ipywidgets': <module 'ipywidgets' from 'c:\\\\Users\\\\hnd4r7\\\\AppData\\\\Local\\\\Programs\\\\Python\\\\Python312\\\\Lib\\\\site-packages\\\\ipywidgets\\\\__init__.py'>,\n",
       " 'vscode': <module 'vscode'>,\n",
       " 'numpy._utils._convertions': <module 'numpy._utils._convertions' from 'c:\\\\Users\\\\hnd4r7\\\\AppData\\\\Local\\\\Programs\\\\Python\\\\Python312\\\\Lib\\\\site-packages\\\\numpy\\\\_utils\\\\_convertions.py'>,\n",
       " 'numpy._utils': <module 'numpy._utils' from 'c:\\\\Users\\\\hnd4r7\\\\AppData\\\\Local\\\\Programs\\\\Python\\\\Python312\\\\Lib\\\\site-packages\\\\numpy\\\\_utils\\\\__init__.py'>,\n",
       " 'numpy._globals': <module 'numpy._globals' from 'c:\\\\Users\\\\hnd4r7\\\\AppData\\\\Local\\\\Programs\\\\Python\\\\Python312\\\\Lib\\\\site-packages\\\\numpy\\\\_globals.py'>,\n",
       " 'numpy._expired_attrs_2_0': <module 'numpy._expired_attrs_2_0' from 'c:\\\\Users\\\\hnd4r7\\\\AppData\\\\Local\\\\Programs\\\\Python\\\\Python312\\\\Lib\\\\site-packages\\\\numpy\\\\_expired_attrs_2_0.py'>,\n",
       " 'numpy.version': <module 'numpy.version' from 'c:\\\\Users\\\\hnd4r7\\\\AppData\\\\Local\\\\Programs\\\\Python\\\\Python312\\\\Lib\\\\site-packages\\\\numpy\\\\version.py'>,\n",
       " 'numpy._distributor_init': <module 'numpy._distributor_init' from 'c:\\\\Users\\\\hnd4r7\\\\AppData\\\\Local\\\\Programs\\\\Python\\\\Python312\\\\Lib\\\\site-packages\\\\numpy\\\\_distributor_init.py'>,\n",
       " 'numpy._utils._inspect': <module 'numpy._utils._inspect' from 'c:\\\\Users\\\\hnd4r7\\\\AppData\\\\Local\\\\Programs\\\\Python\\\\Python312\\\\Lib\\\\site-packages\\\\numpy\\\\_utils\\\\_inspect.py'>,\n",
       " 'numpy.exceptions': <module 'numpy.exceptions' from 'c:\\\\Users\\\\hnd4r7\\\\AppData\\\\Local\\\\Programs\\\\Python\\\\Python312\\\\Lib\\\\site-packages\\\\numpy\\\\exceptions.py'>,\n",
       " 'numpy._core._exceptions': <module 'numpy._core._exceptions' from 'c:\\\\Users\\\\hnd4r7\\\\AppData\\\\Local\\\\Programs\\\\Python\\\\Python312\\\\Lib\\\\site-packages\\\\numpy\\\\_core\\\\_exceptions.py'>,\n",
       " 'numpy.dtypes': <module 'numpy.dtypes' from 'c:\\\\Users\\\\hnd4r7\\\\AppData\\\\Local\\\\Programs\\\\Python\\\\Python312\\\\Lib\\\\site-packages\\\\numpy\\\\dtypes.py'>,\n",
       " 'numpy._core._multiarray_umath': <module 'numpy._core._multiarray_umath' from 'c:\\\\Users\\\\hnd4r7\\\\AppData\\\\Local\\\\Programs\\\\Python\\\\Python312\\\\Lib\\\\site-packages\\\\numpy\\\\_core\\\\_multiarray_umath.cp312-win_amd64.pyd'>,\n",
       " 'numpy._core.overrides': <module 'numpy._core.overrides' from 'c:\\\\Users\\\\hnd4r7\\\\AppData\\\\Local\\\\Programs\\\\Python\\\\Python312\\\\Lib\\\\site-packages\\\\numpy\\\\_core\\\\overrides.py'>,\n",
       " 'numpy._core.multiarray': <module 'numpy._core.multiarray' from 'c:\\\\Users\\\\hnd4r7\\\\AppData\\\\Local\\\\Programs\\\\Python\\\\Python312\\\\Lib\\\\site-packages\\\\numpy\\\\_core\\\\multiarray.py'>,\n",
       " 'numpy._core.umath': <module 'numpy._core.umath' from 'c:\\\\Users\\\\hnd4r7\\\\AppData\\\\Local\\\\Programs\\\\Python\\\\Python312\\\\Lib\\\\site-packages\\\\numpy\\\\_core\\\\umath.py'>,\n",
       " 'numpy._core._string_helpers': <module 'numpy._core._string_helpers' from 'c:\\\\Users\\\\hnd4r7\\\\AppData\\\\Local\\\\Programs\\\\Python\\\\Python312\\\\Lib\\\\site-packages\\\\numpy\\\\_core\\\\_string_helpers.py'>,\n",
       " 'numpy._core._type_aliases': <module 'numpy._core._type_aliases' from 'c:\\\\Users\\\\hnd4r7\\\\AppData\\\\Local\\\\Programs\\\\Python\\\\Python312\\\\Lib\\\\site-packages\\\\numpy\\\\_core\\\\_type_aliases.py'>,\n",
       " 'numpy._core._dtype': <module 'numpy._core._dtype' from 'c:\\\\Users\\\\hnd4r7\\\\AppData\\\\Local\\\\Programs\\\\Python\\\\Python312\\\\Lib\\\\site-packages\\\\numpy\\\\_core\\\\_dtype.py'>,\n",
       " 'numpy._core.numerictypes': <module 'numpy._core.numerictypes' from 'c:\\\\Users\\\\hnd4r7\\\\AppData\\\\Local\\\\Programs\\\\Python\\\\Python312\\\\Lib\\\\site-packages\\\\numpy\\\\_core\\\\numerictypes.py'>,\n",
       " 'numpy._core._ufunc_config': <module 'numpy._core._ufunc_config' from 'c:\\\\Users\\\\hnd4r7\\\\AppData\\\\Local\\\\Programs\\\\Python\\\\Python312\\\\Lib\\\\site-packages\\\\numpy\\\\_core\\\\_ufunc_config.py'>,\n",
       " 'numpy._core._methods': <module 'numpy._core._methods' from 'c:\\\\Users\\\\hnd4r7\\\\AppData\\\\Local\\\\Programs\\\\Python\\\\Python312\\\\Lib\\\\site-packages\\\\numpy\\\\_core\\\\_methods.py'>,\n",
       " 'numpy._core.fromnumeric': <module 'numpy._core.fromnumeric' from 'c:\\\\Users\\\\hnd4r7\\\\AppData\\\\Local\\\\Programs\\\\Python\\\\Python312\\\\Lib\\\\site-packages\\\\numpy\\\\_core\\\\fromnumeric.py'>,\n",
       " 'numpy._core.shape_base': <module 'numpy._core.shape_base' from 'c:\\\\Users\\\\hnd4r7\\\\AppData\\\\Local\\\\Programs\\\\Python\\\\Python312\\\\Lib\\\\site-packages\\\\numpy\\\\_core\\\\shape_base.py'>,\n",
       " 'numpy._core.arrayprint': <module 'numpy._core.arrayprint' from 'c:\\\\Users\\\\hnd4r7\\\\AppData\\\\Local\\\\Programs\\\\Python\\\\Python312\\\\Lib\\\\site-packages\\\\numpy\\\\_core\\\\arrayprint.py'>,\n",
       " 'numpy._core._asarray': <module 'numpy._core._asarray' from 'c:\\\\Users\\\\hnd4r7\\\\AppData\\\\Local\\\\Programs\\\\Python\\\\Python312\\\\Lib\\\\site-packages\\\\numpy\\\\_core\\\\_asarray.py'>,\n",
       " 'numpy._core.numeric': <module 'numpy._core.numeric' from 'c:\\\\Users\\\\hnd4r7\\\\AppData\\\\Local\\\\Programs\\\\Python\\\\Python312\\\\Lib\\\\site-packages\\\\numpy\\\\_core\\\\numeric.py'>,\n",
       " 'numpy._core.records': <module 'numpy._core.records' from 'c:\\\\Users\\\\hnd4r7\\\\AppData\\\\Local\\\\Programs\\\\Python\\\\Python312\\\\Lib\\\\site-packages\\\\numpy\\\\_core\\\\records.py'>,\n",
       " 'numpy._core.memmap': <module 'numpy._core.memmap' from 'c:\\\\Users\\\\hnd4r7\\\\AppData\\\\Local\\\\Programs\\\\Python\\\\Python312\\\\Lib\\\\site-packages\\\\numpy\\\\_core\\\\memmap.py'>,\n",
       " 'numpy._core.function_base': <module 'numpy._core.function_base' from 'c:\\\\Users\\\\hnd4r7\\\\AppData\\\\Local\\\\Programs\\\\Python\\\\Python312\\\\Lib\\\\site-packages\\\\numpy\\\\_core\\\\function_base.py'>,\n",
       " 'numpy._core._machar': <module 'numpy._core._machar' from 'c:\\\\Users\\\\hnd4r7\\\\AppData\\\\Local\\\\Programs\\\\Python\\\\Python312\\\\Lib\\\\site-packages\\\\numpy\\\\_core\\\\_machar.py'>,\n",
       " ...}"
      ]
     },
     "metadata": {},
     "output_type": "display_data"
    },
    {
     "ename": "",
     "evalue": "",
     "output_type": "error",
     "traceback": [
      "\u001b[1;31mThe Kernel crashed while executing code in the current cell or a previous cell. \n",
      "\n",
      "\u001b[1;31mPlease review the code in the cell(s) to identify a possible cause of the failure. \n",
      "\n",
      "\u001b[1;31mClick <a href='https://aka.ms/vscodeJupyterKernelCrash'>here</a> for more info. \n",
      "\n",
      "\u001b[1;31mView Jupyter <a href='command:jupyter.viewOutput'>log</a> for further details."
     ]
    }
   ],
   "source": [
    "import sys\n",
    "sys.modules"
   ]
  }
 ],
 "metadata": {
  "kernelspec": {
   "display_name": "Python 3",
   "language": "python",
   "name": "python3"
  },
  "language_info": {
   "codemirror_mode": {
    "name": "ipython",
    "version": 3
   },
   "file_extension": ".py",
   "mimetype": "text/x-python",
   "name": "python",
   "nbconvert_exporter": "python",
   "pygments_lexer": "ipython3",
   "version": "3.13.4"
  }
 },
 "nbformat": 4,
 "nbformat_minor": 5
}
