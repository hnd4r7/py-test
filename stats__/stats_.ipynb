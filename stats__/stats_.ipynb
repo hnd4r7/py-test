{
 "cells": [
  {
   "cell_type": "code",
   "execution_count": 2,
   "id": "81658ec3",
   "metadata": {},
   "outputs": [
    {
     "data": {
      "text/plain": [
       "np.float64(1.729171253112705)"
      ]
     },
     "execution_count": 2,
     "metadata": {},
     "output_type": "execute_result"
    }
   ],
   "source": [
    "import numpy as np\n",
    "import pandas as pd\n",
    "0.02/np.sqrt(0.86*(1-0.86)/900)"
   ]
  },
  {
   "cell_type": "code",
   "execution_count": 5,
   "id": "0072a310",
   "metadata": {},
   "outputs": [
    {
     "data": {
      "text/plain": [
       "np.float64(3.6719733361105322)"
      ]
     },
     "execution_count": 5,
     "metadata": {},
     "output_type": "execute_result"
    }
   ],
   "source": [
    "3.8 - 0.8 * 1.96 / np.sqrt(150)"
   ]
  },
  {
   "cell_type": "code",
   "execution_count": null,
   "id": "d70b9c61",
   "metadata": {},
   "outputs": [
    {
     "data": {
      "text/plain": [
       "np.float64(2.0058032272315023)"
      ]
     },
     "execution_count": 23,
     "metadata": {},
     "output_type": "execute_result"
    }
   ],
   "source": [
    "0.77 - 2.626 * np.sqrt(0.77*(1-0.77)/100)"
   ]
  },
  {
   "cell_type": "code",
   "execution_count": null,
   "id": "d1c0efe5",
   "metadata": {},
   "outputs": [
    {
     "data": {
      "text/plain": [
       "np.float64(2.0115217027124217)"
      ]
     },
     "execution_count": 24,
     "metadata": {},
     "output_type": "execute_result"
    }
   ],
   "source": [
    "# https://www.coursera.org/learn/basic-statistics/assignment-submission/fTKn3/confidence-intervals/attempt\n",
    "# 6\n",
    "from scipy.stats import t, norm\n",
    "t.ppf(0.95, df=87)\n",
    "2.1 - 1.66 * 0.5 / np.sqrt(88)"
   ]
  },
  {
   "cell_type": "code",
   "execution_count": null,
   "id": "1f1c3486",
   "metadata": {},
   "outputs": [
    {
     "data": {
      "text/plain": [
       "np.float64(2.5758293035489004)"
      ]
     },
     "execution_count": 25,
     "metadata": {},
     "output_type": "execute_result"
    }
   ],
   "source": [
    "# 99% confidence\n",
    "from scipy.stats import norm\n",
    "norm.ppf(1 - (1 - 0.99) / 2)"
   ]
  },
  {
   "cell_type": "code",
   "execution_count": 29,
   "id": "32dbee0f",
   "metadata": {},
   "outputs": [
    {
     "data": {
      "text/plain": [
       "np.float64(67.6385863523853)"
      ]
     },
     "execution_count": 29,
     "metadata": {},
     "output_type": "execute_result"
    }
   ],
   "source": [
    "# propotion\n",
    "from scipy.stats import norm\n",
    "z_score_confident_90  = norm.ppf(1 - (1 - 0.90) / 2)\n",
    "p = safe_approach_p = 0.5\n",
    "margin_of_error = 0.1\n",
    "X = z_score_confident_90 ** 2 * p * (1-p) / margin_of_error ** 2\n",
    "X"
   ]
  },
  {
   "cell_type": "code",
   "execution_count": 16,
   "id": "199919c2",
   "metadata": {},
   "outputs": [],
   "source": [
    "import  numpy as np\n",
    "m = {1:0.56 , 2:0.23 , 3:0.11 , 4:0.05 , 5:0.03 , 6:0.02}\n",
    "mu = 0\n",
    "for x, y in m.items():\n",
    "    mu += x * y\n",
    "mu\n",
    "std = np.sqrt(np.sum((np.array(list(m.keys())) - mu) ** 2 * np.array(list(m.values()))))\n",
    "# np.array([1,2,3]) * np.array([2,3,4])"
   ]
  },
  {
   "cell_type": "code",
   "execution_count": null,
   "id": "d0c7e396",
   "metadata": {},
   "outputs": [
    {
     "ename": "NameError",
     "evalue": "name 'jstd' is not defined",
     "output_type": "error",
     "traceback": [
      "\u001b[31m---------------------------------------------------------------------------\u001b[39m",
      "\u001b[31mNameError\u001b[39m                                 Traceback (most recent call last)",
      "\u001b[36mCell\u001b[39m\u001b[36m \u001b[39m\u001b[32mIn[19]\u001b[39m\u001b[32m, line 1\u001b[39m\n\u001b[32m----> \u001b[39m\u001b[32m1\u001b[39m \u001b[43mjstd\u001b[49m\n",
      "\u001b[31mNameError\u001b[39m: name 'jstd' is not defined"
     ]
    }
   ],
   "source": [
    "std"
   ]
  },
  {
   "cell_type": "code",
   "execution_count": 25,
   "id": "df1314dd",
   "metadata": {},
   "outputs": [
    {
     "data": {
      "text/plain": [
       "np.float64(0.030532900966334264)"
      ]
     },
     "execution_count": 25,
     "metadata": {},
     "output_type": "execute_result"
    }
   ],
   "source": [
    "from scipy.stats import norm\n",
    "z_score_confident_80  = norm.ppf(1 - (1 - 0.80) / 2)\n",
    "std_err = z_score_confident_80 * (np.sqrt(0.23*(1-0.23) / 312))\n",
    "std_err"
   ]
  },
  {
   "cell_type": "code",
   "execution_count": 24,
   "id": "fd7a295f",
   "metadata": {},
   "outputs": [
    {
     "name": "stdout",
     "output_type": "stream",
     "text": [
      "Z-score: 1.2816\n",
      "Standard error: 0.0305\n"
     ]
    }
   ],
   "source": [
    "from scipy.stats import norm\n",
    "import numpy as np\n",
    "\n",
    "# Z-score for 80% confidence interval (two-tailed)\n",
    "z_score_confident_80 = norm.ppf(1 - (1 - 0.80) / 2)\n",
    "\n",
    "# Standard error for proportion\n",
    "p = 0.23  # sample proportion\n",
    "n = 312   # sample size\n",
    "std_err = z_score_confident_80 * (np.sqrt(p * (1 - p) / n))\n",
    "\n",
    "print(f\"Z-score: {z_score_confident_80:.4f}\")\n",
    "print(f\"Standard error: {std_err:.4f}\")"
   ]
  },
  {
   "cell_type": "code",
   "execution_count": null,
   "id": "35c8e0aa",
   "metadata": {},
   "outputs": [],
   "source": []
  }
 ],
 "metadata": {
  "kernelspec": {
   "display_name": "Python 3",
   "language": "python",
   "name": "python3"
  },
  "language_info": {
   "codemirror_mode": {
    "name": "ipython",
    "version": 3
   },
   "file_extension": ".py",
   "mimetype": "text/x-python",
   "name": "python",
   "nbconvert_exporter": "python",
   "pygments_lexer": "ipython3",
   "version": "3.13.4"
  }
 },
 "nbformat": 4,
 "nbformat_minor": 5
}
