{
 "cells": [
  {
   "cell_type": "code",
   "execution_count": 2,
   "metadata": {},
   "outputs": [],
   "source": [
    "from sympy import *\n",
    "x, y, z = symbols(\"x,y,z\")"
   ]
  },
  {
   "cell_type": "code",
   "execution_count": 16,
   "metadata": {},
   "outputs": [
    {
     "data": {
      "text/latex": [
       "$\\displaystyle \\left(x - y\\right) \\left(x + y\\right)$"
      ],
      "text/plain": [
       "(x - y)*(x + y)"
      ]
     },
     "execution_count": 16,
     "metadata": {},
     "output_type": "execute_result"
    }
   ],
   "source": [
    "(x**2 - y**2).factor()\n",
    "# (x**2 - y**2).subs((x,y),(1,2))"
   ]
  },
  {
   "cell_type": "code",
   "execution_count": 6,
   "metadata": {},
   "outputs": [
    {
     "data": {
      "text/latex": [
       "$\\displaystyle x^{2} - y^{2}$"
      ],
      "text/plain": [
       "x**2 - y**2"
      ]
     },
     "execution_count": 6,
     "metadata": {},
     "output_type": "execute_result"
    }
   ],
   "source": [
    "(x**2 - y**2).simplify()\n"
   ]
  },
  {
   "cell_type": "code",
   "execution_count": 13,
   "metadata": {},
   "outputs": [
    {
     "data": {
      "text/latex": [
       "$\\displaystyle - b + \\left(b + 1\\right)^{2} - 2$"
      ],
      "text/plain": [
       "-b + (b + 1)**2 - 2"
      ]
     },
     "execution_count": 13,
     "metadata": {},
     "output_type": "execute_result"
    }
   ],
   "source": [
    "from sympy import *\n",
    "a = symbols('a')\n",
    "b = symbols('b')\n",
    "expression = a**2 - a - 1\n",
    "expression.subs(a, b+1)"
   ]
  },
  {
   "cell_type": "code",
   "execution_count": 17,
   "metadata": {},
   "outputs": [
    {
     "data": {
      "text/plain": [
       "'1.0'"
      ]
     },
     "execution_count": 17,
     "metadata": {},
     "output_type": "execute_result"
    }
   ],
   "source": [
    "x = 1012 / 2\n",
    "y = x**0\n",
    "str(y)"
   ]
  },
  {
   "cell_type": "code",
   "execution_count": 19,
   "metadata": {},
   "outputs": [
    {
     "data": {
      "text/latex": [
       "$\\displaystyle 2.23606797749979$"
      ],
      "text/plain": [
       "2.23606797749979"
      ]
     },
     "execution_count": 19,
     "metadata": {},
     "output_type": "execute_result"
    }
   ],
   "source": [
    "from sympy import *\n",
    "x = sqrt(5)\n",
    "x.evalf()"
   ]
  },
  {
   "cell_type": "code",
   "execution_count": null,
   "metadata": {},
   "outputs": [],
   "source": [
    "%pylab"
   ]
  },
  {
   "cell_type": "code",
   "execution_count": null,
   "metadata": {},
   "outputs": [],
   "source": [
    "np.array"
   ]
  },
  {
   "cell_type": "code",
   "execution_count": 1,
   "metadata": {},
   "outputs": [
    {
     "name": "stdout",
     "output_type": "stream",
     "text": [
      "12.5\n"
     ]
    }
   ],
   "source": [
    "class SimpleDI:\n",
    "    def __init__(self):\n",
    "        self._providers = {}\n",
    "\n",
    "    def provide(self, func):\n",
    "        \"\"\"Register a function to be injected as a provider.\"\"\"\n",
    "        self._providers[func.__name__] = func\n",
    "        return func\n",
    "\n",
    "    def resolve(self, func, *args, **kwargs):\n",
    "        \"\"\"Resolve a function with its dependencies.\"\"\"\n",
    "        # Get the function's signature\n",
    "        from inspect import signature\n",
    "\n",
    "        sig = signature(func)\n",
    "        resolved_args = []\n",
    "        \n",
    "        # Iterate over the function's parameters\n",
    "        for param in sig.parameters.values():\n",
    "            param_name = param.name\n",
    "            if param_name in kwargs:\n",
    "                resolved_args.append(kwargs[param_name])\n",
    "            elif param_name in self._providers:\n",
    "                # Resolve the dependency by calling the registered function\n",
    "                resolved_args.append(self._providers[param_name]())\n",
    "            else:\n",
    "                # If no dependency is found, use the provided argument\n",
    "                resolved_args.append(args.pop(0) if args else None)\n",
    "\n",
    "        return func(*resolved_args, **kwargs)\n",
    "\n",
    "# Example usage:\n",
    "\n",
    "di = SimpleDI()\n",
    "\n",
    "# Functions with dependencies\n",
    "@di.provide\n",
    "def a():\n",
    "    return 10\n",
    "\n",
    "@di.provide\n",
    "def b():\n",
    "    return 5\n",
    "\n",
    "@di.provide\n",
    "def c(a, b):\n",
    "    return a + (b / 2)\n",
    "\n",
    "# Resolve and execute the function `c`\n",
    "result = di.resolve(c)\n",
    "print(result)  # Output: 12.5 (since 10 + 5 / 2 = 12.5)\n"
   ]
  },
  {
   "cell_type": "code",
   "execution_count": null,
   "metadata": {},
   "outputs": [],
   "source": [
    "import setuptools\n",
    "setuptools.setup()"
   ]
  }
 ],
 "metadata": {
  "kernelspec": {
   "display_name": "Python 3",
   "language": "python",
   "name": "python3"
  },
  "language_info": {
   "codemirror_mode": {
    "name": "ipython",
    "version": 3
   },
   "file_extension": ".py",
   "mimetype": "text/x-python",
   "name": "python",
   "nbconvert_exporter": "python",
   "pygments_lexer": "ipython3",
   "version": "3.12.6"
  },
  "orig_nbformat": 4
 },
 "nbformat": 4,
 "nbformat_minor": 2
}
